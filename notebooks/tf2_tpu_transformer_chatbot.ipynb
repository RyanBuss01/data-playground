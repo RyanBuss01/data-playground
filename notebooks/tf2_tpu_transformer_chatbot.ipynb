{
  "cells": [
    {
      "cell_type": "markdown",
      "metadata": {
        "id": "nd8ddC7NQ8uZ",
        "pycharm": {
          "name": "#%% md\n"
        }
      },
      "source": [
        "# Transformer Chatbot"
      ]
    },
    {
      "cell_type": "markdown",
      "metadata": {
        "id": "YcK7-_3RxRvK",
        "pycharm": {
          "name": "#%% md\n"
        }
      },
      "source": [
        "<table class=\"tfo-notebook-buttons\" align=\"left\">\n",
        "  <td>\n",
        "    <a target=\"_blank\" href=\"https://colab.research.google.com/github/bryanlimy/tf2-transformer-chatbot/blob/main/tf2_tpu_transformer_chatbot.ipynb\"><img src=\"https://www.tensorflow.org/images/colab_logo_32px.png\" />Run in Google Colab</a>\n",
        "  </td>\n",
        "  <td>\n",
        "    <a target=\"_blank\" href=\"https://github.com/bryanlimy/tf2-transformer-chatbot/blob/main/tf2_tpu_transformer_chatbot.ipynb\"><img src=\"https://www.tensorflow.org/images/GitHub-Mark-32px.png\" />View source on GitHub</a>\n",
        "  </td>\n",
        "</table>"
      ]
    },
    {
      "cell_type": "markdown",
      "metadata": {
        "id": "rHMPkA2eQrpT",
        "pycharm": {
          "name": "#%% md\n"
        }
      },
      "source": [
        "This tutorial trains a <a href=\"https://arxiv.org/abs/1706.03762\" class=\"external\">Transformer model</a> to be a chatbot. This is an advanced example that assumes knowledge of [text generation](https://tensorflow.org/alpha/tutorials/text/text_generation), [attention](https://www.tensorflow.org/alpha/tutorials/text/nmt_with_attention) and [transformer](https://www.tensorflow.org/alpha/tutorials/text/transformer).\n",
        "\n",
        "The core idea behind the Transformer model is *self-attention*—the ability to attend to different positions of the input sequence to compute a representation of that sequence. Transformer creates stacks of self-attention layers and is explained below in the sections *Scaled dot product attention* and *Multi-head attention*.\n",
        "\n",
        "Note: The model architecture is identical to the example in [Transformer model for language understanding](https://www.tensorflow.org/alpha/tutorials/text/transformer), and we demonstrate how to implement the same model in the Functional approach instead of Subclassing."
      ]
    },
    {
      "cell_type": "code",
      "execution_count": 1,
      "metadata": {
        "colab": {
          "base_uri": "https://localhost:8080/"
        },
        "id": "mb_5bl7G_n30",
        "outputId": "f5efb05f-1816-4b06-fc2b-e0f1b49c9d0d",
        "pycharm": {
          "name": "#%%\n"
        }
      },
      "outputs": [
        {
          "name": "stdout",
          "output_type": "stream",
          "text": [
            "Tensorflow version 2.10.0\n"
          ]
        }
      ],
      "source": [
        "\n",
        "from __future__ import absolute_import, division, print_function, unicode_literals\n",
        "\n",
        "import sys\n",
        "\n",
        "import os\n",
        "import re\n",
        "import numpy as np\n",
        "from time import time\n",
        "import tensorflow as tf\n",
        "import matplotlib.pyplot as plt\n",
        "import tensorflow_datasets as tfds\n",
        "\n",
        "tf.keras.utils.set_random_seed(1234)\n",
        "\n",
        "print(f\"Tensorflow version {tf.__version__}\")"
      ]
    },
    {
      "cell_type": "markdown",
      "metadata": {
        "id": "-YXFrSnNE_2j",
        "pycharm": {
          "name": "#%% md\n"
        }
      },
      "source": [
        "### GPU / TPU initialization\n",
        "\n",
        "On Google Colab, select `TPU` or `GPU` hardware accelerator.\n"
      ]
    },
    {
      "cell_type": "code",
      "execution_count": 2,
      "metadata": {
        "colab": {
          "base_uri": "https://localhost:8080/"
        },
        "id": "Rz2ZbpAREmRA",
        "outputId": "976f68bd-ffa1-492b-d1e8-410b29858ef6",
        "pycharm": {
          "name": "#%%\n"
        }
      },
      "outputs": [
        {
          "name": "stdout",
          "output_type": "stream",
          "text": [
            "REPLICAS: 1\n"
          ]
        }
      ],
      "source": [
        "try:\n",
        "    tpu = tf.distribute.cluster_resolver.TPUClusterResolver()\n",
        "    print(\"Running on TPU {}\".format(tpu.cluster_spec().as_dict()[\"worker\"]))\n",
        "except ValueError:\n",
        "    tpu = None\n",
        "\n",
        "if tpu:\n",
        "    tf.config.experimental_connect_to_cluster(tpu)\n",
        "    tf.tpu.experimental.initialize_tpu_system(tpu)\n",
        "    strategy = tf.distribute.experimental.TPUStrategy(tpu)\n",
        "else:\n",
        "    strategy = tf.distribute.get_strategy()\n",
        "\n",
        "print(f\"REPLICAS: {strategy.num_replicas_in_sync}\")"
      ]
    },
    {
      "cell_type": "markdown",
      "metadata": {
        "id": "skMfzRV5cEnb",
        "pycharm": {
          "name": "#%% md\n"
        }
      },
      "source": [
        "## Hyperparameters\n",
        "\n",
        "To keep this example small and relatively fast, the values for *num_layers, d_model, and units* have been reduced. See the [paper](https://arxiv.org/abs/1706.03762) for all the other versions of the transformer."
      ]
    },
    {
      "cell_type": "code",
      "execution_count": 49,
      "metadata": {
        "id": "alnYEatYcHp7",
        "pycharm": {
          "name": "#%%\n"
        }
      },
      "outputs": [],
      "source": [
        "# Maximum sentence length\n",
        "MAX_LENGTH = 40\n",
        "\n",
        "# Maximum number of samples to preprocess\n",
        "MAX_SAMPLES = 50000\n",
        "\n",
        "# For tf.data.Dataset\n",
        "BATCH_SIZE = 64 * strategy.num_replicas_in_sync\n",
        "BUFFER_SIZE = 20000\n",
        "\n",
        "# For Transformer\n",
        "NUM_LAYERS = 2\n",
        "D_MODEL = 256\n",
        "NUM_HEADS = 8\n",
        "UNITS = 512\n",
        "DROPOUT = 0.1\n",
        "\n",
        "EPOCHS = 80"
      ]
    },
    {
      "cell_type": "markdown",
      "metadata": {
        "id": "y0AqALdZCbCW",
        "pycharm": {
          "name": "#%% md\n"
        }
      },
      "source": [
        "## Prepare Dataset"
      ]
    },
    {
      "cell_type": "markdown",
      "metadata": {
        "id": "awb4RH3XCobf",
        "pycharm": {
          "name": "#%% md\n"
        }
      },
      "source": [
        "We will use the conversations in movies and TV shows provided by [Cornell Movie-Dialogs Corpus](https://www.cs.cornell.edu/~cristian/Cornell_Movie-Dialogs_Corpus.html), which contains more than 220 thousands conversational exchanges between more than 10k pairs of movie characters, as our dataset.\n",
        "\n",
        "`movie_conversations.txt` contains list of the conversation IDs and `movie_lines.text` contains the text of assoicated with each conversation ID. For further  information regarding the dataset, please check the README file in the zip file.\n"
      ]
    },
    {
      "cell_type": "code",
      "execution_count": 45,
      "metadata": {
        "id": "S17Nfn6W_vhd",
        "pycharm": {
          "name": "#%%\n"
        }
      },
      "outputs": [],
      "source": [
        "path_to_zip = tf.keras.utils.get_file(\n",
        "    \"cornell_movie_dialogs.zip\",\n",
        "    origin=\"http://www.cs.cornell.edu/~cristian/data/cornell_movie_dialogs_corpus.zip\",\n",
        "    extract=True,\n",
        ")\n",
        "\n",
        "path_to_dataset = os.path.join(\n",
        "    os.path.dirname(path_to_zip), \"cornell movie-dialogs corpus\"\n",
        ")\n",
        "\n",
        "path_to_movie_lines = os.path.join(path_to_dataset, \"movie_lines.txt\")\n",
        "path_to_movie_conversations = os.path.join(path_to_dataset, \"movie_conversations.txt\")"
      ]
    },
    {
      "cell_type": "markdown",
      "metadata": {
        "id": "iZMuzj0cVr3E",
        "pycharm": {
          "name": "#%% md\n"
        }
      },
      "source": [
        "### Load and preprocess data\n",
        "\n",
        "To keep this example simple and fast, we are limiting the maximum number of training samples to`MAX_SAMPLES=25000` and the maximum length of the sentence to be `MAX_LENGTH=40`.\n",
        "\n",
        "We preprocess our dataset in the following order:\n",
        "* Extract `MAX_SAMPLES` conversation pairs into list of `questions` and `answers.\n",
        "* Preprocess each sentence by removing special characters in each sentence.\n",
        "* Build tokenizer (map text to ID and ID to text) using [TensorFlow Datasets SubwordTextEncoder](https://www.tensorflow.org/datasets/api_docs/python/tfds/features/text/SubwordTextEncoder).\n",
        "* Tokenize each sentence and add `START_TOKEN` and `END_TOKEN` to indicate the start and end of each sentence.\n",
        "* Filter out sentence that has more than `MAX_LENGTH` tokens.\n",
        "* Pad tokenized sentences to `MAX_LENGTH`\n",
        "\n"
      ]
    },
    {
      "cell_type": "code",
      "execution_count": 46,
      "metadata": {
        "id": "_B147qKb_0ks",
        "pycharm": {
          "name": "#%%\n"
        }
      },
      "outputs": [],
      "source": [
        "def preprocess_sentence(sentence):\n",
        "    sentence = sentence.lower().strip()\n",
        "    # creating a space between a word and the punctuation following it\n",
        "    # eg: \"he is a boy.\" => \"he is a boy .\"\n",
        "    sentence = re.sub(r\"([?.!,])\", r\" \\1 \", sentence)\n",
        "    sentence = re.sub(r'[\" \"]+', \" \", sentence)\n",
        "    # removing contractions\n",
        "    sentence = re.sub(r\"i'm\", \"i am\", sentence)\n",
        "    sentence = re.sub(r\"he's\", \"he is\", sentence)\n",
        "    sentence = re.sub(r\"she's\", \"she is\", sentence)\n",
        "    sentence = re.sub(r\"it's\", \"it is\", sentence)\n",
        "    sentence = re.sub(r\"that's\", \"that is\", sentence)\n",
        "    sentence = re.sub(r\"what's\", \"that is\", sentence)\n",
        "    sentence = re.sub(r\"where's\", \"where is\", sentence)\n",
        "    sentence = re.sub(r\"how's\", \"how is\", sentence)\n",
        "    sentence = re.sub(r\"\\'ll\", \" will\", sentence)\n",
        "    sentence = re.sub(r\"\\'ve\", \" have\", sentence)\n",
        "    sentence = re.sub(r\"\\'re\", \" are\", sentence)\n",
        "    sentence = re.sub(r\"\\'d\", \" would\", sentence)\n",
        "    sentence = re.sub(r\"\\'re\", \" are\", sentence)\n",
        "    sentence = re.sub(r\"won't\", \"will not\", sentence)\n",
        "    sentence = re.sub(r\"can't\", \"cannot\", sentence)\n",
        "    sentence = re.sub(r\"n't\", \" not\", sentence)\n",
        "    sentence = re.sub(r\"n'\", \"ng\", sentence)\n",
        "    sentence = re.sub(r\"'bout\", \"about\", sentence)\n",
        "    # replacing everything with space except (a-z, A-Z, \".\", \"?\", \"!\", \",\")\n",
        "    sentence = re.sub(r\"[^a-zA-Z?.!,]+\", \" \", sentence)\n",
        "    sentence = sentence.strip()\n",
        "    return sentence\n",
        "\n",
        "\n",
        "def load_conversations():\n",
        "    # dictionary of line id to text\n",
        "    id2line = {}\n",
        "    with open(path_to_movie_lines, errors=\"ignore\") as file:\n",
        "        lines = file.readlines()\n",
        "    for line in lines:\n",
        "        parts = line.replace(\"\\n\", \"\").split(\" +++$+++ \")\n",
        "        id2line[parts[0]] = parts[4]\n",
        "\n",
        "    inputs, outputs = [], []\n",
        "    with open(path_to_movie_conversations, \"r\") as file:\n",
        "        lines = file.readlines()\n",
        "    for line in lines:\n",
        "        parts = line.replace(\"\\n\", \"\").split(\" +++$+++ \")\n",
        "        # get conversation in a list of line ID\n",
        "        conversation = [line[1:-1] for line in parts[3][1:-1].split(\", \")]\n",
        "        for i in range(len(conversation) - 1):\n",
        "            inputs.append(preprocess_sentence(id2line[conversation[i]]))\n",
        "            outputs.append(preprocess_sentence(id2line[conversation[i + 1]]))\n",
        "            if len(inputs) >= MAX_SAMPLES:\n",
        "                return inputs, outputs\n",
        "    return inputs, outputs\n",
        "\n",
        "\n",
        "questions, answers = load_conversations()"
      ]
    },
    {
      "cell_type": "code",
      "execution_count": 47,
      "metadata": {
        "colab": {
          "base_uri": "https://localhost:8080/"
        },
        "id": "mfOOK5f7Wm6c",
        "outputId": "ebebfccc-d9c3-443a-81e0-d96b1bbdaecb",
        "pycharm": {
          "name": "#%%\n"
        }
      },
      "outputs": [
        {
          "name": "stdout",
          "output_type": "stream",
          "text": [
            "Sample question: i really , really , really wanna go , but i cannot . not unless my sister goes .\n",
            "Sample answer: i am working on it . but she does not seem to be going for him .\n"
          ]
        }
      ],
      "source": [
        "print(f\"Sample question: {questions[20]}\")\n",
        "print(f\"Sample answer: {answers[20]}\")"
      ]
    },
    {
      "cell_type": "code",
      "execution_count": 48,
      "metadata": {
        "id": "s6XX2udMTCQt",
        "pycharm": {
          "name": "#%%\n"
        }
      },
      "outputs": [],
      "source": [
        "# Build tokenizer using tfds for both questions and answers\n",
        "tokenizer = tfds.deprecated.text.SubwordTextEncoder.build_from_corpus(\n",
        "    questions + answers, target_vocab_size=2**13\n",
        ")\n",
        "\n",
        "# Define start and end token to indicate the start and end of a sentence\n",
        "START_TOKEN, END_TOKEN = [tokenizer.vocab_size], [tokenizer.vocab_size + 1]\n",
        "\n",
        "# Vocabulary size plus start and end token\n",
        "VOCAB_SIZE = tokenizer.vocab_size + 2"
      ]
    },
    {
      "cell_type": "code",
      "execution_count": 50,
      "metadata": {
        "colab": {
          "base_uri": "https://localhost:8080/"
        },
        "id": "h5h8pvRUTFt5",
        "outputId": "0fe82ad6-3e84-4a3d-e5d6-1c4fdb1a6fb4",
        "pycharm": {
          "name": "#%%\n"
        }
      },
      "outputs": [
        {
          "name": "stdout",
          "output_type": "stream",
          "text": [
            "Tokenized sample question: [4, 271, 3, 271, 3, 141, 385, 173, 3, 40, 4, 611, 2, 11, 864, 30, 2021, 3086, 1]\n"
          ]
        }
      ],
      "source": [
        "print(f\"Tokenized sample question: {tokenizer.encode(questions[20])}\")"
      ]
    },
    {
      "cell_type": "code",
      "execution_count": 51,
      "metadata": {
        "id": "YESTPgeg_XgT",
        "pycharm": {
          "name": "#%%\n"
        }
      },
      "outputs": [],
      "source": [
        "# Tokenize, filter and pad sentences\n",
        "def tokenize_and_filter(inputs, outputs):\n",
        "    tokenized_inputs, tokenized_outputs = [], []\n",
        "\n",
        "    for (sentence1, sentence2) in zip(inputs, outputs):\n",
        "        # tokenize sentence\n",
        "        sentence1 = START_TOKEN + tokenizer.encode(sentence1) + END_TOKEN\n",
        "        sentence2 = START_TOKEN + tokenizer.encode(sentence2) + END_TOKEN\n",
        "        # check tokenized sentence max length\n",
        "        if len(sentence1) <= MAX_LENGTH and len(sentence2) <= MAX_LENGTH:\n",
        "            tokenized_inputs.append(sentence1)\n",
        "            tokenized_outputs.append(sentence2)\n",
        "\n",
        "    # pad tokenized sentences\n",
        "    tokenized_inputs = tf.keras.preprocessing.sequence.pad_sequences(\n",
        "        tokenized_inputs, maxlen=MAX_LENGTH, padding=\"post\"\n",
        "    )\n",
        "    tokenized_outputs = tf.keras.preprocessing.sequence.pad_sequences(\n",
        "        tokenized_outputs, maxlen=MAX_LENGTH, padding=\"post\"\n",
        "    )\n",
        "\n",
        "    return tokenized_inputs, tokenized_outputs\n",
        "\n",
        "\n",
        "questions, answers = tokenize_and_filter(questions, answers)"
      ]
    },
    {
      "cell_type": "code",
      "execution_count": 52,
      "metadata": {
        "colab": {
          "base_uri": "https://localhost:8080/"
        },
        "id": "pohHm8IRWlIH",
        "outputId": "fea76d83-a7d3-4a9e-8aef-a5fd07fdc6dd",
        "pycharm": {
          "name": "#%%\n"
        }
      },
      "outputs": [
        {
          "name": "stdout",
          "output_type": "stream",
          "text": [
            "Vocab size: 8279\n",
            "Number of samples: 44131\n"
          ]
        }
      ],
      "source": [
        "print(f\"Vocab size: {VOCAB_SIZE}\")\n",
        "print(f\"Number of samples: {len(questions)}\")"
      ]
    },
    {
      "cell_type": "markdown",
      "metadata": {
        "id": "S50jT4upWh5c",
        "pycharm": {
          "name": "#%% md\n"
        }
      },
      "source": [
        "### Create `tf.data.Dataset`\n",
        "\n",
        "We are going to use the [tf.data.Dataset API](https://www.tensorflow.org/api_docs/python/tf/data) to contruct our input pipline in order to utilize features like caching and prefetching to speed up the training process.\n",
        "\n",
        "The transformer is an auto-regressive model: it makes predictions one part at a time, and uses its output so far to decide what to do next.\n",
        "\n",
        "During training this example uses teacher-forcing. Teacher forcing is passing the true output to the next time step regardless of what the model predicts at the current time step.\n",
        "\n",
        "As the transformer predicts each word, self-attention allows it to look at the previous words in the input sequence to better predict the next word.\n",
        "\n",
        "To prevent the model from peaking at the expected output the model uses a look-ahead mask.\n",
        "\n",
        "Target is divided into `decoder_inputs` which padded as an input to the decoder and `cropped_targets` for calculating our loss and accuracy."
      ]
    },
    {
      "cell_type": "code",
      "execution_count": 53,
      "metadata": {
        "id": "pttC3XxgAXWQ",
        "pycharm": {
          "name": "#%%\n"
        }
      },
      "outputs": [],
      "source": [
        "# decoder inputs use the previous target as input\n",
        "# remove START_TOKEN from targets\n",
        "dataset = tf.data.Dataset.from_tensor_slices(\n",
        "    (\n",
        "        {\"inputs\": questions, \"dec_inputs\": answers[:, :-1]},\n",
        "        {\"outputs\": answers[:, 1:]},\n",
        "    )\n",
        ")\n",
        "\n",
        "dataset = dataset.cache()\n",
        "dataset = dataset.shuffle(BUFFER_SIZE)\n",
        "dataset = dataset.batch(BATCH_SIZE)\n",
        "dataset = dataset.prefetch(tf.data.AUTOTUNE)"
      ]
    },
    {
      "cell_type": "code",
      "execution_count": 54,
      "metadata": {
        "colab": {
          "base_uri": "https://localhost:8080/"
        },
        "id": "mU8yNWpwPlS7",
        "outputId": "c6d8df7d-3f81-48d6-a08e-e454ae175c04",
        "pycharm": {
          "name": "#%%\n"
        }
      },
      "outputs": [
        {
          "name": "stdout",
          "output_type": "stream",
          "text": [
            "<PrefetchDataset element_spec=({'inputs': TensorSpec(shape=(None, 40), dtype=tf.int32, name=None), 'dec_inputs': TensorSpec(shape=(None, 39), dtype=tf.int32, name=None)}, {'outputs': TensorSpec(shape=(None, 39), dtype=tf.int32, name=None)})>\n"
          ]
        }
      ],
      "source": [
        "print(dataset)"
      ]
    },
    {
      "cell_type": "markdown",
      "metadata": {
        "id": "s9eeMPjGXmI1",
        "pycharm": {
          "name": "#%% md\n"
        }
      },
      "source": [
        "## Attention\n",
        "\n"
      ]
    },
    {
      "cell_type": "markdown",
      "metadata": {
        "id": "uctkwvPZVSzu",
        "pycharm": {
          "name": "#%% md\n"
        }
      },
      "source": [
        "### Scaled dot product Attention\n",
        "\n",
        "The scaled dot-product attention function used by the transformer takes three inputs: Q (query), K (key), V (value). The equation used to calculate the attention weights is:\n",
        "\n",
        "$$\\Large{Attention(Q, K, V) = softmax_k(\\frac{QK^T}{\\sqrt{d_k}}) V} $$\n",
        "\n",
        "As the softmax normalization is done on the `key`, its values decide the amount of importance given to the `query`.\n",
        "\n",
        "The output represents the multiplication of the attention weights and the `value` vector. This ensures that the words we want to focus on are kept as is and the irrelevant words are flushed out.\n",
        "\n",
        "The dot-product attention is scaled by a factor of square root of the depth. This is done because for large values of depth, the dot product grows large in magnitude pushing the softmax function where it has small gradients resulting in a very hard softmax. \n",
        "\n",
        "For example, consider that `query` and `key` have a mean of 0 and variance of 1. Their matrix multiplication will have a mean of 0 and variance of `dk`. Hence, *square root of `dk`* is used for scaling (and not any other number) because the matmul of `query` and `key` should have a mean of 0 and variance of 1, so that we get a gentler softmax.\n",
        "\n",
        "The mask is multiplied with *-1e9 (close to negative infinity).* This is done because the mask is summed with the scaled matrix multiplication of `query` and `key` and is applied immediately before a softmax. The goal is to zero out these cells, and large negative inputs to softmax are near zero in the output."
      ]
    },
    {
      "cell_type": "code",
      "execution_count": 55,
      "metadata": {
        "id": "ENfqAFna_50H",
        "pycharm": {
          "name": "#%%\n"
        }
      },
      "outputs": [],
      "source": [
        "def scaled_dot_product_attention(query, key, value, mask):\n",
        "    \"\"\"Calculate the attention weights.\"\"\"\n",
        "    matmul_qk = tf.matmul(query, key, transpose_b=True)\n",
        "\n",
        "    # scale matmul_qk\n",
        "    depth = tf.cast(tf.shape(key)[-1], tf.float32)\n",
        "    logits = matmul_qk / tf.math.sqrt(depth)\n",
        "\n",
        "    # add the mask to zero out padding tokens\n",
        "    if mask is not None:\n",
        "        logits += mask * -1e9\n",
        "\n",
        "    # softmax is normalized on the last axis (seq_len_k)\n",
        "    attention_weights = tf.nn.softmax(logits, axis=-1)\n",
        "\n",
        "    output = tf.matmul(attention_weights, value)\n",
        "\n",
        "    return output"
      ]
    },
    {
      "cell_type": "markdown",
      "metadata": {
        "id": "XwmOB9HvVbyh",
        "pycharm": {
          "name": "#%% md\n"
        }
      },
      "source": [
        "### Multi-head attention\n",
        "\n",
        "<img src=\"https://www.tensorflow.org/images/tutorials/transformer/multi_head_attention.png\" width=\"500\" alt=\"multi-head attention\">\n",
        "\n",
        "\n",
        "Multi-head attention consists of four parts:\n",
        "* Linear layers and split into heads.\n",
        "* Scaled dot-product attention.\n",
        "* Concatenation of heads.\n",
        "* Final linear layer.\n",
        "\n",
        "Each multi-head attention block gets three inputs; Q (query), K (key), V (value). These are put through linear (Dense) layers and split up into multiple heads. \n",
        "\n",
        "The `scaled_dot_product_attention` defined above is applied to each head (broadcasted for efficiency). An appropriate mask must be used in the attention step.  The attention output for each head is then concatenated (using `tf.transpose`, and `tf.reshape`) and put through a final `Dense` layer.\n",
        "\n",
        "Instead of one single attention head, `query`, `key`, and `value` are split into multiple heads because it allows the model to jointly attend to information at different positions from different representational spaces. After the split each head has a reduced dimensionality, so the total computation cost is the same as a single head attention with full dimensionality."
      ]
    },
    {
      "cell_type": "code",
      "execution_count": 56,
      "metadata": {
        "id": "L9eYssGIAG4h",
        "pycharm": {
          "name": "#%%\n"
        }
      },
      "outputs": [],
      "source": [
        "class MultiHeadAttentionLayer(tf.keras.layers.Layer):\n",
        "    def __init__(self, d_model, num_heads, **kwargs):\n",
        "        assert d_model % num_heads == 0\n",
        "        super(MultiHeadAttentionLayer, self).__init__(**kwargs)\n",
        "        self.num_heads = num_heads\n",
        "        self.d_model = d_model\n",
        "\n",
        "        self.depth = d_model // self.num_heads\n",
        "\n",
        "        self.query_dense = tf.keras.layers.Dense(units=d_model)\n",
        "        self.key_dense = tf.keras.layers.Dense(units=d_model)\n",
        "        self.value_dense = tf.keras.layers.Dense(units=d_model)\n",
        "\n",
        "        self.dense = tf.keras.layers.Dense(units=d_model)\n",
        "\n",
        "    def get_config(self):\n",
        "        config = super(MultiHeadAttentionLayer, self).get_config()\n",
        "        config.update(\n",
        "            {\n",
        "                \"num_heads\": self.num_heads,\n",
        "                \"d_model\": self.d_model,\n",
        "            }\n",
        "        )\n",
        "        return config\n",
        "\n",
        "    def split_heads(self, inputs, batch_size):\n",
        "        inputs = tf.keras.layers.Lambda(\n",
        "            lambda inputs: tf.reshape(\n",
        "                inputs, shape=(batch_size, -1, self.num_heads, self.depth)\n",
        "            )\n",
        "        )(inputs)\n",
        "        return tf.keras.layers.Lambda(\n",
        "            lambda inputs: tf.transpose(inputs, perm=[0, 2, 1, 3])\n",
        "        )(inputs)\n",
        "\n",
        "    def call(self, inputs):\n",
        "        query, key, value, mask = (\n",
        "            inputs[\"query\"],\n",
        "            inputs[\"key\"],\n",
        "            inputs[\"value\"],\n",
        "            inputs[\"mask\"],\n",
        "        )\n",
        "        batch_size = tf.shape(query)[0]\n",
        "\n",
        "        # linear layers\n",
        "        query = self.query_dense(query)\n",
        "        key = self.key_dense(key)\n",
        "        value = self.value_dense(value)\n",
        "\n",
        "        # split heads\n",
        "        query = self.split_heads(query, batch_size)\n",
        "        key = self.split_heads(key, batch_size)\n",
        "        value = self.split_heads(value, batch_size)\n",
        "\n",
        "        # scaled dot-product attention\n",
        "        scaled_attention = scaled_dot_product_attention(query, key, value, mask)\n",
        "        scaled_attention = tf.keras.layers.Lambda(\n",
        "            lambda scaled_attention: tf.transpose(scaled_attention, perm=[0, 2, 1, 3])\n",
        "        )(scaled_attention)\n",
        "\n",
        "        # concatenation of heads\n",
        "        concat_attention = tf.keras.layers.Lambda(\n",
        "            lambda scaled_attention: tf.reshape(\n",
        "                scaled_attention, (batch_size, -1, self.d_model)\n",
        "            )\n",
        "        )(scaled_attention)\n",
        "\n",
        "        # final linear layer\n",
        "        outputs = self.dense(concat_attention)\n",
        "\n",
        "        return outputs"
      ]
    },
    {
      "cell_type": "markdown",
      "metadata": {
        "id": "eDUX7Oa8Xudj",
        "pycharm": {
          "name": "#%% md\n"
        }
      },
      "source": [
        "## Transformer"
      ]
    },
    {
      "cell_type": "markdown",
      "metadata": {
        "id": "x5QlgXsxYirg",
        "pycharm": {
          "name": "#%% md\n"
        }
      },
      "source": [
        "### Masking\n",
        "\n"
      ]
    },
    {
      "cell_type": "markdown",
      "metadata": {
        "id": "0CX5H8A-Wybj",
        "pycharm": {
          "name": "#%% md\n"
        }
      },
      "source": [
        "`create_padding_mask` and `create_look_ahead` are helper functions to creating masks to mask out padded tokens, we are going to use these helper functions as `tf.keras.layers.Lambda` layers.\n",
        "\n",
        "Mask all the pad tokens (value `0`) in the batch to ensure the model does not treat padding as input."
      ]
    },
    {
      "cell_type": "code",
      "execution_count": 57,
      "metadata": {
        "id": "imCQ0jrvWhC7",
        "pycharm": {
          "name": "#%%\n"
        }
      },
      "outputs": [],
      "source": [
        "def create_padding_mask(x):\n",
        "    mask = tf.cast(tf.math.equal(x, 0), tf.float32)\n",
        "    # (batch_size, 1, 1, sequence length)\n",
        "    return mask[:, tf.newaxis, tf.newaxis, :]"
      ]
    },
    {
      "cell_type": "code",
      "execution_count": 58,
      "metadata": {
        "colab": {
          "base_uri": "https://localhost:8080/"
        },
        "id": "IrwtsqrfWd-3",
        "outputId": "b9f68588-73e0-48c0-fb14-cf027bbb7317",
        "pycharm": {
          "name": "#%%\n"
        }
      },
      "outputs": [
        {
          "name": "stdout",
          "output_type": "stream",
          "text": [
            "tf.Tensor(\n",
            "[[[[0. 0. 1. 0. 1.]]]\n",
            "\n",
            "\n",
            " [[[1. 1. 1. 0. 0.]]]], shape=(2, 1, 1, 5), dtype=float32)\n"
          ]
        }
      ],
      "source": [
        "print(create_padding_mask(tf.constant([[1, 2, 0, 3, 0], [0, 0, 0, 4, 5]])))"
      ]
    },
    {
      "cell_type": "markdown",
      "metadata": {
        "id": "qJAicy1zW1QT",
        "pycharm": {
          "name": "#%% md\n"
        }
      },
      "source": [
        "Look-ahead mask to mask the future tokens in a sequence.\n",
        "We also mask out pad tokens.\n",
        "\n",
        "i.e. To predict the third word, only the first and second word will be used"
      ]
    },
    {
      "cell_type": "code",
      "execution_count": 59,
      "metadata": {
        "id": "HSVdD2zKWaXx",
        "pycharm": {
          "name": "#%%\n"
        }
      },
      "outputs": [],
      "source": [
        "def create_look_ahead_mask(x):\n",
        "    seq_len = tf.shape(x)[1]\n",
        "    look_ahead_mask = 1 - tf.linalg.band_part(tf.ones((seq_len, seq_len)), -1, 0)\n",
        "    padding_mask = create_padding_mask(x)\n",
        "    return tf.maximum(look_ahead_mask, padding_mask)"
      ]
    },
    {
      "cell_type": "code",
      "execution_count": 60,
      "metadata": {
        "colab": {
          "base_uri": "https://localhost:8080/"
        },
        "id": "xhwz9xzxWcod",
        "outputId": "9ffdb312-65c6-4335-a77a-898485cf96af",
        "pycharm": {
          "name": "#%%\n"
        }
      },
      "outputs": [
        {
          "name": "stdout",
          "output_type": "stream",
          "text": [
            "tf.Tensor(\n",
            "[[[[0. 1. 1. 1. 1.]\n",
            "   [0. 0. 1. 1. 1.]\n",
            "   [0. 0. 1. 1. 1.]\n",
            "   [0. 0. 1. 0. 1.]\n",
            "   [0. 0. 1. 0. 0.]]]], shape=(1, 1, 5, 5), dtype=float32)\n"
          ]
        }
      ],
      "source": [
        "print(create_look_ahead_mask(tf.constant([[1, 2, 0, 4, 5]])))"
      ]
    },
    {
      "cell_type": "markdown",
      "metadata": {
        "id": "TpR7kz4jFkPJ",
        "pycharm": {
          "name": "#%% md\n"
        }
      },
      "source": [
        "### Positional encoding\n",
        "\n",
        "Since this model doesn't contain any recurrence or convolution, positional encoding is added to give the model some information about the relative position of the words in the sentence. \n",
        "\n",
        "The positional encoding vector is added to the embedding vector. Embeddings represent a token in a d-dimensional space where tokens with similar meaning will be closer to each other. But the embeddings do not encode the relative position of words in a sentence. So after adding the positional encoding, words will be closer to each other based on the *similarity of their meaning and their position in the sentence*, in the d-dimensional space.\n",
        "\n",
        "See the notebook on [positional encoding](https://github.com/tensorflow/examples/blob/master/community/en/position_encoding.ipynb) to learn more about it. The formula for calculating the positional encoding is as follows:\n",
        "\n",
        "$$\\Large{PE_{(pos, 2i)} = sin(pos / 10000^{2i / d_{model}})} $$\n",
        "$$\\Large{PE_{(pos, 2i+1)} = cos(pos / 10000^{2i / d_{model}})} $$"
      ]
    },
    {
      "cell_type": "code",
      "execution_count": 61,
      "metadata": {
        "id": "-9Oibz2es-qW",
        "pycharm": {
          "name": "#%%\n"
        }
      },
      "outputs": [],
      "source": [
        "class PositionalEncoding(tf.keras.layers.Layer):\n",
        "    def __init__(self, position, d_model, **kwargs):\n",
        "        super(PositionalEncoding, self).__init__(**kwargs)\n",
        "        self.position = position\n",
        "        self.d_model = d_model\n",
        "        self.pos_encoding = self.positional_encoding(position, d_model)\n",
        "\n",
        "    def get_config(self):\n",
        "        config = super(PositionalEncoding, self).get_config()\n",
        "        config.update(\n",
        "            {\n",
        "                \"position\": self.position,\n",
        "                \"d_model\": self.d_model,\n",
        "            }\n",
        "        )\n",
        "        return config\n",
        "\n",
        "    def get_angles(self, position, i, d_model):\n",
        "        angles = 1 / tf.pow(10000, (2 * (i // 2)) / tf.cast(d_model, tf.float32))\n",
        "        return position * angles\n",
        "\n",
        "    def positional_encoding(self, position, d_model):\n",
        "        angle_rads = self.get_angles(\n",
        "            position=tf.range(position, dtype=tf.float32)[:, tf.newaxis],\n",
        "            i=tf.range(d_model, dtype=tf.float32)[tf.newaxis, :],\n",
        "            d_model=d_model,\n",
        "        )\n",
        "        # apply sin to even index in the array\n",
        "        sines = tf.math.sin(angle_rads[:, 0::2])\n",
        "        # apply cos to odd index in the array\n",
        "        cosines = tf.math.cos(angle_rads[:, 1::2])\n",
        "\n",
        "        pos_encoding = tf.concat([sines, cosines], axis=-1)\n",
        "        pos_encoding = pos_encoding[tf.newaxis, ...]\n",
        "        return tf.cast(pos_encoding, tf.float32)\n",
        "\n",
        "    def call(self, inputs):\n",
        "        return inputs + self.pos_encoding[:, : tf.shape(inputs)[1], :]"
      ]
    },
    {
      "cell_type": "code",
      "execution_count": 62,
      "metadata": {
        "colab": {
          "base_uri": "https://localhost:8080/",
          "height": 283
        },
        "id": "UC_fQehi3_Yh",
        "outputId": "75a3d09a-3aad-4376-a634-4f9d2cc8c4d2",
        "pycharm": {
          "name": "#%%\n"
        }
      },
      "outputs": [
        {
          "data": {
            "image/png": "[encoded data removed]",
            "text/plain": [
              "<Figure size 640x480 with 2 Axes>"
            ]
          },
          "metadata": {},
          "output_type": "display_data"
        }
      ],
      "source": [
        "sample_pos_encoding = PositionalEncoding(50, 512, name=\"sample_pos_encoding\")\n",
        "\n",
        "plt.pcolormesh(sample_pos_encoding.pos_encoding.numpy()[0], cmap=\"RdBu\")\n",
        "plt.xlabel(\"Depth\")\n",
        "plt.xlim((0, 512))\n",
        "plt.ylabel(\"Position\")\n",
        "plt.colorbar()\n",
        "plt.show()"
      ]
    },
    {
      "cell_type": "markdown",
      "metadata": {
        "id": "HVazCemoW2Ye",
        "pycharm": {
          "name": "#%% md\n"
        }
      },
      "source": [
        "### Encoder Layer\n",
        "\n",
        "Each encoder layer consists of sublayers:\n",
        "\n",
        "1. Multi-head attention (with padding mask) \n",
        "2. 2 dense layers followed by dropout\n",
        "\n",
        "Each of these sublayers has a residual connection around it followed by a layer normalization. Residual connections help in avoiding the vanishing gradient problem in deep networks.\n",
        "\n",
        "The output of each sublayer is `LayerNorm(x + Sublayer(x))`. The normalization is done on the `d_model` (last) axis."
      ]
    },
    {
      "cell_type": "code",
      "execution_count": 63,
      "metadata": {
        "id": "5guJOLJmfcuX",
        "pycharm": {
          "name": "#%%\n"
        }
      },
      "outputs": [],
      "source": [
        "def encoder_layer(units, d_model, num_heads, dropout, name=\"encoder_layer\"):\n",
        "    inputs = tf.keras.Input(shape=(None, d_model), name=\"inputs\")\n",
        "    padding_mask = tf.keras.Input(shape=(1, 1, None), name=\"padding_mask\")\n",
        "\n",
        "    attention = MultiHeadAttentionLayer(d_model, num_heads, name=\"attention\")(\n",
        "        {\"query\": inputs, \"key\": inputs, \"value\": inputs, \"mask\": padding_mask}\n",
        "    )\n",
        "    attention = tf.keras.layers.Dropout(rate=dropout)(attention)\n",
        "    add_attention = tf.keras.layers.add([inputs, attention])\n",
        "    attention = tf.keras.layers.LayerNormalization(epsilon=1e-6)(add_attention)\n",
        "\n",
        "    outputs = tf.keras.layers.Dense(units=units, activation=\"relu\")(attention)\n",
        "    outputs = tf.keras.layers.Dense(units=d_model)(outputs)\n",
        "    outputs = tf.keras.layers.Dropout(rate=dropout)(outputs)\n",
        "    add_attention = tf.keras.layers.add([attention, outputs])\n",
        "    outputs = tf.keras.layers.LayerNormalization(epsilon=1e-6)(add_attention)\n",
        "\n",
        "    return tf.keras.Model(inputs=[inputs, padding_mask], outputs=outputs, name=name)"
      ]
    },
    {
      "cell_type": "code",
      "execution_count": 64,
      "metadata": {
        "colab": {
          "base_uri": "https://localhost:8080/",
          "height": 1000
        },
        "id": "K16BIGSKfkve",
        "outputId": "bb33d93c-f54a-4c08-814d-60749980a4dc",
        "pycharm": {
          "name": "#%%\n"
        }
      },
      "outputs": [
        {
          "name": "stdout",
          "output_type": "stream",
          "text": [
            "You must install pydot (`pip install pydot`) and install graphviz (see instructions at https://graphviz.gitlab.io/download/) for plot_model to work.\n"
          ]
        }
      ],
      "source": [
        "sample_encoder_layer = encoder_layer(\n",
        "    units=512, d_model=128, num_heads=4, dropout=0.3, name=\"sample_encoder_layer\"\n",
        ")\n",
        "\n",
        "tf.keras.utils.plot_model(\n",
        "    sample_encoder_layer, to_file=\"encoder_layer.png\", show_shapes=True\n",
        ")"
      ]
    },
    {
      "cell_type": "markdown",
      "metadata": {
        "id": "9r8lWGClfi_1",
        "pycharm": {
          "name": "#%% md\n"
        }
      },
      "source": [
        "### Encoder\n",
        "\n",
        "The Encoder consists of:\n",
        "1.   Input Embedding\n",
        "2.   Positional Encoding\n",
        "3.   `num_layers` encoder layers\n",
        "\n",
        "The input is put through an embedding which is summed with the positional encoding. The output of this summation is the input to the encoder layers. The output of the encoder is the input to the decoder."
      ]
    },
    {
      "cell_type": "code",
      "execution_count": 65,
      "metadata": {
        "id": "LRfugon5Wy-Y",
        "pycharm": {
          "name": "#%%\n"
        }
      },
      "outputs": [],
      "source": [
        "def encoder(vocab_size, num_layers, units, d_model, num_heads, dropout, name=\"encoder\"):\n",
        "    inputs = tf.keras.Input(shape=(None,), name=\"inputs\")\n",
        "    padding_mask = tf.keras.Input(shape=(1, 1, None), name=\"padding_mask\")\n",
        "\n",
        "    embeddings = tf.keras.layers.Embedding(vocab_size, d_model)(inputs)\n",
        "    embeddings *= tf.keras.layers.Lambda(\n",
        "        lambda d_model: tf.math.sqrt(tf.cast(d_model, tf.float32))\n",
        "    )(d_model)\n",
        "    embeddings = PositionalEncoding(vocab_size, d_model)(embeddings)\n",
        "\n",
        "    outputs = tf.keras.layers.Dropout(rate=dropout)(embeddings)\n",
        "\n",
        "    for i in range(num_layers):\n",
        "        outputs = encoder_layer(\n",
        "            units=units,\n",
        "            d_model=d_model,\n",
        "            num_heads=num_heads,\n",
        "            dropout=dropout,\n",
        "            name=\"encoder_layer_{}\".format(i),\n",
        "        )([outputs, padding_mask])\n",
        "\n",
        "    return tf.keras.Model(inputs=[inputs, padding_mask], outputs=outputs, name=name)"
      ]
    },
    {
      "cell_type": "code",
      "execution_count": 66,
      "metadata": {
        "colab": {
          "base_uri": "https://localhost:8080/",
          "height": 754
        },
        "id": "bNxCnjrvglnx",
        "outputId": "59311348-2c31-42d3-acef-da08e723c7ff",
        "pycharm": {
          "name": "#%%\n"
        }
      },
      "outputs": [
        {
          "name": "stdout",
          "output_type": "stream",
          "text": [
            "You must install pydot (`pip install pydot`) and install graphviz (see instructions at https://graphviz.gitlab.io/download/) for plot_model to work.\n"
          ]
        }
      ],
      "source": [
        "sample_encoder = encoder(\n",
        "    vocab_size=8192,\n",
        "    num_layers=2,\n",
        "    units=512,\n",
        "    d_model=128,\n",
        "    num_heads=4,\n",
        "    dropout=0.3,\n",
        "    name=\"sample_encoder\",\n",
        ")\n",
        "\n",
        "tf.keras.utils.plot_model(sample_encoder, to_file=\"encoder.png\", show_shapes=True)"
      ]
    },
    {
      "cell_type": "markdown",
      "metadata": {
        "id": "af66azvgW9P-",
        "pycharm": {
          "name": "#%% md\n"
        }
      },
      "source": [
        "### Decoder Layer\n",
        "\n",
        "Each decoder layer consists of sublayers:\n",
        "\n",
        "1.   Masked multi-head attention (with look ahead mask and padding mask)\n",
        "2.   Multi-head attention (with padding mask). `value` and `key` receive the *encoder output* as inputs. `query` receives the *output from the masked multi-head attention sublayer.*\n",
        "3.   2 dense layers followed by dropout\n",
        "\n",
        "Each of these sublayers has a residual connection around it followed by a layer normalization. The output of each sublayer is `LayerNorm(x + Sublayer(x))`. The normalization is done on the `d_model` (last) axis.\n",
        "\n",
        "As `query` receives the output from decoder's first attention block, and `key` receives the encoder output, the attention weights represent the importance given to the decoder's input based on the encoder's output. In other words, the decoder predicts the next word by looking at the encoder output and self-attending to its own output. See the demonstration above in the scaled dot product attention section."
      ]
    },
    {
      "cell_type": "code",
      "execution_count": 67,
      "metadata": {
        "id": "6mLvvNMWgDnf",
        "pycharm": {
          "name": "#%%\n"
        }
      },
      "outputs": [],
      "source": [
        "def decoder_layer(units, d_model, num_heads, dropout, name=\"decoder_layer\"):\n",
        "    inputs = tf.keras.Input(shape=(None, d_model), name=\"inputs\")\n",
        "    enc_outputs = tf.keras.Input(shape=(None, d_model), name=\"encoder_outputs\")\n",
        "    look_ahead_mask = tf.keras.Input(shape=(1, None, None), name=\"look_ahead_mask\")\n",
        "    padding_mask = tf.keras.Input(shape=(1, 1, None), name=\"padding_mask\")\n",
        "\n",
        "    attention1 = MultiHeadAttentionLayer(d_model, num_heads, name=\"attention_1\")(\n",
        "        inputs={\n",
        "            \"query\": inputs,\n",
        "            \"key\": inputs,\n",
        "            \"value\": inputs,\n",
        "            \"mask\": look_ahead_mask,\n",
        "        }\n",
        "    )\n",
        "    add_attention = tf.keras.layers.add([attention1, inputs])\n",
        "    attention1 = tf.keras.layers.LayerNormalization(epsilon=1e-6)(add_attention)\n",
        "\n",
        "    attention2 = MultiHeadAttentionLayer(d_model, num_heads, name=\"attention_2\")(\n",
        "        inputs={\n",
        "            \"query\": attention1,\n",
        "            \"key\": enc_outputs,\n",
        "            \"value\": enc_outputs,\n",
        "            \"mask\": padding_mask,\n",
        "        }\n",
        "    )\n",
        "    attention2 = tf.keras.layers.Dropout(rate=dropout)(attention2)\n",
        "    add_attention = tf.keras.layers.add([attention2, attention1])\n",
        "    attention2 = tf.keras.layers.LayerNormalization(epsilon=1e-6)(add_attention)\n",
        "\n",
        "    outputs = tf.keras.layers.Dense(units=units, activation=\"relu\")(attention2)\n",
        "    outputs = tf.keras.layers.Dense(units=d_model)(outputs)\n",
        "    outputs = tf.keras.layers.Dropout(rate=dropout)(outputs)\n",
        "    add_attention = tf.keras.layers.add([outputs, attention2])\n",
        "    outputs = tf.keras.layers.LayerNormalization(epsilon=1e-6)(add_attention)\n",
        "\n",
        "    return tf.keras.Model(\n",
        "        inputs=[inputs, enc_outputs, look_ahead_mask, padding_mask],\n",
        "        outputs=outputs,\n",
        "        name=name,\n",
        "    )"
      ]
    },
    {
      "cell_type": "code",
      "execution_count": 68,
      "metadata": {
        "colab": {
          "base_uri": "https://localhost:8080/",
          "height": 1000
        },
        "id": "8M1NrQ_NgEaM",
        "outputId": "2d0284ec-9276-433e-a2b6-38358448bbfe",
        "pycharm": {
          "name": "#%%\n"
        }
      },
      "outputs": [
        {
          "name": "stdout",
          "output_type": "stream",
          "text": [
            "You must install pydot (`pip install pydot`) and install graphviz (see instructions at https://graphviz.gitlab.io/download/) for plot_model to work.\n"
          ]
        }
      ],
      "source": [
        "sample_decoder_layer = decoder_layer(\n",
        "    units=512, d_model=128, num_heads=4, dropout=0.3, name=\"sample_decoder_layer\"\n",
        ")\n",
        "\n",
        "tf.keras.utils.plot_model(\n",
        "    sample_decoder_layer, to_file=\"decoder_layer.png\", show_shapes=True\n",
        ")"
      ]
    },
    {
      "cell_type": "markdown",
      "metadata": {
        "id": "NPSKnjS-gE_q",
        "pycharm": {
          "name": "#%% md\n"
        }
      },
      "source": [
        "### Decoder\n",
        "\n",
        "The Decoder consists of:\n",
        "1.   Output Embedding\n",
        "2.   Positional Encoding\n",
        "3.   N decoder layers\n",
        "\n",
        "The target is put through an embedding which is summed with the positional encoding. The output of this summation is the input to the decoder layers. The output of the decoder is the input to the final linear layer."
      ]
    },
    {
      "cell_type": "code",
      "execution_count": 69,
      "metadata": {
        "id": "dYRx7YzCW4bu",
        "pycharm": {
          "name": "#%%\n"
        }
      },
      "outputs": [],
      "source": [
        "def decoder(vocab_size, num_layers, units, d_model, num_heads, dropout, name=\"decoder\"):\n",
        "    inputs = tf.keras.Input(shape=(None,), name=\"inputs\")\n",
        "    enc_outputs = tf.keras.Input(shape=(None, d_model), name=\"encoder_outputs\")\n",
        "    look_ahead_mask = tf.keras.Input(shape=(1, None, None), name=\"look_ahead_mask\")\n",
        "    padding_mask = tf.keras.Input(shape=(1, 1, None), name=\"padding_mask\")\n",
        "\n",
        "    embeddings = tf.keras.layers.Embedding(vocab_size, d_model)(inputs)\n",
        "    embeddings *= tf.keras.layers.Lambda(\n",
        "        lambda d_model: tf.math.sqrt(tf.cast(d_model, tf.float32))\n",
        "    )(d_model)\n",
        "    embeddings = PositionalEncoding(vocab_size, d_model)(embeddings)\n",
        "\n",
        "    outputs = tf.keras.layers.Dropout(rate=dropout)(embeddings)\n",
        "\n",
        "    for i in range(num_layers):\n",
        "        outputs = decoder_layer(\n",
        "            units=units,\n",
        "            d_model=d_model,\n",
        "            num_heads=num_heads,\n",
        "            dropout=dropout,\n",
        "            name=\"decoder_layer_{}\".format(i),\n",
        "        )(inputs=[outputs, enc_outputs, look_ahead_mask, padding_mask])\n",
        "\n",
        "    return tf.keras.Model(\n",
        "        inputs=[inputs, enc_outputs, look_ahead_mask, padding_mask],\n",
        "        outputs=outputs,\n",
        "        name=name,\n",
        "    )"
      ]
    },
    {
      "cell_type": "code",
      "execution_count": 70,
      "metadata": {
        "colab": {
          "base_uri": "https://localhost:8080/",
          "height": 754
        },
        "id": "tUdK8jb9hlTZ",
        "outputId": "f9e5b1e3-e692-4cb6-b650-20f0a1e2d6c4",
        "pycharm": {
          "name": "#%%\n"
        }
      },
      "outputs": [
        {
          "name": "stdout",
          "output_type": "stream",
          "text": [
            "You must install pydot (`pip install pydot`) and install graphviz (see instructions at https://graphviz.gitlab.io/download/) for plot_model to work.\n"
          ]
        }
      ],
      "source": [
        "sample_decoder = decoder(\n",
        "    vocab_size=8192,\n",
        "    num_layers=2,\n",
        "    units=512,\n",
        "    d_model=128,\n",
        "    num_heads=4,\n",
        "    dropout=0.3,\n",
        "    name=\"sample_decoder\",\n",
        ")\n",
        "\n",
        "tf.keras.utils.plot_model(sample_decoder, to_file=\"decoder.png\", show_shapes=True)"
      ]
    },
    {
      "cell_type": "markdown",
      "metadata": {
        "id": "yl0o97RJXAqw",
        "pycharm": {
          "name": "#%% md\n"
        }
      },
      "source": [
        "### Transformer\n",
        "\n",
        "Transformer consists of the encoder, decoder and a final linear layer. The output of the decoder is the input to the linear layer and its output is returned."
      ]
    },
    {
      "cell_type": "code",
      "execution_count": 71,
      "metadata": {
        "id": "TW-v7Fz6XAfC",
        "pycharm": {
          "name": "#%%\n"
        }
      },
      "outputs": [],
      "source": [
        "def transformer(\n",
        "    vocab_size, num_layers, units, d_model, num_heads, dropout, name=\"transformer\"\n",
        "):\n",
        "    inputs = tf.keras.Input(shape=(None,), name=\"inputs\")\n",
        "    dec_inputs = tf.keras.Input(shape=(None,), name=\"dec_inputs\")\n",
        "\n",
        "    enc_padding_mask = tf.keras.layers.Lambda(\n",
        "        create_padding_mask, output_shape=(1, 1, None), name=\"enc_padding_mask\"\n",
        "    )(inputs)\n",
        "    # mask the future tokens for decoder inputs at the 1st attention block\n",
        "    look_ahead_mask = tf.keras.layers.Lambda(\n",
        "        create_look_ahead_mask, output_shape=(1, None, None), name=\"look_ahead_mask\"\n",
        "    )(dec_inputs)\n",
        "    # mask the encoder outputs for the 2nd attention block\n",
        "    dec_padding_mask = tf.keras.layers.Lambda(\n",
        "        create_padding_mask, output_shape=(1, 1, None), name=\"dec_padding_mask\"\n",
        "    )(inputs)\n",
        "\n",
        "    enc_outputs = encoder(\n",
        "        vocab_size=vocab_size,\n",
        "        num_layers=num_layers,\n",
        "        units=units,\n",
        "        d_model=d_model,\n",
        "        num_heads=num_heads,\n",
        "        dropout=dropout,\n",
        "    )(inputs=[inputs, enc_padding_mask])\n",
        "\n",
        "    dec_outputs = decoder(\n",
        "        vocab_size=vocab_size,\n",
        "        num_layers=num_layers,\n",
        "        units=units,\n",
        "        d_model=d_model,\n",
        "        num_heads=num_heads,\n",
        "        dropout=dropout,\n",
        "    )(inputs=[dec_inputs, enc_outputs, look_ahead_mask, dec_padding_mask])\n",
        "\n",
        "    outputs = tf.keras.layers.Dense(units=vocab_size, name=\"outputs\")(dec_outputs)\n",
        "\n",
        "    return tf.keras.Model(inputs=[inputs, dec_inputs], outputs=outputs, name=name)"
      ]
    },
    {
      "cell_type": "code",
      "execution_count": 72,
      "metadata": {
        "colab": {
          "base_uri": "https://localhost:8080/",
          "height": 533
        },
        "id": "aihJLVq_iJ_T",
        "outputId": "68ace56a-5e77-4dcd-e680-0ea46056bd4a",
        "pycharm": {
          "name": "#%%\n"
        }
      },
      "outputs": [
        {
          "name": "stdout",
          "output_type": "stream",
          "text": [
            "You must install pydot (`pip install pydot`) and install graphviz (see instructions at https://graphviz.gitlab.io/download/) for plot_model to work.\n"
          ]
        }
      ],
      "source": [
        "sample_transformer = transformer(\n",
        "    vocab_size=8192,\n",
        "    num_layers=4,\n",
        "    units=512,\n",
        "    d_model=128,\n",
        "    num_heads=4,\n",
        "    dropout=0.3,\n",
        "    name=\"sample_transformer\",\n",
        ")\n",
        "\n",
        "tf.keras.utils.plot_model(\n",
        "    sample_transformer, to_file=\"transformer.png\", show_shapes=True\n",
        ")"
      ]
    },
    {
      "cell_type": "markdown",
      "metadata": {
        "id": "9HD7GK-nh_KT",
        "pycharm": {
          "name": "#%% md\n"
        }
      },
      "source": [
        "## Train model"
      ]
    },
    {
      "cell_type": "markdown",
      "metadata": {
        "id": "0_GCb0LaV1tI",
        "pycharm": {
          "name": "#%% md\n"
        }
      },
      "source": [
        "### Loss function\n",
        "\n",
        "Since the target sequences are padded, it is important to apply a padding mask when calculating the loss."
      ]
    },
    {
      "cell_type": "code",
      "execution_count": 73,
      "metadata": {
        "id": "UInVM9iGAMv1",
        "pycharm": {
          "name": "#%%\n"
        }
      },
      "outputs": [],
      "source": [
        "def loss_function(y_true, y_pred):\n",
        "    y_true = tf.reshape(y_true, shape=(-1, MAX_LENGTH - 1))\n",
        "\n",
        "    loss = tf.keras.losses.SparseCategoricalCrossentropy(\n",
        "        from_logits=True, reduction=\"none\"\n",
        "    )(y_true, y_pred)\n",
        "\n",
        "    mask = tf.cast(tf.not_equal(y_true, 0), tf.float32)\n",
        "    loss = tf.multiply(loss, mask)\n",
        "\n",
        "    return tf.reduce_mean(loss)"
      ]
    },
    {
      "cell_type": "markdown",
      "metadata": {
        "id": "XvFM9ajSVybP",
        "pycharm": {
          "name": "#%% md\n"
        }
      },
      "source": [
        "### Custom learning rate\n",
        "\n",
        "Use the Adam optimizer with a custom learning rate scheduler according to the formula in the [paper](https://arxiv.org/abs/1706.03762).\n",
        "\n",
        "$$\\Large{lrate = d_{model}^{-0.5} * min(step{\\_}num^{-0.5}, step{\\_}num * warmup{\\_}steps^{-1.5})}$$"
      ]
    },
    {
      "cell_type": "code",
      "execution_count": 74,
      "metadata": {
        "id": "WW3SeLDhAMJd",
        "pycharm": {
          "name": "#%%\n"
        }
      },
      "outputs": [],
      "source": [
        "class CustomSchedule(tf.keras.optimizers.schedules.LearningRateSchedule):\n",
        "    def __init__(self, d_model, warmup_steps=4000):\n",
        "        super(CustomSchedule, self).__init__()\n",
        "\n",
        "        self.d_model = tf.constant(d_model, dtype=tf.float32)\n",
        "        self.warmup_steps = warmup_steps\n",
        "\n",
        "    def get_config(self):\n",
        "        return {\"d_model\": self.d_model, \"warmup_steps\": self.warmup_steps}\n",
        "\n",
        "    def __call__(self, step):\n",
        "        arg1 = tf.math.rsqrt(step)\n",
        "        arg2 = step * (self.warmup_steps**-1.5)\n",
        "\n",
        "        return tf.math.multiply(\n",
        "            tf.math.rsqrt(self.d_model), tf.math.minimum(arg1, arg2)\n",
        "        )"
      ]
    },
    {
      "cell_type": "code",
      "execution_count": 75,
      "metadata": {
        "colab": {
          "base_uri": "https://localhost:8080/",
          "height": 296
        },
        "id": "67BoG_UeaHHw",
        "outputId": "a47cc17d-37c7-4d09-a44f-43577606072e",
        "pycharm": {
          "name": "#%%\n"
        }
      },
      "outputs": [
        {
          "data": {
            "text/plain": [
              "Text(0.5, 0, 'Train Step')"
            ]
          },
          "execution_count": 75,
          "metadata": {},
          "output_type": "execute_result"
        },
        {
          "data": {
            "image/png": "[encoded data removed]",
            "text/plain": [
              "<Figure size 640x480 with 1 Axes>"
            ]
          },
          "metadata": {},
          "output_type": "display_data"
        }
      ],
      "source": [
        "sample_learning_rate = CustomSchedule(d_model=128)\n",
        "\n",
        "plt.plot(sample_learning_rate(tf.range(200000, dtype=tf.float32)))\n",
        "plt.ylabel(\"Learning Rate\")\n",
        "plt.xlabel(\"Train Step\")"
      ]
    },
    {
      "cell_type": "markdown",
      "metadata": {
        "id": "cCqve3kwWCxd",
        "pycharm": {
          "name": "#%% md\n"
        }
      },
      "source": [
        "### Initialize and compile model\n",
        "\n",
        "Initialize and compile model with our predefined custom learning rate and Adam optimizer under the strategy scope."
      ]
    },
    {
      "cell_type": "code",
      "execution_count": 76,
      "metadata": {
        "colab": {
          "base_uri": "https://localhost:8080/"
        },
        "id": "1QqojIa5WEQq",
        "outputId": "6969c2ea-a418-4ca4-84ab-04ef4502df0e",
        "pycharm": {
          "name": "#%%\n"
        }
      },
      "outputs": [
        {
          "name": "stdout",
          "output_type": "stream",
          "text": [
            "Model: \"transformer\"\n",
            "__________________________________________________________________________________________________\n",
            " Layer (type)                   Output Shape         Param #     Connected to                     \n",
            "==================================================================================================\n",
            " inputs (InputLayer)            [(None, None)]       0           []                               \n",
            "                                                                                                  \n",
            " dec_inputs (InputLayer)        [(None, None)]       0           []                               \n",
            "                                                                                                  \n",
            " enc_padding_mask (Lambda)      (None, 1, 1, None)   0           ['inputs[0][0]']                 \n",
            "                                                                                                  \n",
            " encoder (Functional)           (None, None, 256)    3173632     ['inputs[0][0]',                 \n",
            "                                                                  'enc_padding_mask[0][0]']       \n",
            "                                                                                                  \n",
            " look_ahead_mask (Lambda)       (None, 1, None, Non  0           ['dec_inputs[0][0]']             \n",
            "                                e)                                                                \n",
            "                                                                                                  \n",
            " dec_padding_mask (Lambda)      (None, 1, 1, None)   0           ['inputs[0][0]']                 \n",
            "                                                                                                  \n",
            " decoder (Functional)           (None, None, 256)    3700992     ['dec_inputs[0][0]',             \n",
            "                                                                  'encoder[0][0]',                \n",
            "                                                                  'look_ahead_mask[0][0]',        \n",
            "                                                                  'dec_padding_mask[0][0]']       \n",
            "                                                                                                  \n",
            " outputs (Dense)                (None, None, 8279)   2127703     ['decoder[0][0]']                \n",
            "                                                                                                  \n",
            "==================================================================================================\n",
            "Total params: 9,002,327\n",
            "Trainable params: 9,002,327\n",
            "Non-trainable params: 0\n",
            "__________________________________________________________________________________________________\n"
          ]
        }
      ],
      "source": [
        "# clear backend\n",
        "tf.keras.backend.clear_session()\n",
        "\n",
        "learning_rate = CustomSchedule(D_MODEL)\n",
        "\n",
        "optimizer = tf.keras.optimizers.Adam(\n",
        "    learning_rate, beta_1=0.9, beta_2=0.98, epsilon=1e-9\n",
        ")\n",
        "\n",
        "\n",
        "def accuracy(y_true, y_pred):\n",
        "    # ensure labels have shape (batch_size, MAX_LENGTH - 1)\n",
        "    y_true = tf.reshape(y_true, shape=(-1, MAX_LENGTH - 1))\n",
        "    return tf.keras.metrics.sparse_categorical_accuracy(y_true, y_pred)\n",
        "\n",
        "\n",
        "# initialize and compile model within strategy scope\n",
        "with strategy.scope():\n",
        "    model = transformer(\n",
        "        vocab_size=VOCAB_SIZE,\n",
        "        num_layers=NUM_LAYERS,\n",
        "        units=UNITS,\n",
        "        d_model=D_MODEL,\n",
        "        num_heads=NUM_HEADS,\n",
        "        dropout=DROPOUT,\n",
        "    )\n",
        "\n",
        "    model.compile(optimizer=optimizer, loss=loss_function, metrics=[accuracy])\n",
        "\n",
        "model.summary()"
      ]
    },
    {
      "cell_type": "markdown",
      "metadata": {
        "id": "vDMd69urLNuc",
        "pycharm": {
          "name": "#%% md\n"
        }
      },
      "source": [
        "### Fit model\n",
        "\n",
        "Train our transformer by simply calling `model.fit()`"
      ]
    },
    {
      "cell_type": "code",
      "execution_count": 77,
      "metadata": {
        "colab": {
          "base_uri": "https://localhost:8080/"
        },
        "id": "d7iahRzlLNG2",
        "outputId": "dee60749-0cd7-46ec-83dd-08b4d49f1dc1",
        "pycharm": {
          "name": "#%%\n"
        }
      },
      "outputs": [
        {
          "name": "stdout",
          "output_type": "stream",
          "text": [
            "Epoch 1/80\n"
          ]
        },
        {
          "name": "stdout",
          "output_type": "stream",
          "text": [
            "690/690 [==============================] - 50s 60ms/step - loss: 2.1077 - accuracy: 0.0420\n",
            "Epoch 2/80\n",
            "690/690 [==============================] - 41s 60ms/step - loss: 1.4935 - accuracy: 0.0778\n",
            "Epoch 3/80\n",
            "690/690 [==============================] - 41s 60ms/step - loss: 1.3873 - accuracy: 0.0853\n",
            "Epoch 4/80\n",
            "690/690 [==============================] - 41s 60ms/step - loss: 1.3286 - accuracy: 0.0896\n",
            "Epoch 5/80\n",
            "690/690 [==============================] - 42s 60ms/step - loss: 1.2776 - accuracy: 0.0937\n",
            "Epoch 6/80\n",
            "690/690 [==============================] - 41s 60ms/step - loss: 1.2301 - accuracy: 0.0973\n",
            "Epoch 7/80\n",
            "690/690 [==============================] - 41s 59ms/step - loss: 1.1754 - accuracy: 0.1017\n",
            "Epoch 8/80\n",
            "690/690 [==============================] - 41s 60ms/step - loss: 1.1142 - accuracy: 0.1073\n",
            "Epoch 9/80\n",
            "690/690 [==============================] - 41s 59ms/step - loss: 1.0572 - accuracy: 0.1127\n",
            "Epoch 10/80\n",
            "690/690 [==============================] - 42s 60ms/step - loss: 1.0028 - accuracy: 0.1188\n",
            "Epoch 11/80\n",
            "690/690 [==============================] - 42s 61ms/step - loss: 0.9546 - accuracy: 0.1248\n",
            "Epoch 12/80\n",
            "690/690 [==============================] - 42s 60ms/step - loss: 0.9097 - accuracy: 0.1307\n",
            "Epoch 13/80\n",
            "690/690 [==============================] - 42s 60ms/step - loss: 0.8688 - accuracy: 0.1365\n",
            "Epoch 14/80\n",
            "690/690 [==============================] - 41s 60ms/step - loss: 0.8324 - accuracy: 0.1418\n",
            "Epoch 15/80\n",
            "690/690 [==============================] - 41s 59ms/step - loss: 0.7981 - accuracy: 0.1470\n",
            "Epoch 16/80\n",
            "690/690 [==============================] - 42s 61ms/step - loss: 0.7675 - accuracy: 0.1520\n",
            "Epoch 17/80\n",
            "690/690 [==============================] - 41s 60ms/step - loss: 0.7385 - accuracy: 0.1569\n",
            "Epoch 18/80\n",
            "690/690 [==============================] - 41s 60ms/step - loss: 0.7141 - accuracy: 0.1606\n",
            "Epoch 19/80\n",
            "690/690 [==============================] - 42s 60ms/step - loss: 0.6893 - accuracy: 0.1649\n",
            "Epoch 20/80\n",
            "690/690 [==============================] - 41s 60ms/step - loss: 0.6673 - accuracy: 0.1687\n",
            "Epoch 21/80\n",
            "690/690 [==============================] - 42s 60ms/step - loss: 0.6466 - accuracy: 0.1725\n",
            "Epoch 22/80\n",
            "690/690 [==============================] - 41s 59ms/step - loss: 0.6283 - accuracy: 0.1757\n",
            "Epoch 23/80\n",
            "690/690 [==============================] - 41s 60ms/step - loss: 0.6104 - accuracy: 0.1789\n",
            "Epoch 24/80\n",
            "690/690 [==============================] - 41s 59ms/step - loss: 0.5947 - accuracy: 0.1819\n",
            "Epoch 25/80\n",
            "690/690 [==============================] - 41s 59ms/step - loss: 0.5784 - accuracy: 0.1848\n",
            "Epoch 26/80\n",
            "690/690 [==============================] - 42s 60ms/step - loss: 0.5633 - accuracy: 0.1878\n",
            "Epoch 27/80\n",
            "690/690 [==============================] - 41s 60ms/step - loss: 0.5514 - accuracy: 0.1903\n",
            "Epoch 28/80\n",
            "690/690 [==============================] - 42s 60ms/step - loss: 0.5380 - accuracy: 0.1930\n",
            "Epoch 29/80\n",
            "690/690 [==============================] - 41s 60ms/step - loss: 0.5262 - accuracy: 0.1952\n",
            "Epoch 30/80\n",
            "690/690 [==============================] - 41s 59ms/step - loss: 0.5156 - accuracy: 0.1976\n",
            "Epoch 31/80\n",
            "690/690 [==============================] - 40s 58ms/step - loss: 0.5040 - accuracy: 0.1995\n",
            "Epoch 32/80\n",
            "690/690 [==============================] - 42s 60ms/step - loss: 0.4929 - accuracy: 0.2019\n",
            "Epoch 33/80\n",
            "690/690 [==============================] - 41s 59ms/step - loss: 0.4839 - accuracy: 0.2037\n",
            "Epoch 34/80\n",
            "690/690 [==============================] - 41s 59ms/step - loss: 0.4740 - accuracy: 0.2059\n",
            "Epoch 35/80\n",
            "690/690 [==============================] - 41s 60ms/step - loss: 0.4660 - accuracy: 0.2075\n",
            "Epoch 36/80\n",
            "690/690 [==============================] - 41s 59ms/step - loss: 0.4566 - accuracy: 0.2096\n",
            "Epoch 37/80\n",
            "690/690 [==============================] - 41s 59ms/step - loss: 0.4483 - accuracy: 0.2110\n",
            "Epoch 38/80\n",
            "690/690 [==============================] - 41s 59ms/step - loss: 0.4405 - accuracy: 0.2129\n",
            "Epoch 39/80\n",
            "690/690 [==============================] - 41s 59ms/step - loss: 0.4327 - accuracy: 0.2145\n",
            "Epoch 40/80\n",
            "690/690 [==============================] - 40s 59ms/step - loss: 0.4254 - accuracy: 0.2162\n",
            "Epoch 41/80\n",
            "690/690 [==============================] - 41s 59ms/step - loss: 0.4189 - accuracy: 0.2176\n",
            "Epoch 42/80\n",
            "690/690 [==============================] - 41s 59ms/step - loss: 0.4121 - accuracy: 0.2190\n",
            "Epoch 43/80\n",
            "690/690 [==============================] - 41s 59ms/step - loss: 0.4051 - accuracy: 0.2206\n",
            "Epoch 44/80\n",
            "690/690 [==============================] - 41s 59ms/step - loss: 0.3994 - accuracy: 0.2220\n",
            "Epoch 45/80\n",
            "690/690 [==============================] - 41s 59ms/step - loss: 0.3933 - accuracy: 0.2231\n",
            "Epoch 46/80\n",
            "690/690 [==============================] - 41s 59ms/step - loss: 0.3875 - accuracy: 0.2246\n",
            "Epoch 47/80\n",
            "690/690 [==============================] - 41s 59ms/step - loss: 0.3811 - accuracy: 0.2259\n",
            "Epoch 48/80\n",
            "690/690 [==============================] - 41s 59ms/step - loss: 0.3762 - accuracy: 0.2269\n",
            "Epoch 49/80\n",
            "690/690 [==============================] - 41s 59ms/step - loss: 0.3717 - accuracy: 0.2279\n",
            "Epoch 50/80\n",
            "690/690 [==============================] - 41s 60ms/step - loss: 0.3659 - accuracy: 0.2292\n",
            "Epoch 51/80\n",
            "690/690 [==============================] - 41s 59ms/step - loss: 0.3606 - accuracy: 0.2306\n",
            "Epoch 52/80\n",
            "690/690 [==============================] - 41s 59ms/step - loss: 0.3563 - accuracy: 0.2316\n",
            "Epoch 53/80\n",
            "690/690 [==============================] - 41s 60ms/step - loss: 0.3517 - accuracy: 0.2325\n",
            "Epoch 54/80\n",
            "690/690 [==============================] - 45s 65ms/step - loss: 0.3458 - accuracy: 0.2337\n",
            "Epoch 55/80\n",
            "690/690 [==============================] - 45s 65ms/step - loss: 0.3424 - accuracy: 0.2347\n",
            "Epoch 56/80\n",
            "690/690 [==============================] - 45s 65ms/step - loss: 0.3379 - accuracy: 0.2356\n",
            "Epoch 57/80\n",
            "690/690 [==============================] - 45s 65ms/step - loss: 0.3333 - accuracy: 0.2368\n",
            "Epoch 58/80\n",
            "690/690 [==============================] - 45s 65ms/step - loss: 0.3292 - accuracy: 0.2377\n",
            "Epoch 59/80\n",
            "690/690 [==============================] - 45s 65ms/step - loss: 0.3252 - accuracy: 0.2386\n",
            "Epoch 60/80\n",
            "690/690 [==============================] - 45s 65ms/step - loss: 0.3211 - accuracy: 0.2396\n",
            "Epoch 61/80\n",
            "690/690 [==============================] - 45s 65ms/step - loss: 0.3168 - accuracy: 0.2405\n",
            "Epoch 62/80\n",
            "690/690 [==============================] - 45s 65ms/step - loss: 0.3137 - accuracy: 0.2413\n",
            "Epoch 63/80\n",
            "690/690 [==============================] - 45s 65ms/step - loss: 0.3106 - accuracy: 0.2420\n",
            "Epoch 64/80\n",
            "690/690 [==============================] - 45s 65ms/step - loss: 0.3065 - accuracy: 0.2429\n",
            "Epoch 65/80\n",
            "690/690 [==============================] - 45s 65ms/step - loss: 0.3030 - accuracy: 0.2439\n",
            "Epoch 66/80\n",
            "690/690 [==============================] - 45s 65ms/step - loss: 0.2997 - accuracy: 0.2445\n",
            "Epoch 67/80\n",
            "690/690 [==============================] - 45s 65ms/step - loss: 0.2971 - accuracy: 0.2450\n",
            "Epoch 68/80\n",
            "690/690 [==============================] - 45s 65ms/step - loss: 0.2937 - accuracy: 0.2460\n",
            "Epoch 69/80\n",
            "690/690 [==============================] - 44s 64ms/step - loss: 0.2901 - accuracy: 0.2467\n",
            "Epoch 70/80\n",
            "690/690 [==============================] - 44s 64ms/step - loss: 0.2873 - accuracy: 0.2476\n",
            "Epoch 71/80\n",
            "690/690 [==============================] - 45s 65ms/step - loss: 0.2853 - accuracy: 0.2478\n",
            "Epoch 72/80\n",
            "690/690 [==============================] - 45s 65ms/step - loss: 0.2812 - accuracy: 0.2489\n",
            "Epoch 73/80\n",
            "690/690 [==============================] - 45s 65ms/step - loss: 0.2784 - accuracy: 0.2497\n",
            "Epoch 74/80\n",
            "690/690 [==============================] - 45s 65ms/step - loss: 0.2759 - accuracy: 0.2503\n",
            "Epoch 75/80\n",
            "690/690 [==============================] - 45s 65ms/step - loss: 0.2730 - accuracy: 0.2511\n",
            "Epoch 76/80\n",
            "690/690 [==============================] - 45s 65ms/step - loss: 0.2699 - accuracy: 0.2518\n",
            "Epoch 77/80\n",
            "690/690 [==============================] - 45s 65ms/step - loss: 0.2673 - accuracy: 0.2524\n",
            "Epoch 78/80\n",
            "690/690 [==============================] - 45s 65ms/step - loss: 0.2656 - accuracy: 0.2527\n",
            "Epoch 79/80\n",
            "690/690 [==============================] - 45s 65ms/step - loss: 0.2627 - accuracy: 0.2534\n",
            "Epoch 80/80\n",
            "690/690 [==============================] - 45s 65ms/step - loss: 0.2606 - accuracy: 0.2541\n"
          ]
        },
        {
          "data": {
            "text/plain": [
              "<keras.callbacks.History at 0x280a51f4190>"
            ]
          },
          "execution_count": 77,
          "metadata": {},
          "output_type": "execute_result"
        }
      ],
      "source": [
        "model.fit(dataset, epochs=EPOCHS)"
      ]
    },
    {
      "cell_type": "markdown",
      "metadata": {
        "id": "xRsSO_I3NdRt",
        "pycharm": {
          "name": "#%% md\n"
        }
      },
      "source": [
        "### Save and load model"
      ]
    },
    {
      "cell_type": "code",
      "execution_count": 78,
      "metadata": {
        "id": "lDd64uI9NdRt",
        "pycharm": {
          "name": "#%%\n"
        }
      },
      "outputs": [],
      "source": [
        "filename = \"../model/transformer.h5\"\n",
        "tf.keras.models.save_model(model, filepath=filename, include_optimizer=False)"
      ]
    },
    {
      "cell_type": "code",
      "execution_count": 79,
      "metadata": {
        "id": "W0fspHMnZPJl"
      },
      "outputs": [],
      "source": [
        "del model\n",
        "tf.keras.backend.clear_session()"
      ]
    },
    {
      "cell_type": "code",
      "execution_count": 80,
      "metadata": {
        "id": "iy9YljYEZQmX"
      },
      "outputs": [],
      "source": [
        "model = tf.keras.models.load_model(\n",
        "    filename,\n",
        "    custom_objects={\n",
        "        \"PositionalEncoding\": PositionalEncoding,\n",
        "        \"MultiHeadAttentionLayer\": MultiHeadAttentionLayer,\n",
        "    },\n",
        "    compile=False,\n",
        ")"
      ]
    },
    {
      "cell_type": "markdown",
      "metadata": {
        "id": "p1DUXog6WqV-",
        "pycharm": {
          "name": "#%% md\n"
        }
      },
      "source": [
        "## Evaluate and predict\n",
        "\n",
        "The following steps are used for evaluation:\n",
        "\n",
        "* Apply the same preprocessing method we used to create our dataset for the input sentence.\n",
        "* Tokenize the input sentence and add `START_TOKEN` and `END_TOKEN`. \n",
        "* Calculate the padding masks and the look ahead masks.\n",
        "* The decoder then outputs the predictions by looking at the encoder output and its own output.\n",
        "* Select the last word and calculate the argmax of that.\n",
        "* Concatentate the predicted word to the decoder input as pass it to the decoder.\n",
        "* In this approach, the decoder predicts the next word based on the previous words it predicted.\n",
        "\n",
        "Note: The model used here has less capacity and trained on a subset of the full dataset, hence its performance can be further improved."
      ]
    },
    {
      "cell_type": "code",
      "execution_count": 81,
      "metadata": {
        "id": "_NjsS3zuAbRn",
        "pycharm": {
          "name": "#%%\n"
        }
      },
      "outputs": [],
      "source": [
        "def evaluate(sentence):\n",
        "    sentence = preprocess_sentence(sentence)\n",
        "\n",
        "    sentence = tf.expand_dims(\n",
        "        START_TOKEN + tokenizer.encode(sentence) + END_TOKEN, axis=0\n",
        "    )\n",
        "\n",
        "    output = tf.expand_dims(START_TOKEN, 0)\n",
        "\n",
        "    for i in range(MAX_LENGTH):\n",
        "        predictions = model(inputs=[sentence, output], training=False)\n",
        "\n",
        "        # select the last word from the seq_len dimension\n",
        "        predictions = predictions[:, -1:, :]\n",
        "        predicted_id = tf.cast(tf.argmax(predictions, axis=-1), tf.int32)\n",
        "\n",
        "        # return the result if the predicted_id is equal to the end token\n",
        "        if tf.equal(predicted_id, END_TOKEN[0]):\n",
        "            break\n",
        "\n",
        "        # concatenated the predicted_id to the output which is given to the decoder\n",
        "        # as its input.\n",
        "        output = tf.concat([output, predicted_id], axis=-1)\n",
        "\n",
        "    return tf.squeeze(output, axis=0)\n",
        "\n",
        "\n",
        "def predict(sentence):\n",
        "    prediction = evaluate(sentence)\n",
        "    predicted_sentence = tokenizer.decode(\n",
        "        [i for i in prediction if i < tokenizer.vocab_size]\n",
        "    )\n",
        "    return predicted_sentence"
      ]
    },
    {
      "cell_type": "markdown",
      "metadata": {
        "id": "9J3Jdtk2P-RT",
        "pycharm": {
          "name": "#%% md\n"
        }
      },
      "source": [
        "Let's test our model!"
      ]
    },
    {
      "cell_type": "code",
      "execution_count": 82,
      "metadata": {
        "colab": {
          "base_uri": "https://localhost:8080/",
          "height": 35
        },
        "id": "6IeMSGEgRTvC",
        "outputId": "e44aa693-0f77-48ce-beb4-6d7bc9448b8c",
        "pycharm": {
          "name": "#%%\n"
        }
      },
      "outputs": [
        {
          "data": {
            "text/plain": [
              "'a beautiful geek ? what are you doing ? i have not been fighting the country yet ?'"
            ]
          },
          "execution_count": 82,
          "metadata": {},
          "output_type": "execute_result"
        }
      ],
      "source": [
        "predict(\"Where have you been?\")"
      ]
    },
    {
      "cell_type": "code",
      "execution_count": 83,
      "metadata": {
        "colab": {
          "base_uri": "https://localhost:8080/",
          "height": 35
        },
        "id": "ivVgU6ydRV8R",
        "outputId": "401151d0-f5a1-4ed2-b0ec-eb40e6303165",
        "pycharm": {
          "name": "#%%\n"
        }
      },
      "outputs": [
        {
          "data": {
            "text/plain": [
              "'huh . you come out and sit down .'"
            ]
          },
          "execution_count": 83,
          "metadata": {},
          "output_type": "execute_result"
        }
      ],
      "source": [
        "predict(\"It's a trap\")"
      ]
    },
    {
      "cell_type": "code",
      "execution_count": 84,
      "metadata": {
        "colab": {
          "base_uri": "https://localhost:8080/"
        },
        "id": "s5zG7i8KAtRU",
        "outputId": "30ab1dc6-1e5b-43ad-fe70-27c4f28945b3",
        "pycharm": {
          "name": "#%%\n"
        }
      },
      "outputs": [
        {
          "name": "stdout",
          "output_type": "stream",
          "text": [
            "Input: I am not crazy, my mother had me tested.\n",
            "Output: oh , for god s sake , what are you ? why do you have ? i am not being silly ?\n",
            "\n",
            "Input: oh , for god s sake , what are you ? why do you have ? i am not being silly ?\n",
            "Output: no , i could not talk to you about it tonight . just for myself .\n",
            "\n",
            "Input: no , i could not talk to you about it tonight . just for myself .\n",
            "Output: what are you doing here ?\n",
            "\n",
            "Input: what are you doing here ?\n",
            "Output: i came to see you .\n",
            "\n",
            "Input: i came to see you .\n",
            "Output: i see . you are good , because you are a college girl , how i know i feel . i have just been expecting something else .\n",
            "\n"
          ]
        }
      ],
      "source": [
        "# feed the model with its previous output\n",
        "sentence = \"I am not crazy, my mother had me tested.\"\n",
        "for _ in range(5):\n",
        "    print(f\"Input: {sentence}\")\n",
        "    sentence = predict(sentence)\n",
        "    print(f\"Output: {sentence}\\n\")"
      ]
    },
    {
      "cell_type": "markdown",
      "metadata": {
        "id": "5-dGPc14QnAP",
        "pycharm": {
          "name": "#%% md\n"
        }
      },
      "source": [
        "## Summary\n",
        "\n",
        "Here we are, we have implemented a Transformer in TensorFlow 2.0 in around 500 lines of code.\n",
        "\n",
        "In this tutorial, we focus on the two different approaches to implement complex models with Functional API and Model subclassing, and how to incorporate them.\n",
        "\n",
        "Try using a different dataset or hyper-parameters to train the Transformer! Thanks for reading.\n"
      ]
    }
  ],
  "metadata": {
    "accelerator": "GPU",
    "colab": {
      "collapsed_sections": [],
      "name": "tf2_tpu_transformer_chatbot.ipynb",
      "provenance": [],
      "toc_visible": true
    },
    "gpuClass": "standard",
    "kernelspec": {
      "display_name": "Python 3.8.13 ('chatbot')",
      "language": "python",
      "name": "python3"
    },
    "language_info": {
      "codemirror_mode": {
        "name": "ipython",
        "version": 3
      },
      "file_extension": ".py",
      "mimetype": "text/x-python",
      "name": "python",
      "nbconvert_exporter": "python",
      "pygments_lexer": "ipython3",
      "version": "3.10.14"
    },
    "vscode": {
      "interpreter": {
        "hash": "ae3971eee9233ad9f55ed246ea12350df9b5f24d65dffa1d8809b3ad9991640d"
      }
    }
  },
  "nbformat": 4,
  "nbformat_minor": 0
}
