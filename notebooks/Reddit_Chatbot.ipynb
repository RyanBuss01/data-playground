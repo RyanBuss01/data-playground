{
  "cells": [
    {
      "cell_type": "markdown",
      "metadata": {
        "colab_type": "text",
        "id": "G-rqAHPJ5Cpz"
      },
      "source": [
        "# Data"
      ]
    },
    {
      "cell_type": "code",
      "execution_count": 2,
      "metadata": {
        "colab": {
          "base_uri": "https://localhost:8080/",
          "height": 390
        },
        "colab_type": "code",
        "id": "rDpkX0OrHjNS",
        "outputId": "9e8a073b-1eb1-4d8a-d345-469d7aac2e82"
      },
      "outputs": [],
      "source": [
        "import tensorflow as tf\n",
        "assert tf.__version__.startswith('2')\n",
        "tf.random.set_seed(1234)\n",
        "\n",
        "import tensorflow_datasets as tfds\n",
        "\n",
        "import os\n",
        "import re\n",
        "import numpy as np\n",
        "\n",
        "import matplotlib.pyplot as plt"
      ]
    },
    {
      "cell_type": "code",
      "execution_count": 3,
      "metadata": {
        "colab": {},
        "colab_type": "code",
        "id": "7wxesXrcG-ks"
      },
      "outputs": [],
      "source": [
        "def preprocess_sentence(sentence):\n",
        "  sentence = sentence.lower().strip()\n",
        "  # creating a space between a word and the punctuation following it\n",
        "  # eg: \"he is a boy.\" => \"he is a boy .\"\n",
        "  sentence = re.sub(r\"([?.!,])\", r\" \\1 \", sentence)\n",
        "  sentence = re.sub(r'[\" \"]+', \" \", sentence)\n",
        "  # replacing everything with space except (a-z, A-Z, \".\", \"?\", \"!\", \",\")\n",
        "  sentence = re.sub(r\"[^a-zA-Z?.!,]+\", \" \", sentence)\n",
        "  sentence = sentence.strip()\n",
        "  # adding a start and an end token to the sentence\n",
        "  return sentence"
      ]
    },
    {
      "cell_type": "code",
      "execution_count": 4,
      "metadata": {
        "colab": {
          "base_uri": "https://localhost:8080/",
          "height": 67
        },
        "colab_type": "code",
        "id": "_efxjrvvRnX7",
        "outputId": "c00ffa3d-69c0-493b-9c07-a4bd4970f6f6"
      },
      "outputs": [
        {
          "name": "stdout",
          "output_type": "stream",
          "text": [
            "100000\n",
            "The worst was the back to back OT losses by LSU and the Saints in a matter of like 14 hours, both on what I feel was just horrible officiating. \n",
            "\n"
          ]
        }
      ],
      "source": [
        "i = 0\n",
        "questions = []\n",
        "for l in open(\"../datasets/reddit_data/train.from\"):\n",
        "  preprocess_sentence(l)\n",
        "  # print(i, l)\n",
        "  questions.append(l)\n",
        "  i += 1\n",
        "  if i == 100000:\n",
        "    print(len(questions))\n",
        "    print(l)\n",
        "    break"
      ]
    },
    {
      "cell_type": "code",
      "execution_count": 5,
      "metadata": {
        "colab": {
          "base_uri": "https://localhost:8080/",
          "height": 67
        },
        "colab_type": "code",
        "id": "7xqzz16PR8A5",
        "outputId": "05f280b7-e90a-4ee3-dab5-f5aef341436d"
      },
      "outputs": [
        {
          "name": "stdout",
          "output_type": "stream",
          "text": [
            "100000\n",
            "Fuck that weekend. Fortunately, I was too hungover to really care about the saints game. \n",
            "\n"
          ]
        }
      ],
      "source": [
        "i = 0\n",
        "answers = []\n",
        "for l in open(\"../datasets/reddit_data/train.to\"):\n",
        "  preprocess_sentence(l)\n",
        "  # print(i, l)\n",
        "  answers.append(l)\n",
        "  i += 1\n",
        "  if i == 100000:\n",
        "    print(len(answers))\n",
        "    print(l)\n",
        "    break"
      ]
    },
    {
      "cell_type": "code",
      "execution_count": 8,
      "metadata": {
        "colab": {},
        "colab_type": "code",
        "id": "1jM3_-WiSXaB"
      },
      "outputs": [],
      "source": [
        "# Build tokenizer using tfds for both questions and answers\n",
        "tokenizer = tfds.deprecated.text.SubwordTextEncoder.build_from_corpus(\n",
        "    questions + answers, target_vocab_size=2**13)\n",
        "\n",
        "# Define start and end token to indicate the start and end of a sentence\n",
        "START_TOKEN, END_TOKEN = [tokenizer.vocab_size], [tokenizer.vocab_size + 1]\n",
        "\n",
        "# Vocabulary size plus start and end token\n",
        "VOCAB_SIZE = tokenizer.vocab_size + 2"
      ]
    },
    {
      "cell_type": "code",
      "execution_count": 9,
      "metadata": {
        "colab": {
          "base_uri": "https://localhost:8080/",
          "height": 104
        },
        "colab_type": "code",
        "id": "ZIPo4DFX0xbF",
        "outputId": "b695fd14-0493-4efb-f443-b593cc29b462"
      },
      "outputs": [
        {
          "name": "stdout",
          "output_type": "stream",
          "text": [
            "[116, 56, 7988, 7920, 167, 7912, 6, 32, 5, 343, 3229, 42, 2769, 304, 7920, 143, 193, 407, 238, 7987, 7920, 3229, 3878, 7988, 857, 18, 92, 150, 1557, 19, 575, 33, 175, 7]\n",
            "[4667, 169, 1, 7946, 7912, 79, 146, 111, 8, 16, 2765, 1, 9, 4, 28, 280, 3229, 7918, 7624, 217, 50]\n",
            "100000\n",
            "100000\n"
          ]
        }
      ],
      "source": [
        "print(tokenizer.encode(questions[0]))\n",
        "print(tokenizer.encode(answers[0]))\n",
        "print(len(questions))\n",
        "print(len(answers))"
      ]
    },
    {
      "cell_type": "code",
      "execution_count": 10,
      "metadata": {
        "colab": {
          "base_uri": "https://localhost:8080/",
          "height": 50
        },
        "colab_type": "code",
        "id": "FzlAFsP81fhX",
        "outputId": "6dcf3c9f-0a7c-40bb-9f0a-c592a1e6139c"
      },
      "outputs": [
        {
          "name": "stdout",
          "output_type": "stream",
          "text": [
            "65339\n",
            "65339\n"
          ]
        }
      ],
      "source": [
        "MAX_LENGTH = 40\n",
        "\n",
        "\n",
        "# Tokenize, filter and pad sentences\n",
        "def tokenize_and_filter(inputs, outputs):\n",
        "  tokenized_inputs, tokenized_outputs = [], []\n",
        "  \n",
        "  for (sentence1, sentence2) in zip(inputs, outputs):\n",
        "    # tokenize sentence\n",
        "    sentence1 = START_TOKEN + tokenizer.encode(sentence1) + END_TOKEN\n",
        "    sentence2 = START_TOKEN + tokenizer.encode(sentence2) + END_TOKEN\n",
        "    # check tokenized sentence max length\n",
        "    if len(sentence1) <= MAX_LENGTH and len(sentence2) <= MAX_LENGTH:\n",
        "      tokenized_inputs.append(sentence1)\n",
        "      tokenized_outputs.append(sentence2)\n",
        "  \n",
        "  # pad tokenized sentences\n",
        "  tokenized_inputs = tf.keras.preprocessing.sequence.pad_sequences(\n",
        "      tokenized_inputs, maxlen=MAX_LENGTH, padding='post')\n",
        "  tokenized_outputs = tf.keras.preprocessing.sequence.pad_sequences(\n",
        "      tokenized_outputs, maxlen=MAX_LENGTH, padding='post')\n",
        "  \n",
        "  return tokenized_inputs, tokenized_outputs\n",
        "\n",
        "\n",
        "questions, answers = tokenize_and_filter(questions, answers)\n",
        "print(len(questions))\n",
        "print(len(answers))"
      ]
    },
    {
      "cell_type": "code",
      "execution_count": 11,
      "metadata": {
        "colab": {
          "base_uri": "https://localhost:8080/",
          "height": 50
        },
        "colab_type": "code",
        "id": "5J-MC_Qj1s42",
        "outputId": "d871482f-bbc6-4f36-91e0-6fbc528e8acb"
      },
      "outputs": [
        {
          "name": "stdout",
          "output_type": "stream",
          "text": [
            "Vocab size: 8131\n",
            "Number of samples: 65339\n"
          ]
        }
      ],
      "source": [
        "print('Vocab size: {}'.format(VOCAB_SIZE))\n",
        "print('Number of samples: {}'.format(len(questions)))"
      ]
    },
    {
      "cell_type": "markdown",
      "metadata": {
        "colab_type": "text",
        "id": "xp2vwhZs46c-"
      },
      "source": [
        "# tf.data.Dataset API"
      ]
    },
    {
      "cell_type": "code",
      "execution_count": 12,
      "metadata": {
        "colab": {},
        "colab_type": "code",
        "id": "vY3kIqlO498N"
      },
      "outputs": [],
      "source": [
        "BATCH_SIZE = 64\n",
        "BUFFER_SIZE = 20000\n",
        "\n",
        "# decoder inputs use the previous target as input\n",
        "# remove START_TOKEN from targets\n",
        "dataset = tf.data.Dataset.from_tensor_slices((\n",
        "    {\n",
        "        'inputs': questions,\n",
        "        'dec_inputs': answers[:, :-1]\n",
        "    },\n",
        "    {\n",
        "        'outputs': answers[:, 1:]\n",
        "    },\n",
        "))\n",
        "\n",
        "dataset = dataset.cache()\n",
        "dataset = dataset.shuffle(BUFFER_SIZE)\n",
        "dataset = dataset.batch(BATCH_SIZE)\n",
        "dataset = dataset.prefetch(tf.data.experimental.AUTOTUNE)"
      ]
    },
    {
      "cell_type": "code",
      "execution_count": 13,
      "metadata": {
        "colab": {
          "base_uri": "https://localhost:8080/",
          "height": 54
        },
        "colab_type": "code",
        "id": "8dxE2Lwx5UR8",
        "outputId": "b0e003f9-d8ef-4b5b-fd8e-9d6e389f1042"
      },
      "outputs": [
        {
          "name": "stdout",
          "output_type": "stream",
          "text": [
            "<PrefetchDataset element_spec=({'inputs': TensorSpec(shape=(None, 40), dtype=tf.int32, name=None), 'dec_inputs': TensorSpec(shape=(None, 39), dtype=tf.int32, name=None)}, {'outputs': TensorSpec(shape=(None, 39), dtype=tf.int32, name=None)})>\n"
          ]
        }
      ],
      "source": [
        "print(dataset)"
      ]
    },
    {
      "cell_type": "code",
      "execution_count": 14,
      "metadata": {
        "colab": {
          "base_uri": "https://localhost:8080/",
          "height": 84
        },
        "colab_type": "code",
        "id": "xA4tdI-o6IcY",
        "outputId": "26a3b359-d24f-4c5b-fa40-bdd2c694bd55"
      },
      "outputs": [
        {
          "data": {
            "text/plain": [
              "array([8129,  336,   29,    4, 1407,  122,  382, 1233, 7512, 7905, 7443,\n",
              "       7988,    3, 1410, 4361,    7, 8130,    0,    0,    0,    0,    0,\n",
              "          0,    0,    0,    0,    0,    0,    0,    0,    0,    0,    0,\n",
              "          0,    0,    0,    0,    0,    0])"
            ]
          },
          "execution_count": 14,
          "metadata": {},
          "output_type": "execute_result"
        }
      ],
      "source": [
        "answers[1, :-1]  # decoder input"
      ]
    },
    {
      "cell_type": "code",
      "execution_count": 15,
      "metadata": {
        "colab": {
          "base_uri": "https://localhost:8080/",
          "height": 84
        },
        "colab_type": "code",
        "id": "Fl1jY58v6Qv4",
        "outputId": "8d34bd12-2211-4e5e-e060-c4ed238259e6"
      },
      "outputs": [
        {
          "data": {
            "text/plain": [
              "array([ 336,   29,    4, 1407,  122,  382, 1233, 7512, 7905, 7443, 7988,\n",
              "          3, 1410, 4361,    7, 8130,    0,    0,    0,    0,    0,    0,\n",
              "          0,    0,    0,    0,    0,    0,    0,    0,    0,    0,    0,\n",
              "          0,    0,    0,    0,    0,    0])"
            ]
          },
          "execution_count": 15,
          "metadata": {},
          "output_type": "execute_result"
        }
      ],
      "source": [
        "answers[1, 1:] # output"
      ]
    },
    {
      "cell_type": "code",
      "execution_count": 16,
      "metadata": {
        "colab": {
          "base_uri": "https://localhost:8080/",
          "height": 84
        },
        "colab_type": "code",
        "id": "eVZHWMQO6LrW",
        "outputId": "f7dd3ea5-a1d6-4b83-bfd6-4d2b18afa526"
      },
      "outputs": [
        {
          "data": {
            "text/plain": [
              "array([8129,    4,  519,   15,    2, 6980, 7984,    3,   67,  641,   13,\n",
              "        220, 3105,   45,    9,    2, 7443,    6,  220, 4562,    3,  201,\n",
              "        220, 2770, 1267,    8,    2,  526, 5441, 7905,   29,   47,  300,\n",
              "        220, 1321,   21, 8130,    0,    0,    0])"
            ]
          },
          "execution_count": 16,
          "metadata": {},
          "output_type": "execute_result"
        }
      ],
      "source": [
        "questions[1] # input"
      ]
    },
    {
      "cell_type": "markdown",
      "metadata": {
        "colab_type": "text",
        "id": "tKO0RbVl5lSP"
      },
      "source": [
        "# Attention\n"
      ]
    },
    {
      "cell_type": "code",
      "execution_count": 17,
      "metadata": {
        "colab": {},
        "colab_type": "code",
        "id": "dt_z3DVa7XZE"
      },
      "outputs": [],
      "source": [
        "def scaled_dot_product_attention(query, key, value, mask):\n",
        "  \"\"\"Calculate the attention weights. \"\"\"\n",
        "  matmul_qk = tf.matmul(query, key, transpose_b=True)\n",
        "\n",
        "  # scale matmul_qk\n",
        "  depth = tf.cast(tf.shape(key)[-1], tf.float32)\n",
        "  logits = matmul_qk / tf.math.sqrt(depth)\n",
        "\n",
        "  # add the mask to zero out padding tokens\n",
        "  if mask is not None:\n",
        "    logits += (mask * -1e9)\n",
        "\n",
        "  # softmax is normalized on the last axis (seq_len_k)\n",
        "  attention_weights = tf.nn.softmax(logits, axis=-1)\n",
        "\n",
        "  output = tf.matmul(attention_weights, value)\n",
        "\n",
        "  return output"
      ]
    },
    {
      "cell_type": "code",
      "execution_count": 18,
      "metadata": {
        "colab": {},
        "colab_type": "code",
        "id": "dfniGjPHh47c"
      },
      "outputs": [],
      "source": [
        "class MultiHeadAttention(tf.keras.layers.Layer):\n",
        "\n",
        "  def __init__(self, d_model, num_heads, name=\"multi_head_attention\"):\n",
        "    super(MultiHeadAttention, self).__init__(name=name)\n",
        "    self.num_heads = num_heads\n",
        "    self.d_model = d_model\n",
        "\n",
        "    assert d_model % self.num_heads == 0\n",
        "\n",
        "    self.depth = d_model // self.num_heads\n",
        "\n",
        "    self.query_dense = tf.keras.layers.Dense(units=d_model)\n",
        "    self.key_dense = tf.keras.layers.Dense(units=d_model)\n",
        "    self.value_dense = tf.keras.layers.Dense(units=d_model)\n",
        "\n",
        "    self.dense = tf.keras.layers.Dense(units=d_model)\n",
        "\n",
        "  def split_heads(self, inputs, batch_size):\n",
        "    inputs = tf.reshape(\n",
        "        inputs, shape=(batch_size, -1, self.num_heads, self.depth))\n",
        "    return tf.transpose(inputs, perm=[0, 2, 1, 3])\n",
        "\n",
        "  def call(self, inputs):\n",
        "    query, key, value, mask = inputs['query'], inputs['key'], inputs[\n",
        "        'value'], inputs['mask']\n",
        "    batch_size = tf.shape(query)[0]\n",
        "\n",
        "    # linear layers\n",
        "    query = self.query_dense(query)\n",
        "    key = self.key_dense(key)\n",
        "    value = self.value_dense(value)\n",
        "\n",
        "    # split heads\n",
        "    query = self.split_heads(query, batch_size)\n",
        "    key = self.split_heads(key, batch_size)\n",
        "    value = self.split_heads(value, batch_size)\n",
        "\n",
        "    # scaled dot-product attention\n",
        "    scaled_attention = scaled_dot_product_attention(query, key, value, mask)\n",
        "\n",
        "    scaled_attention = tf.transpose(scaled_attention, perm=[0, 2, 1, 3])\n",
        "\n",
        "    # concatenation of heads\n",
        "    concat_attention = tf.reshape(scaled_attention,\n",
        "                                  (batch_size, -1, self.d_model))\n",
        "\n",
        "    # final linear layer\n",
        "    outputs = self.dense(concat_attention)\n",
        "\n",
        "    return outputs"
      ]
    },
    {
      "cell_type": "markdown",
      "metadata": {
        "colab_type": "text",
        "id": "M5D9prGLizmI"
      },
      "source": [
        "## Transformer"
      ]
    },
    {
      "cell_type": "code",
      "execution_count": 20,
      "metadata": {
        "colab": {},
        "colab_type": "code",
        "id": "C00LBcf-i6s0"
      },
      "outputs": [],
      "source": [
        "def create_padding_mask(x):\n",
        "  mask = tf.cast(tf.math.equal(x, 0), tf.float32)\n",
        "  # (batch_size, 1, 1, sequence length)\n",
        "  return mask[:, tf.newaxis, tf.newaxis, :]"
      ]
    },
    {
      "cell_type": "code",
      "execution_count": 21,
      "metadata": {
        "colab": {
          "base_uri": "https://localhost:8080/",
          "height": 101
        },
        "colab_type": "code",
        "id": "vNo_JpZMjAm8",
        "outputId": "3093451a-a3d0-4dee-b3ce-2a588ec07277"
      },
      "outputs": [
        {
          "name": "stdout",
          "output_type": "stream",
          "text": [
            "tf.Tensor(\n",
            "[[[[0. 0. 1. 0. 1.]]]\n",
            "\n",
            "\n",
            " [[[1. 1. 1. 0. 0.]]]], shape=(2, 1, 1, 5), dtype=float32)\n"
          ]
        }
      ],
      "source": [
        "print(create_padding_mask(tf.constant([[1, 2, 0, 3, 0], [0, 0, 0, 4, 5]])))"
      ]
    },
    {
      "cell_type": "code",
      "execution_count": 22,
      "metadata": {
        "colab": {},
        "colab_type": "code",
        "id": "YvXspZbljGZQ"
      },
      "outputs": [],
      "source": [
        "def create_look_ahead_mask(x):\n",
        "  seq_len = tf.shape(x)[1]\n",
        "  look_ahead_mask = 1 - tf.linalg.band_part(tf.ones((seq_len, seq_len)), -1, 0)\n",
        "  padding_mask = create_padding_mask(x)\n",
        "  return tf.maximum(look_ahead_mask, padding_mask)"
      ]
    },
    {
      "cell_type": "code",
      "execution_count": 23,
      "metadata": {
        "colab": {
          "base_uri": "https://localhost:8080/",
          "height": 118
        },
        "colab_type": "code",
        "id": "JCsrxxLPjJUw",
        "outputId": "d91001f1-1f4d-486a-bd65-53f8807962b5"
      },
      "outputs": [
        {
          "name": "stdout",
          "output_type": "stream",
          "text": [
            "tf.Tensor(\n",
            "[[[[0. 1. 1. 1. 1.]\n",
            "   [0. 0. 1. 1. 1.]\n",
            "   [0. 0. 1. 1. 1.]\n",
            "   [0. 0. 1. 0. 1.]\n",
            "   [0. 0. 1. 0. 0.]]]], shape=(1, 1, 5, 5), dtype=float32)\n"
          ]
        }
      ],
      "source": [
        "print(create_look_ahead_mask(tf.constant([[1, 2, 0, 4, 5]])))"
      ]
    },
    {
      "cell_type": "code",
      "execution_count": 24,
      "metadata": {
        "colab": {},
        "colab_type": "code",
        "id": "TqRUtt7FjqxY"
      },
      "outputs": [],
      "source": [
        "class PositionalEncoding(tf.keras.layers.Layer):\n",
        "\n",
        "  def __init__(self, position, d_model):\n",
        "    super(PositionalEncoding, self).__init__()\n",
        "    self.pos_encoding = self.positional_encoding(position, d_model)\n",
        "\n",
        "  def get_angles(self, position, i, d_model):\n",
        "    angles = 1 / tf.pow(10000, (2 * (i // 2)) / tf.cast(d_model, tf.float32))\n",
        "    return position * angles\n",
        "\n",
        "  def positional_encoding(self, position, d_model):\n",
        "    angle_rads = self.get_angles(\n",
        "        position=tf.range(position, dtype=tf.float32)[:, tf.newaxis],\n",
        "        i=tf.range(d_model, dtype=tf.float32)[tf.newaxis, :],\n",
        "        d_model=d_model)\n",
        "    # apply sin to even index in the array\n",
        "    sines = tf.math.sin(angle_rads[:, 0::2])\n",
        "    # apply cos to odd index in the array\n",
        "    cosines = tf.math.cos(angle_rads[:, 1::2])\n",
        "\n",
        "    pos_encoding = tf.concat([sines, cosines], axis=-1)\n",
        "    pos_encoding = pos_encoding[tf.newaxis, ...]\n",
        "    return tf.cast(pos_encoding, tf.float32)\n",
        "\n",
        "  def call(self, inputs):\n",
        "    return inputs + self.pos_encoding[:, :tf.shape(inputs)[1], :]"
      ]
    },
    {
      "cell_type": "code",
      "execution_count": 25,
      "metadata": {
        "colab": {
          "base_uri": "https://localhost:8080/",
          "height": 283
        },
        "colab_type": "code",
        "id": "S3RAkaNUjs2M",
        "outputId": "c7cd4155-ae80-4fd2-afca-e94d92bbb0e3"
      },
      "outputs": [
        {
          "data": {
            "image/png": "[encoded data removed]",
            "text/plain": [
              "<Figure size 640x480 with 2 Axes>"
            ]
          },
          "metadata": {},
          "output_type": "display_data"
        }
      ],
      "source": [
        "sample_pos_encoding = PositionalEncoding(50, 512)\n",
        "\n",
        "plt.pcolormesh(sample_pos_encoding.pos_encoding.numpy()[0])\n",
        "plt.xlabel('Depth')\n",
        "plt.xlim((0, 512))\n",
        "plt.ylabel('Position')\n",
        "plt.colorbar()\n",
        "plt.show()"
      ]
    },
    {
      "cell_type": "code",
      "execution_count": 26,
      "metadata": {
        "colab": {},
        "colab_type": "code",
        "id": "6zl0uwfFj3RY"
      },
      "outputs": [],
      "source": [
        "def encoder_layer(units, d_model, num_heads, dropout, name=\"encoder_layer\"):\n",
        "  inputs = tf.keras.Input(shape=(None, d_model), name=\"inputs\")\n",
        "  padding_mask = tf.keras.Input(shape=(1, 1, None), name=\"padding_mask\")\n",
        "\n",
        "  attention = MultiHeadAttention(\n",
        "      d_model, num_heads, name=\"attention\")({\n",
        "          'query': inputs,\n",
        "          'key': inputs,\n",
        "          'value': inputs,\n",
        "          'mask': padding_mask\n",
        "      })\n",
        "  attention = tf.keras.layers.Dropout(rate=dropout)(attention)\n",
        "  attention = tf.keras.layers.LayerNormalization(\n",
        "      epsilon=1e-6)(inputs + attention)\n",
        "\n",
        "  outputs = tf.keras.layers.Dense(units=units, activation='relu')(attention)\n",
        "  outputs = tf.keras.layers.Dense(units=d_model)(outputs)\n",
        "  outputs = tf.keras.layers.Dropout(rate=dropout)(outputs)\n",
        "  outputs = tf.keras.layers.LayerNormalization(\n",
        "      epsilon=1e-6)(attention + outputs)\n",
        "\n",
        "  return tf.keras.Model(\n",
        "      inputs=[inputs, padding_mask], outputs=outputs, name=name)"
      ]
    },
    {
      "cell_type": "code",
      "execution_count": 27,
      "metadata": {
        "colab": {
          "base_uri": "https://localhost:8080/",
          "height": 1000
        },
        "colab_type": "code",
        "id": "vJZaZO32j5kQ",
        "outputId": "c9fee382-a28d-4f64-b350-3c536218d4b9"
      },
      "outputs": [
        {
          "name": "stdout",
          "output_type": "stream",
          "text": [
            "You must install pydot (`pip install pydot`) and install graphviz (see instructions at https://graphviz.gitlab.io/download/) for plot_model to work.\n"
          ]
        }
      ],
      "source": [
        "sample_encoder_layer = encoder_layer(\n",
        "    units=512,\n",
        "    d_model=128,\n",
        "    num_heads=4,\n",
        "    dropout=0.3,\n",
        "    name=\"sample_encoder_layer\")\n",
        "\n",
        "tf.keras.utils.plot_model(\n",
        "    sample_encoder_layer, to_file='encoder_layer.png', show_shapes=True)"
      ]
    },
    {
      "cell_type": "code",
      "execution_count": 28,
      "metadata": {
        "colab": {},
        "colab_type": "code",
        "id": "64pXQNM8kACU"
      },
      "outputs": [],
      "source": [
        "def encoder(vocab_size,\n",
        "            num_layers,\n",
        "            units,\n",
        "            d_model,\n",
        "            num_heads,\n",
        "            dropout,\n",
        "            name=\"encoder\"):\n",
        "  inputs = tf.keras.Input(shape=(None,), name=\"inputs\")\n",
        "  padding_mask = tf.keras.Input(shape=(1, 1, None), name=\"padding_mask\")\n",
        "\n",
        "  embeddings = tf.keras.layers.Embedding(vocab_size, d_model)(inputs)\n",
        "  embeddings *= tf.math.sqrt(tf.cast(d_model, tf.float32))\n",
        "  embeddings = PositionalEncoding(vocab_size, d_model)(embeddings)\n",
        "\n",
        "  outputs = tf.keras.layers.Dropout(rate=dropout)(embeddings)\n",
        "\n",
        "  for i in range(num_layers):\n",
        "    outputs = encoder_layer(\n",
        "        units=units,\n",
        "        d_model=d_model,\n",
        "        num_heads=num_heads,\n",
        "        dropout=dropout,\n",
        "        name=\"encoder_layer_{}\".format(i),\n",
        "    )([outputs, padding_mask])\n",
        "\n",
        "  return tf.keras.Model(\n",
        "      inputs=[inputs, padding_mask], outputs=outputs, name=name)"
      ]
    },
    {
      "cell_type": "code",
      "execution_count": 29,
      "metadata": {
        "colab": {
          "base_uri": "https://localhost:8080/",
          "height": 754
        },
        "colab_type": "code",
        "id": "18hC7R0ckHVg",
        "outputId": "129ade9f-df9e-434d-9813-e4c00be49224"
      },
      "outputs": [
        {
          "name": "stdout",
          "output_type": "stream",
          "text": [
            "You must install pydot (`pip install pydot`) and install graphviz (see instructions at https://graphviz.gitlab.io/download/) for plot_model to work.\n"
          ]
        }
      ],
      "source": [
        "sample_encoder = encoder(\n",
        "    vocab_size=8192,\n",
        "    num_layers=2,\n",
        "    units=512,\n",
        "    d_model=128,\n",
        "    num_heads=4,\n",
        "    dropout=0.3,\n",
        "    name=\"sample_encoder\")\n",
        "\n",
        "tf.keras.utils.plot_model(\n",
        "   sample_encoder, to_file='encoder.png', show_shapes=True)"
      ]
    },
    {
      "cell_type": "code",
      "execution_count": 30,
      "metadata": {
        "colab": {},
        "colab_type": "code",
        "id": "jCa8GUCukLcA"
      },
      "outputs": [],
      "source": [
        "def decoder_layer(units, d_model, num_heads, dropout, name=\"decoder_layer\"):\n",
        "  inputs = tf.keras.Input(shape=(None, d_model), name=\"inputs\")\n",
        "  enc_outputs = tf.keras.Input(shape=(None, d_model), name=\"encoder_outputs\")\n",
        "  look_ahead_mask = tf.keras.Input(\n",
        "      shape=(1, None, None), name=\"look_ahead_mask\")\n",
        "  padding_mask = tf.keras.Input(shape=(1, 1, None), name='padding_mask')\n",
        "\n",
        "  attention1 = MultiHeadAttention(\n",
        "      d_model, num_heads, name=\"attention_1\")(inputs={\n",
        "          'query': inputs,\n",
        "          'key': inputs,\n",
        "          'value': inputs,\n",
        "          'mask': look_ahead_mask\n",
        "      })\n",
        "  attention1 = tf.keras.layers.LayerNormalization(\n",
        "      epsilon=1e-6)(attention1 + inputs)\n",
        "\n",
        "  attention2 = MultiHeadAttention(\n",
        "      d_model, num_heads, name=\"attention_2\")(inputs={\n",
        "          'query': attention1,\n",
        "          'key': enc_outputs,\n",
        "          'value': enc_outputs,\n",
        "          'mask': padding_mask\n",
        "      })\n",
        "  attention2 = tf.keras.layers.Dropout(rate=dropout)(attention2)\n",
        "  attention2 = tf.keras.layers.LayerNormalization(\n",
        "      epsilon=1e-6)(attention2 + attention1)\n",
        "\n",
        "  outputs = tf.keras.layers.Dense(units=units, activation='relu')(attention2)\n",
        "  outputs = tf.keras.layers.Dense(units=d_model)(outputs)\n",
        "  outputs = tf.keras.layers.Dropout(rate=dropout)(outputs)\n",
        "  outputs = tf.keras.layers.LayerNormalization(\n",
        "      epsilon=1e-6)(outputs + attention2)\n",
        "\n",
        "  return tf.keras.Model(\n",
        "      inputs=[inputs, enc_outputs, look_ahead_mask, padding_mask],\n",
        "      outputs=outputs,\n",
        "      name=name)"
      ]
    },
    {
      "cell_type": "code",
      "execution_count": 31,
      "metadata": {
        "colab": {
          "base_uri": "https://localhost:8080/",
          "height": 1000
        },
        "colab_type": "code",
        "id": "jCMnTkQ4kP-o",
        "outputId": "470d74ef-eaad-463c-e744-675c08bd38c1"
      },
      "outputs": [
        {
          "name": "stdout",
          "output_type": "stream",
          "text": [
            "You must install pydot (`pip install pydot`) and install graphviz (see instructions at https://graphviz.gitlab.io/download/) for plot_model to work.\n"
          ]
        }
      ],
      "source": [
        "sample_decoder_layer = decoder_layer(\n",
        "    units=512,\n",
        "    d_model=128,\n",
        "    num_heads=4,\n",
        "    dropout=0.3,\n",
        "    name=\"sample_decoder_layer\")\n",
        "\n",
        "tf.keras.utils.plot_model(\n",
        "    sample_decoder_layer, to_file='decoder_layer.png', show_shapes=True)"
      ]
    },
    {
      "cell_type": "code",
      "execution_count": 32,
      "metadata": {
        "colab": {},
        "colab_type": "code",
        "id": "2QAvwaxNkiHk"
      },
      "outputs": [],
      "source": [
        "def decoder(vocab_size,\n",
        "            num_layers,\n",
        "            units,\n",
        "            d_model,\n",
        "            num_heads,\n",
        "            dropout,\n",
        "            name='decoder'):\n",
        "  inputs = tf.keras.Input(shape=(None,), name='inputs')\n",
        "  enc_outputs = tf.keras.Input(shape=(None, d_model), name='encoder_outputs')\n",
        "  look_ahead_mask = tf.keras.Input(\n",
        "      shape=(1, None, None), name='look_ahead_mask')\n",
        "  padding_mask = tf.keras.Input(shape=(1, 1, None), name='padding_mask')\n",
        "  \n",
        "  embeddings = tf.keras.layers.Embedding(vocab_size, d_model)(inputs)\n",
        "  embeddings *= tf.math.sqrt(tf.cast(d_model, tf.float32))\n",
        "  embeddings = PositionalEncoding(vocab_size, d_model)(embeddings)\n",
        "\n",
        "  outputs = tf.keras.layers.Dropout(rate=dropout)(embeddings)\n",
        "\n",
        "  for i in range(num_layers):\n",
        "    outputs = decoder_layer(\n",
        "        units=units,\n",
        "        d_model=d_model,\n",
        "        num_heads=num_heads,\n",
        "        dropout=dropout,\n",
        "        name='decoder_layer_{}'.format(i),\n",
        "    )(inputs=[outputs, enc_outputs, look_ahead_mask, padding_mask])\n",
        "\n",
        "  return tf.keras.Model(\n",
        "      inputs=[inputs, enc_outputs, look_ahead_mask, padding_mask],\n",
        "      outputs=outputs,\n",
        "      name=name)"
      ]
    },
    {
      "cell_type": "code",
      "execution_count": 33,
      "metadata": {
        "colab": {
          "base_uri": "https://localhost:8080/",
          "height": 490
        },
        "colab_type": "code",
        "id": "CBpeTiULkk5s",
        "outputId": "881ce409-c2f9-4935-f04c-6bcedcff93f7"
      },
      "outputs": [
        {
          "name": "stdout",
          "output_type": "stream",
          "text": [
            "You must install pydot (`pip install pydot`) and install graphviz (see instructions at https://graphviz.gitlab.io/download/) for plot_model to work.\n"
          ]
        }
      ],
      "source": [
        "sample_decoder = decoder(\n",
        "    vocab_size=8192,\n",
        "    num_layers=2,\n",
        "    units=512,\n",
        "    d_model=128,\n",
        "    num_heads=4,\n",
        "    dropout=0.3,\n",
        "    name=\"sample_decoder\")\n",
        "\n",
        "tf.keras.utils.plot_model(\n",
        "    sample_decoder, to_file='decoder.png', show_shapes=True)"
      ]
    },
    {
      "cell_type": "code",
      "execution_count": 34,
      "metadata": {
        "colab": {},
        "colab_type": "code",
        "id": "hVGZiKROkrhI"
      },
      "outputs": [],
      "source": [
        "def transformer(vocab_size,\n",
        "                num_layers,\n",
        "                units,\n",
        "                d_model,\n",
        "                num_heads,\n",
        "                dropout,\n",
        "                name=\"transformer\"):\n",
        "  inputs = tf.keras.Input(shape=(None,), name=\"inputs\")\n",
        "  dec_inputs = tf.keras.Input(shape=(None,), name=\"dec_inputs\")\n",
        "\n",
        "  enc_padding_mask = tf.keras.layers.Lambda(\n",
        "      create_padding_mask, output_shape=(1, 1, None),\n",
        "      name='enc_padding_mask')(inputs)\n",
        "  # mask the future tokens for decoder inputs at the 1st attention block\n",
        "  look_ahead_mask = tf.keras.layers.Lambda(\n",
        "      create_look_ahead_mask,\n",
        "      output_shape=(1, None, None),\n",
        "      name='look_ahead_mask')(dec_inputs)\n",
        "  # mask the encoder outputs for the 2nd attention block\n",
        "  dec_padding_mask = tf.keras.layers.Lambda(\n",
        "      create_padding_mask, output_shape=(1, 1, None),\n",
        "      name='dec_padding_mask')(inputs)\n",
        "\n",
        "  enc_outputs = encoder(\n",
        "      vocab_size=vocab_size,\n",
        "      num_layers=num_layers,\n",
        "      units=units,\n",
        "      d_model=d_model,\n",
        "      num_heads=num_heads,\n",
        "      dropout=dropout,\n",
        "  )(inputs=[inputs, enc_padding_mask])\n",
        "\n",
        "  dec_outputs = decoder(\n",
        "      vocab_size=vocab_size,\n",
        "      num_layers=num_layers,\n",
        "      units=units,\n",
        "      d_model=d_model,\n",
        "      num_heads=num_heads,\n",
        "      dropout=dropout,\n",
        "  )(inputs=[dec_inputs, enc_outputs, look_ahead_mask, dec_padding_mask])\n",
        "\n",
        "  outputs = tf.keras.layers.Dense(units=vocab_size, name=\"outputs\")(dec_outputs)\n",
        "\n",
        "  return tf.keras.Model(inputs=[inputs, dec_inputs], outputs=outputs, name=name)"
      ]
    },
    {
      "cell_type": "code",
      "execution_count": 35,
      "metadata": {
        "colab": {
          "base_uri": "https://localhost:8080/",
          "height": 430
        },
        "colab_type": "code",
        "id": "fvy61kk-kvNE",
        "outputId": "a44d6e32-c750-4d0a-ff09-932bdc937282"
      },
      "outputs": [
        {
          "name": "stdout",
          "output_type": "stream",
          "text": [
            "You must install pydot (`pip install pydot`) and install graphviz (see instructions at https://graphviz.gitlab.io/download/) for plot_model to work.\n"
          ]
        }
      ],
      "source": [
        "sample_transformer = transformer(\n",
        "    vocab_size=8192,\n",
        "    num_layers=4,\n",
        "    units=512,\n",
        "    d_model=128,\n",
        "    num_heads=4,\n",
        "    dropout=0.3,\n",
        "    name=\"sample_transformer\")\n",
        "\n",
        "tf.keras.utils.plot_model(\n",
        "    sample_transformer, to_file='transformer.png', show_shapes=True)"
      ]
    },
    {
      "cell_type": "code",
      "execution_count": 36,
      "metadata": {
        "colab": {},
        "colab_type": "code",
        "id": "sT0ImDjvk0A4"
      },
      "outputs": [],
      "source": [
        "tf.keras.backend.clear_session()\n",
        "\n",
        "# Hyper-parameters\n",
        "NUM_LAYERS = 2\n",
        "D_MODEL = 256\n",
        "NUM_HEADS = 8\n",
        "UNITS = 512\n",
        "DROPOUT = 0.1\n",
        "\n",
        "model = transformer(\n",
        "    vocab_size=VOCAB_SIZE,\n",
        "    num_layers=NUM_LAYERS,\n",
        "    units=UNITS,\n",
        "    d_model=D_MODEL,\n",
        "    num_heads=NUM_HEADS,\n",
        "    dropout=DROPOUT)"
      ]
    },
    {
      "cell_type": "code",
      "execution_count": 37,
      "metadata": {
        "colab": {},
        "colab_type": "code",
        "id": "EYTqodzNk5Hc"
      },
      "outputs": [],
      "source": [
        "def loss_function(y_true, y_pred):\n",
        "  y_true = tf.reshape(y_true, shape=(-1, MAX_LENGTH - 1))\n",
        "  \n",
        "  loss = tf.keras.losses.SparseCategoricalCrossentropy(\n",
        "      from_logits=True, reduction='none')(y_true, y_pred)\n",
        "\n",
        "  mask = tf.cast(tf.not_equal(y_true, 0), tf.float32)\n",
        "  loss = tf.multiply(loss, mask)\n",
        "\n",
        "  return tf.reduce_mean(loss)"
      ]
    },
    {
      "cell_type": "code",
      "execution_count": 38,
      "metadata": {
        "colab": {},
        "colab_type": "code",
        "id": "bL5m7Sk_k_Sw"
      },
      "outputs": [],
      "source": [
        "class CustomSchedule(tf.keras.optimizers.schedules.LearningRateSchedule):\n",
        "\n",
        "  def __init__(self, d_model, warmup_steps=4000):\n",
        "    super(CustomSchedule, self).__init__()\n",
        "\n",
        "    self.d_model = d_model\n",
        "    self.d_model = tf.cast(self.d_model, tf.float32)\n",
        "\n",
        "    self.warmup_steps = warmup_steps\n",
        "\n",
        "  def __call__(self, step):\n",
        "    arg1 = tf.math.rsqrt(step)\n",
        "    arg2 = step * (self.warmup_steps**-1.5)\n",
        "\n",
        "    return tf.math.rsqrt(self.d_model) * tf.math.minimum(arg1, arg2)"
      ]
    },
    {
      "cell_type": "code",
      "execution_count": 39,
      "metadata": {
        "colab": {
          "base_uri": "https://localhost:8080/",
          "height": 296
        },
        "colab_type": "code",
        "id": "hb_L9wbDlFJw",
        "outputId": "1ce5309c-e8e9-4c22-c00a-45ef071ee2f7"
      },
      "outputs": [
        {
          "data": {
            "text/plain": [
              "Text(0.5, 0, 'Train Step')"
            ]
          },
          "execution_count": 39,
          "metadata": {},
          "output_type": "execute_result"
        },
        {
          "data": {
            "image/png": "[encoded data removed]",
            "text/plain": [
              "<Figure size 640x480 with 1 Axes>"
            ]
          },
          "metadata": {},
          "output_type": "display_data"
        }
      ],
      "source": [
        "sample_learning_rate = CustomSchedule(d_model=128)\n",
        "\n",
        "plt.plot(sample_learning_rate(tf.range(200000, dtype=tf.float32)))\n",
        "plt.ylabel(\"Learning Rate\")\n",
        "plt.xlabel(\"Train Step\")"
      ]
    },
    {
      "cell_type": "code",
      "execution_count": 40,
      "metadata": {
        "colab": {},
        "colab_type": "code",
        "id": "cun_MS8KlL8I"
      },
      "outputs": [],
      "source": [
        "learning_rate = CustomSchedule(D_MODEL)\n",
        "\n",
        "optimizer = tf.keras.optimizers.Adam(\n",
        "    learning_rate, beta_1=0.9, beta_2=0.98, epsilon=1e-9)\n",
        "\n",
        "def accuracy(y_true, y_pred):\n",
        "  # ensure labels have shape (batch_size, MAX_LENGTH - 1)\n",
        "  y_true = tf.reshape(y_true, shape=(-1, MAX_LENGTH - 1))\n",
        "  return tf.keras.metrics.sparse_categorical_accuracy(y_true, y_pred)\n",
        "\n",
        "model.compile(optimizer=optimizer, loss=loss_function, metrics=[accuracy])"
      ]
    },
    {
      "cell_type": "code",
      "execution_count": 43,
      "metadata": {
        "colab": {
          "base_uri": "https://localhost:8080/",
          "height": 1000
        },
        "colab_type": "code",
        "id": "Wk4Eug9XlOy8",
        "outputId": "a2f7f72d-85ef-4686-d638-045fab2faca6"
      },
      "outputs": [
        {
          "name": "stdout",
          "output_type": "stream",
          "text": [
            "Epoch 1/200\n"
          ]
        },
        {
          "name": "stdout",
          "output_type": "stream",
          "text": [
            "1021/1021 [==============================] - ETA: 0s - loss: 2.0516 - accuracy: 0.1078\n",
            "Epoch 1: saving model to model/reddit_chatbot\\Transformer-saved-model-01-2.051553.hdf5\n",
            "1021/1021 [==============================] - 63s 62ms/step - loss: 2.0516 - accuracy: 0.1078\n",
            "Epoch 2/200\n",
            "1021/1021 [==============================] - ETA: 0s - loss: 1.9515 - accuracy: 0.1133\n",
            "Epoch 2: saving model to model/reddit_chatbot\\Transformer-saved-model-02-1.951478.hdf5\n",
            "1021/1021 [==============================] - 62s 61ms/step - loss: 1.9515 - accuracy: 0.1133\n",
            "Epoch 3/200\n",
            "1021/1021 [==============================] - ETA: 0s - loss: 1.8685 - accuracy: 0.1179\n",
            "Epoch 3: saving model to model/reddit_chatbot\\Transformer-saved-model-03-1.868550.hdf5\n",
            "1021/1021 [==============================] - 64s 63ms/step - loss: 1.8685 - accuracy: 0.1179\n",
            "Epoch 4/200\n",
            "1021/1021 [==============================] - ETA: 0s - loss: 1.7813 - accuracy: 0.1233\n",
            "Epoch 4: saving model to model/reddit_chatbot\\Transformer-saved-model-04-1.781268.hdf5\n",
            "1021/1021 [==============================] - 64s 63ms/step - loss: 1.7813 - accuracy: 0.1233\n",
            "Epoch 5/200\n",
            "1021/1021 [==============================] - ETA: 0s - loss: 1.7073 - accuracy: 0.1284\n",
            "Epoch 5: saving model to model/reddit_chatbot\\Transformer-saved-model-05-1.707285.hdf5\n",
            "1021/1021 [==============================] - 64s 62ms/step - loss: 1.7073 - accuracy: 0.1284\n",
            "Epoch 6/200\n",
            "1021/1021 [==============================] - ETA: 0s - loss: 1.6438 - accuracy: 0.1331\n",
            "Epoch 6: saving model to model/reddit_chatbot\\Transformer-saved-model-06-1.643791.hdf5\n",
            "1021/1021 [==============================] - 63s 62ms/step - loss: 1.6438 - accuracy: 0.1331\n",
            "Epoch 7/200\n",
            "1021/1021 [==============================] - ETA: 0s - loss: 1.5883 - accuracy: 0.1375\n",
            "Epoch 7: saving model to model/reddit_chatbot\\Transformer-saved-model-07-1.588328.hdf5\n",
            "1021/1021 [==============================] - 63s 61ms/step - loss: 1.5883 - accuracy: 0.1375\n",
            "Epoch 8/200\n",
            "1021/1021 [==============================] - ETA: 0s - loss: 1.5394 - accuracy: 0.1418\n",
            "Epoch 8: saving model to model/reddit_chatbot\\Transformer-saved-model-08-1.539428.hdf5\n",
            "1021/1021 [==============================] - 63s 62ms/step - loss: 1.5394 - accuracy: 0.1418\n",
            "Epoch 9/200\n",
            "1021/1021 [==============================] - ETA: 0s - loss: 1.4965 - accuracy: 0.1459\n",
            "Epoch 9: saving model to model/reddit_chatbot\\Transformer-saved-model-09-1.496512.hdf5\n",
            "1021/1021 [==============================] - 63s 62ms/step - loss: 1.4965 - accuracy: 0.1459\n",
            "Epoch 10/200\n",
            "1021/1021 [==============================] - ETA: 0s - loss: 1.4583 - accuracy: 0.1497\n",
            "Epoch 10: saving model to model/reddit_chatbot\\Transformer-saved-model-10-1.458284.hdf5\n",
            "1021/1021 [==============================] - 63s 61ms/step - loss: 1.4583 - accuracy: 0.1497\n",
            "Epoch 11/200\n",
            "1021/1021 [==============================] - ETA: 0s - loss: 1.4235 - accuracy: 0.1531\n",
            "Epoch 11: saving model to model/reddit_chatbot\\Transformer-saved-model-11-1.423539.hdf5\n",
            "1021/1021 [==============================] - 63s 62ms/step - loss: 1.4235 - accuracy: 0.1531\n",
            "Epoch 12/200\n",
            "1021/1021 [==============================] - ETA: 0s - loss: 1.3925 - accuracy: 0.1565\n",
            "Epoch 12: saving model to model/reddit_chatbot\\Transformer-saved-model-12-1.392532.hdf5\n",
            "1021/1021 [==============================] - 63s 62ms/step - loss: 1.3925 - accuracy: 0.1565\n",
            "Epoch 13/200\n",
            "1021/1021 [==============================] - ETA: 0s - loss: 1.3647 - accuracy: 0.1596\n",
            "Epoch 13: saving model to model/reddit_chatbot\\Transformer-saved-model-13-1.364741.hdf5\n",
            "1021/1021 [==============================] - 62s 61ms/step - loss: 1.3647 - accuracy: 0.1596\n",
            "Epoch 14/200\n",
            "1021/1021 [==============================] - ETA: 0s - loss: 1.3391 - accuracy: 0.1627\n",
            "Epoch 14: saving model to model/reddit_chatbot\\Transformer-saved-model-14-1.339086.hdf5\n",
            "1021/1021 [==============================] - 61s 60ms/step - loss: 1.3391 - accuracy: 0.1627\n",
            "Epoch 15/200\n",
            "1021/1021 [==============================] - ETA: 0s - loss: 1.3155 - accuracy: 0.1655\n",
            "Epoch 15: saving model to model/reddit_chatbot\\Transformer-saved-model-15-1.315531.hdf5\n",
            "1021/1021 [==============================] - 61s 60ms/step - loss: 1.3155 - accuracy: 0.1655\n",
            "Epoch 16/200\n",
            "1021/1021 [==============================] - ETA: 0s - loss: 1.2939 - accuracy: 0.1682\n",
            "Epoch 16: saving model to model/reddit_chatbot\\Transformer-saved-model-16-1.293919.hdf5\n",
            "1021/1021 [==============================] - 62s 60ms/step - loss: 1.2939 - accuracy: 0.1682\n",
            "Epoch 17/200\n",
            "1021/1021 [==============================] - ETA: 0s - loss: 1.2743 - accuracy: 0.1706\n",
            "Epoch 17: saving model to model/reddit_chatbot\\Transformer-saved-model-17-1.274281.hdf5\n",
            "1021/1021 [==============================] - 63s 61ms/step - loss: 1.2743 - accuracy: 0.1706\n",
            "Epoch 18/200\n",
            "1021/1021 [==============================] - ETA: 0s - loss: 1.2563 - accuracy: 0.1730\n",
            "Epoch 18: saving model to model/reddit_chatbot\\Transformer-saved-model-18-1.256349.hdf5\n",
            "1021/1021 [==============================] - 63s 62ms/step - loss: 1.2563 - accuracy: 0.1730\n",
            "Epoch 19/200\n",
            "1021/1021 [==============================] - ETA: 0s - loss: 1.2388 - accuracy: 0.1751\n",
            "Epoch 19: saving model to model/reddit_chatbot\\Transformer-saved-model-19-1.238762.hdf5\n",
            "1021/1021 [==============================] - 63s 61ms/step - loss: 1.2388 - accuracy: 0.1751\n",
            "Epoch 20/200\n",
            "1021/1021 [==============================] - ETA: 0s - loss: 1.2228 - accuracy: 0.1775\n",
            "Epoch 20: saving model to model/reddit_chatbot\\Transformer-saved-model-20-1.222835.hdf5\n",
            "1021/1021 [==============================] - 64s 62ms/step - loss: 1.2228 - accuracy: 0.1775\n",
            "Epoch 21/200\n",
            "1021/1021 [==============================] - ETA: 0s - loss: 1.2083 - accuracy: 0.1792\n",
            "Epoch 21: saving model to model/reddit_chatbot\\Transformer-saved-model-21-1.208327.hdf5\n",
            "1021/1021 [==============================] - 63s 61ms/step - loss: 1.2083 - accuracy: 0.1792\n",
            "Epoch 22/200\n",
            "1021/1021 [==============================] - ETA: 0s - loss: 1.1945 - accuracy: 0.1809\n",
            "Epoch 22: saving model to model/reddit_chatbot\\Transformer-saved-model-22-1.194544.hdf5\n",
            "1021/1021 [==============================] - 63s 62ms/step - loss: 1.1945 - accuracy: 0.1809\n",
            "Epoch 23/200\n",
            "1021/1021 [==============================] - ETA: 0s - loss: 1.1822 - accuracy: 0.1828\n",
            "Epoch 23: saving model to model/reddit_chatbot\\Transformer-saved-model-23-1.182237.hdf5\n",
            "1021/1021 [==============================] - 62s 61ms/step - loss: 1.1822 - accuracy: 0.1828\n",
            "Epoch 24/200\n",
            "1021/1021 [==============================] - ETA: 0s - loss: 1.1690 - accuracy: 0.1844\n",
            "Epoch 24: saving model to model/reddit_chatbot\\Transformer-saved-model-24-1.169008.hdf5\n",
            "1021/1021 [==============================] - 62s 61ms/step - loss: 1.1690 - accuracy: 0.1844\n",
            "Epoch 25/200\n",
            "1021/1021 [==============================] - ETA: 0s - loss: 1.1574 - accuracy: 0.1863\n",
            "Epoch 25: saving model to model/reddit_chatbot\\Transformer-saved-model-25-1.157355.hdf5\n",
            "1021/1021 [==============================] - 62s 61ms/step - loss: 1.1574 - accuracy: 0.1863\n",
            "Epoch 26/200\n",
            "1021/1021 [==============================] - ETA: 0s - loss: 1.1469 - accuracy: 0.1877\n",
            "Epoch 26: saving model to model/reddit_chatbot\\Transformer-saved-model-26-1.146940.hdf5\n",
            "1021/1021 [==============================] - 64s 62ms/step - loss: 1.1469 - accuracy: 0.1877\n",
            "Epoch 27/200\n",
            "1021/1021 [==============================] - ETA: 0s - loss: 1.1361 - accuracy: 0.1891\n",
            "Epoch 27: saving model to model/reddit_chatbot\\Transformer-saved-model-27-1.136106.hdf5\n",
            "1021/1021 [==============================] - 63s 62ms/step - loss: 1.1361 - accuracy: 0.1891\n",
            "Epoch 28/200\n",
            "1021/1021 [==============================] - ETA: 0s - loss: 1.1262 - accuracy: 0.1906\n",
            "Epoch 28: saving model to model/reddit_chatbot\\Transformer-saved-model-28-1.126249.hdf5\n",
            "1021/1021 [==============================] - 63s 62ms/step - loss: 1.1262 - accuracy: 0.1906\n",
            "Epoch 29/200\n",
            "1021/1021 [==============================] - ETA: 0s - loss: 1.1165 - accuracy: 0.1922\n",
            "Epoch 29: saving model to model/reddit_chatbot\\Transformer-saved-model-29-1.116474.hdf5\n",
            "1021/1021 [==============================] - 64s 62ms/step - loss: 1.1165 - accuracy: 0.1922\n",
            "Epoch 30/200\n",
            "1021/1021 [==============================] - ETA: 0s - loss: 1.1073 - accuracy: 0.1934\n",
            "Epoch 30: saving model to model/reddit_chatbot\\Transformer-saved-model-30-1.107269.hdf5\n",
            "1021/1021 [==============================] - 64s 62ms/step - loss: 1.1073 - accuracy: 0.1934\n",
            "Epoch 31/200\n",
            "1021/1021 [==============================] - ETA: 0s - loss: 1.0990 - accuracy: 0.1945\n",
            "Epoch 31: saving model to model/reddit_chatbot\\Transformer-saved-model-31-1.098979.hdf5\n",
            "1021/1021 [==============================] - 61s 60ms/step - loss: 1.0990 - accuracy: 0.1945\n",
            "Epoch 32/200\n",
            "1021/1021 [==============================] - ETA: 0s - loss: 1.0903 - accuracy: 0.1960\n",
            "Epoch 32: saving model to model/reddit_chatbot\\Transformer-saved-model-32-1.090318.hdf5\n",
            "1021/1021 [==============================] - 60s 59ms/step - loss: 1.0903 - accuracy: 0.1960\n",
            "Epoch 33/200\n",
            "1021/1021 [==============================] - ETA: 0s - loss: 1.0820 - accuracy: 0.1973\n",
            "Epoch 33: saving model to model/reddit_chatbot\\Transformer-saved-model-33-1.082021.hdf5\n",
            "1021/1021 [==============================] - 60s 59ms/step - loss: 1.0820 - accuracy: 0.1973\n",
            "Epoch 34/200\n",
            "1021/1021 [==============================] - ETA: 0s - loss: 1.0744 - accuracy: 0.1982\n",
            "Epoch 34: saving model to model/reddit_chatbot\\Transformer-saved-model-34-1.074449.hdf5\n",
            "1021/1021 [==============================] - 60s 59ms/step - loss: 1.0744 - accuracy: 0.1982\n",
            "Epoch 35/200\n",
            "1021/1021 [==============================] - ETA: 0s - loss: 1.0668 - accuracy: 0.1995\n",
            "Epoch 35: saving model to model/reddit_chatbot\\Transformer-saved-model-35-1.066769.hdf5\n",
            "1021/1021 [==============================] - 61s 60ms/step - loss: 1.0668 - accuracy: 0.1995\n",
            "Epoch 36/200\n",
            "1021/1021 [==============================] - ETA: 0s - loss: 1.0603 - accuracy: 0.2006\n",
            "Epoch 36: saving model to model/reddit_chatbot\\Transformer-saved-model-36-1.060262.hdf5\n",
            "1021/1021 [==============================] - 60s 59ms/step - loss: 1.0603 - accuracy: 0.2006\n",
            "Epoch 37/200\n",
            "1021/1021 [==============================] - ETA: 0s - loss: 1.0526 - accuracy: 0.2017\n",
            "Epoch 37: saving model to model/reddit_chatbot\\Transformer-saved-model-37-1.052609.hdf5\n",
            "1021/1021 [==============================] - 62s 61ms/step - loss: 1.0526 - accuracy: 0.2017\n",
            "Epoch 38/200\n",
            "1021/1021 [==============================] - ETA: 0s - loss: 1.0468 - accuracy: 0.2026\n",
            "Epoch 38: saving model to model/reddit_chatbot\\Transformer-saved-model-38-1.046782.hdf5\n",
            "1021/1021 [==============================] - 62s 61ms/step - loss: 1.0468 - accuracy: 0.2026\n",
            "Epoch 39/200\n",
            "1021/1021 [==============================] - ETA: 0s - loss: 1.0412 - accuracy: 0.2035\n",
            "Epoch 39: saving model to model/reddit_chatbot\\Transformer-saved-model-39-1.041151.hdf5\n",
            "1021/1021 [==============================] - 62s 61ms/step - loss: 1.0412 - accuracy: 0.2035\n",
            "Epoch 40/200\n",
            "1021/1021 [==============================] - ETA: 0s - loss: 1.0342 - accuracy: 0.2044\n",
            "Epoch 40: saving model to model/reddit_chatbot\\Transformer-saved-model-40-1.034245.hdf5\n",
            "1021/1021 [==============================] - 63s 62ms/step - loss: 1.0342 - accuracy: 0.2044\n",
            "Epoch 41/200\n",
            "1021/1021 [==============================] - ETA: 0s - loss: 1.0280 - accuracy: 0.2054\n",
            "Epoch 41: saving model to model/reddit_chatbot\\Transformer-saved-model-41-1.028016.hdf5\n",
            "1021/1021 [==============================] - 64s 62ms/step - loss: 1.0280 - accuracy: 0.2054\n",
            "Epoch 42/200\n",
            "1021/1021 [==============================] - ETA: 0s - loss: 1.0225 - accuracy: 0.2062\n",
            "Epoch 42: saving model to model/reddit_chatbot\\Transformer-saved-model-42-1.022462.hdf5\n",
            "1021/1021 [==============================] - 63s 62ms/step - loss: 1.0225 - accuracy: 0.2062\n",
            "Epoch 43/200\n",
            "1021/1021 [==============================] - ETA: 0s - loss: 1.0173 - accuracy: 0.2071\n",
            "Epoch 43: saving model to model/reddit_chatbot\\Transformer-saved-model-43-1.017325.hdf5\n",
            "1021/1021 [==============================] - 63s 62ms/step - loss: 1.0173 - accuracy: 0.2071\n",
            "Epoch 44/200\n",
            "1021/1021 [==============================] - ETA: 0s - loss: 1.0117 - accuracy: 0.2080\n",
            "Epoch 44: saving model to model/reddit_chatbot\\Transformer-saved-model-44-1.011664.hdf5\n",
            "1021/1021 [==============================] - 63s 61ms/step - loss: 1.0117 - accuracy: 0.2080\n",
            "Epoch 45/200\n",
            "1021/1021 [==============================] - ETA: 0s - loss: 1.0061 - accuracy: 0.2087\n",
            "Epoch 45: saving model to model/reddit_chatbot\\Transformer-saved-model-45-1.006112.hdf5\n",
            "1021/1021 [==============================] - 62s 61ms/step - loss: 1.0061 - accuracy: 0.2087\n",
            "Epoch 46/200\n",
            "1021/1021 [==============================] - ETA: 0s - loss: 1.0011 - accuracy: 0.2098\n",
            "Epoch 46: saving model to model/reddit_chatbot\\Transformer-saved-model-46-1.001085.hdf5\n",
            "1021/1021 [==============================] - 63s 61ms/step - loss: 1.0011 - accuracy: 0.2098\n",
            "Epoch 47/200\n",
            "1021/1021 [==============================] - ETA: 0s - loss: 0.9955 - accuracy: 0.2106\n",
            "Epoch 47: saving model to model/reddit_chatbot\\Transformer-saved-model-47-0.995509.hdf5\n",
            "1021/1021 [==============================] - 63s 61ms/step - loss: 0.9955 - accuracy: 0.2106\n",
            "Epoch 48/200\n",
            "1021/1021 [==============================] - ETA: 0s - loss: 0.9915 - accuracy: 0.2111\n",
            "Epoch 48: saving model to model/reddit_chatbot\\Transformer-saved-model-48-0.991469.hdf5\n",
            "1021/1021 [==============================] - 63s 62ms/step - loss: 0.9915 - accuracy: 0.2111\n",
            "Epoch 49/200\n",
            "1021/1021 [==============================] - ETA: 0s - loss: 0.9855 - accuracy: 0.2123\n",
            "Epoch 49: saving model to model/reddit_chatbot\\Transformer-saved-model-49-0.985549.hdf5\n",
            "1021/1021 [==============================] - 63s 62ms/step - loss: 0.9855 - accuracy: 0.2123\n",
            "Epoch 50/200\n",
            "1021/1021 [==============================] - ETA: 0s - loss: 0.9816 - accuracy: 0.2126\n",
            "Epoch 50: saving model to model/reddit_chatbot\\Transformer-saved-model-50-0.981602.hdf5\n",
            "1021/1021 [==============================] - 62s 60ms/step - loss: 0.9816 - accuracy: 0.2126\n",
            "Epoch 51/200\n",
            "1021/1021 [==============================] - ETA: 0s - loss: 0.9771 - accuracy: 0.2133\n",
            "Epoch 51: saving model to model/reddit_chatbot\\Transformer-saved-model-51-0.977087.hdf5\n",
            "1021/1021 [==============================] - 61s 59ms/step - loss: 0.9771 - accuracy: 0.2133\n",
            "Epoch 52/200\n",
            "1021/1021 [==============================] - ETA: 0s - loss: 0.9730 - accuracy: 0.2142\n",
            "Epoch 52: saving model to model/reddit_chatbot\\Transformer-saved-model-52-0.973020.hdf5\n",
            "1021/1021 [==============================] - 61s 60ms/step - loss: 0.9730 - accuracy: 0.2142\n",
            "Epoch 53/200\n",
            "1021/1021 [==============================] - ETA: 0s - loss: 0.9678 - accuracy: 0.2151\n",
            "Epoch 53: saving model to model/reddit_chatbot\\Transformer-saved-model-53-0.967757.hdf5\n",
            "1021/1021 [==============================] - 61s 60ms/step - loss: 0.9678 - accuracy: 0.2151\n",
            "Epoch 54/200\n",
            "1021/1021 [==============================] - ETA: 0s - loss: 0.9648 - accuracy: 0.2155\n",
            "Epoch 54: saving model to model/reddit_chatbot\\Transformer-saved-model-54-0.964829.hdf5\n",
            "1021/1021 [==============================] - 60s 59ms/step - loss: 0.9648 - accuracy: 0.2155\n",
            "Epoch 55/200\n",
            "1021/1021 [==============================] - ETA: 0s - loss: 0.9609 - accuracy: 0.2162\n",
            "Epoch 55: saving model to model/reddit_chatbot\\Transformer-saved-model-55-0.960852.hdf5\n",
            "1021/1021 [==============================] - 61s 60ms/step - loss: 0.9609 - accuracy: 0.2162\n",
            "Epoch 56/200\n",
            "1021/1021 [==============================] - ETA: 0s - loss: 0.9554 - accuracy: 0.2170\n",
            "Epoch 56: saving model to model/reddit_chatbot\\Transformer-saved-model-56-0.955402.hdf5\n",
            "1021/1021 [==============================] - 60s 58ms/step - loss: 0.9554 - accuracy: 0.2170\n",
            "Epoch 57/200\n",
            "1021/1021 [==============================] - ETA: 0s - loss: 0.9521 - accuracy: 0.2175\n",
            "Epoch 57: saving model to model/reddit_chatbot\\Transformer-saved-model-57-0.952111.hdf5\n",
            "1021/1021 [==============================] - 60s 59ms/step - loss: 0.9521 - accuracy: 0.2175\n",
            "Epoch 58/200\n",
            "1021/1021 [==============================] - ETA: 0s - loss: 0.9484 - accuracy: 0.2182\n",
            "Epoch 58: saving model to model/reddit_chatbot\\Transformer-saved-model-58-0.948442.hdf5\n",
            "1021/1021 [==============================] - 61s 60ms/step - loss: 0.9484 - accuracy: 0.2182\n",
            "Epoch 59/200\n",
            "1021/1021 [==============================] - ETA: 0s - loss: 0.9441 - accuracy: 0.2187\n",
            "Epoch 59: saving model to model/reddit_chatbot\\Transformer-saved-model-59-0.944094.hdf5\n",
            "1021/1021 [==============================] - 60s 59ms/step - loss: 0.9441 - accuracy: 0.2187\n",
            "Epoch 60/200\n",
            "1021/1021 [==============================] - ETA: 0s - loss: 0.9405 - accuracy: 0.2194\n",
            "Epoch 60: saving model to model/reddit_chatbot\\Transformer-saved-model-60-0.940506.hdf5\n",
            "1021/1021 [==============================] - 60s 59ms/step - loss: 0.9405 - accuracy: 0.2194\n",
            "Epoch 61/200\n",
            "1021/1021 [==============================] - ETA: 0s - loss: 0.9368 - accuracy: 0.2199\n",
            "Epoch 61: saving model to model/reddit_chatbot\\Transformer-saved-model-61-0.936834.hdf5\n",
            "1021/1021 [==============================] - 61s 59ms/step - loss: 0.9368 - accuracy: 0.2199\n",
            "Epoch 62/200\n",
            "1021/1021 [==============================] - ETA: 0s - loss: 0.9335 - accuracy: 0.2205\n",
            "Epoch 62: saving model to model/reddit_chatbot\\Transformer-saved-model-62-0.933505.hdf5\n",
            "1021/1021 [==============================] - 60s 59ms/step - loss: 0.9335 - accuracy: 0.2205\n",
            "Epoch 63/200\n",
            "1021/1021 [==============================] - ETA: 0s - loss: 0.9299 - accuracy: 0.2212\n",
            "Epoch 63: saving model to model/reddit_chatbot\\Transformer-saved-model-63-0.929866.hdf5\n",
            "1021/1021 [==============================] - 60s 59ms/step - loss: 0.9299 - accuracy: 0.2212\n",
            "Epoch 64/200\n",
            "1021/1021 [==============================] - ETA: 0s - loss: 0.9265 - accuracy: 0.2214\n",
            "Epoch 64: saving model to model/reddit_chatbot\\Transformer-saved-model-64-0.926533.hdf5\n",
            "1021/1021 [==============================] - 60s 59ms/step - loss: 0.9265 - accuracy: 0.2214\n",
            "Epoch 65/200\n",
            "1021/1021 [==============================] - ETA: 0s - loss: 0.9225 - accuracy: 0.2222\n",
            "Epoch 65: saving model to model/reddit_chatbot\\Transformer-saved-model-65-0.922476.hdf5\n",
            "1021/1021 [==============================] - 61s 59ms/step - loss: 0.9225 - accuracy: 0.2222\n",
            "Epoch 66/200\n",
            "1021/1021 [==============================] - ETA: 0s - loss: 0.9197 - accuracy: 0.2228\n",
            "Epoch 66: saving model to model/reddit_chatbot\\Transformer-saved-model-66-0.919683.hdf5\n",
            "1021/1021 [==============================] - 60s 59ms/step - loss: 0.9197 - accuracy: 0.2228\n",
            "Epoch 67/200\n",
            "1021/1021 [==============================] - ETA: 0s - loss: 0.9160 - accuracy: 0.2234\n",
            "Epoch 67: saving model to model/reddit_chatbot\\Transformer-saved-model-67-0.916016.hdf5\n",
            "1021/1021 [==============================] - 60s 59ms/step - loss: 0.9160 - accuracy: 0.2234\n",
            "Epoch 68/200\n",
            "1021/1021 [==============================] - ETA: 0s - loss: 0.9132 - accuracy: 0.2237\n",
            "Epoch 68: saving model to model/reddit_chatbot\\Transformer-saved-model-68-0.913226.hdf5\n",
            "1021/1021 [==============================] - 61s 59ms/step - loss: 0.9132 - accuracy: 0.2237\n",
            "Epoch 69/200\n",
            "1021/1021 [==============================] - ETA: 0s - loss: 0.9088 - accuracy: 0.2244\n",
            "Epoch 69: saving model to model/reddit_chatbot\\Transformer-saved-model-69-0.908824.hdf5\n",
            "1021/1021 [==============================] - 60s 59ms/step - loss: 0.9088 - accuracy: 0.2244\n",
            "Epoch 70/200\n",
            "1021/1021 [==============================] - ETA: 0s - loss: 0.9066 - accuracy: 0.2250\n",
            "Epoch 70: saving model to model/reddit_chatbot\\Transformer-saved-model-70-0.906641.hdf5\n",
            "1021/1021 [==============================] - 60s 59ms/step - loss: 0.9066 - accuracy: 0.2250\n",
            "Epoch 71/200\n",
            "1021/1021 [==============================] - ETA: 0s - loss: 0.9038 - accuracy: 0.2252\n",
            "Epoch 71: saving model to model/reddit_chatbot\\Transformer-saved-model-71-0.903797.hdf5\n",
            "1021/1021 [==============================] - 60s 59ms/step - loss: 0.9038 - accuracy: 0.2252\n",
            "Epoch 72/200\n",
            "1021/1021 [==============================] - ETA: 0s - loss: 0.8995 - accuracy: 0.2263\n",
            "Epoch 72: saving model to model/reddit_chatbot\\Transformer-saved-model-72-0.899517.hdf5\n",
            "1021/1021 [==============================] - 60s 59ms/step - loss: 0.8995 - accuracy: 0.2263\n",
            "Epoch 73/200\n",
            "1021/1021 [==============================] - ETA: 0s - loss: 0.8974 - accuracy: 0.2264\n",
            "Epoch 73: saving model to model/reddit_chatbot\\Transformer-saved-model-73-0.897388.hdf5\n",
            "1021/1021 [==============================] - 60s 59ms/step - loss: 0.8974 - accuracy: 0.2264\n",
            "Epoch 74/200\n",
            "1021/1021 [==============================] - ETA: 0s - loss: 0.8942 - accuracy: 0.2269\n",
            "Epoch 74: saving model to model/reddit_chatbot\\Transformer-saved-model-74-0.894167.hdf5\n",
            "1021/1021 [==============================] - 60s 59ms/step - loss: 0.8942 - accuracy: 0.2269\n",
            "Epoch 75/200\n",
            "1021/1021 [==============================] - ETA: 0s - loss: 0.8917 - accuracy: 0.2272\n",
            "Epoch 75: saving model to model/reddit_chatbot\\Transformer-saved-model-75-0.891729.hdf5\n",
            "1021/1021 [==============================] - 60s 59ms/step - loss: 0.8917 - accuracy: 0.2272\n",
            "Epoch 76/200\n",
            "1021/1021 [==============================] - ETA: 0s - loss: 0.8888 - accuracy: 0.2280\n",
            "Epoch 76: saving model to model/reddit_chatbot\\Transformer-saved-model-76-0.888799.hdf5\n",
            "1021/1021 [==============================] - 60s 58ms/step - loss: 0.8888 - accuracy: 0.2280\n",
            "Epoch 77/200\n",
            "1021/1021 [==============================] - ETA: 0s - loss: 0.8862 - accuracy: 0.2281\n",
            "Epoch 77: saving model to model/reddit_chatbot\\Transformer-saved-model-77-0.886219.hdf5\n",
            "1021/1021 [==============================] - 60s 59ms/step - loss: 0.8862 - accuracy: 0.2281\n",
            "Epoch 78/200\n",
            "1021/1021 [==============================] - ETA: 0s - loss: 0.8828 - accuracy: 0.2288\n",
            "Epoch 78: saving model to model/reddit_chatbot\\Transformer-saved-model-78-0.882799.hdf5\n",
            "1021/1021 [==============================] - 60s 59ms/step - loss: 0.8828 - accuracy: 0.2288\n",
            "Epoch 79/200\n",
            "1021/1021 [==============================] - ETA: 0s - loss: 0.8813 - accuracy: 0.2290\n",
            "Epoch 79: saving model to model/reddit_chatbot\\Transformer-saved-model-79-0.881266.hdf5\n",
            "1021/1021 [==============================] - 60s 59ms/step - loss: 0.8813 - accuracy: 0.2290\n",
            "Epoch 80/200\n",
            "1021/1021 [==============================] - ETA: 0s - loss: 0.8782 - accuracy: 0.2297\n",
            "Epoch 80: saving model to model/reddit_chatbot\\Transformer-saved-model-80-0.878152.hdf5\n",
            "1021/1021 [==============================] - 60s 59ms/step - loss: 0.8782 - accuracy: 0.2297\n",
            "Epoch 81/200\n",
            "1021/1021 [==============================] - ETA: 0s - loss: 0.8753 - accuracy: 0.2301\n",
            "Epoch 81: saving model to model/reddit_chatbot\\Transformer-saved-model-81-0.875280.hdf5\n",
            "1021/1021 [==============================] - 60s 58ms/step - loss: 0.8753 - accuracy: 0.2301\n",
            "Epoch 82/200\n",
            "1021/1021 [==============================] - ETA: 0s - loss: 0.8723 - accuracy: 0.2307\n",
            "Epoch 82: saving model to model/reddit_chatbot\\Transformer-saved-model-82-0.872334.hdf5\n",
            "1021/1021 [==============================] - 60s 58ms/step - loss: 0.8723 - accuracy: 0.2307\n",
            "Epoch 83/200\n",
            "1021/1021 [==============================] - ETA: 0s - loss: 0.8702 - accuracy: 0.2311\n",
            "Epoch 83: saving model to model/reddit_chatbot\\Transformer-saved-model-83-0.870215.hdf5\n",
            "1021/1021 [==============================] - 60s 59ms/step - loss: 0.8702 - accuracy: 0.2311\n",
            "Epoch 84/200\n",
            "1021/1021 [==============================] - ETA: 0s - loss: 0.8673 - accuracy: 0.2315\n",
            "Epoch 84: saving model to model/reddit_chatbot\\Transformer-saved-model-84-0.867285.hdf5\n",
            "1021/1021 [==============================] - 61s 59ms/step - loss: 0.8673 - accuracy: 0.2315\n",
            "Epoch 85/200\n",
            "1021/1021 [==============================] - ETA: 0s - loss: 0.8653 - accuracy: 0.2320\n",
            "Epoch 85: saving model to model/reddit_chatbot\\Transformer-saved-model-85-0.865254.hdf5\n",
            "1021/1021 [==============================] - 61s 60ms/step - loss: 0.8653 - accuracy: 0.2320\n",
            "Epoch 86/200\n",
            "1021/1021 [==============================] - ETA: 0s - loss: 0.8628 - accuracy: 0.2321\n",
            "Epoch 86: saving model to model/reddit_chatbot\\Transformer-saved-model-86-0.862812.hdf5\n",
            "1021/1021 [==============================] - 61s 59ms/step - loss: 0.8628 - accuracy: 0.2321\n",
            "Epoch 87/200\n",
            "1021/1021 [==============================] - ETA: 0s - loss: 0.8600 - accuracy: 0.2328\n",
            "Epoch 87: saving model to model/reddit_chatbot\\Transformer-saved-model-87-0.860032.hdf5\n",
            "1021/1021 [==============================] - 61s 59ms/step - loss: 0.8600 - accuracy: 0.2328\n",
            "Epoch 88/200\n",
            "1021/1021 [==============================] - ETA: 0s - loss: 0.8580 - accuracy: 0.2330\n",
            "Epoch 88: saving model to model/reddit_chatbot\\Transformer-saved-model-88-0.858013.hdf5\n",
            "1021/1021 [==============================] - 63s 61ms/step - loss: 0.8580 - accuracy: 0.2330\n",
            "Epoch 89/200\n",
            "1021/1021 [==============================] - ETA: 0s - loss: 0.8547 - accuracy: 0.2337\n",
            "Epoch 89: saving model to model/reddit_chatbot\\Transformer-saved-model-89-0.854706.hdf5\n",
            "1021/1021 [==============================] - 64s 62ms/step - loss: 0.8547 - accuracy: 0.2337\n",
            "Epoch 90/200\n",
            "1021/1021 [==============================] - ETA: 0s - loss: 0.8525 - accuracy: 0.2338\n",
            "Epoch 90: saving model to model/reddit_chatbot\\Transformer-saved-model-90-0.852525.hdf5\n",
            "1021/1021 [==============================] - 63s 61ms/step - loss: 0.8525 - accuracy: 0.2338\n",
            "Epoch 91/200\n",
            "1021/1021 [==============================] - ETA: 0s - loss: 0.8502 - accuracy: 0.2343\n",
            "Epoch 91: saving model to model/reddit_chatbot\\Transformer-saved-model-91-0.850173.hdf5\n",
            "1021/1021 [==============================] - 62s 61ms/step - loss: 0.8502 - accuracy: 0.2343\n",
            "Epoch 92/200\n",
            "1021/1021 [==============================] - ETA: 0s - loss: 0.8484 - accuracy: 0.2348\n",
            "Epoch 92: saving model to model/reddit_chatbot\\Transformer-saved-model-92-0.848416.hdf5\n",
            "1021/1021 [==============================] - 61s 60ms/step - loss: 0.8484 - accuracy: 0.2348\n",
            "Epoch 93/200\n",
            "1021/1021 [==============================] - ETA: 0s - loss: 0.8461 - accuracy: 0.2350\n",
            "Epoch 93: saving model to model/reddit_chatbot\\Transformer-saved-model-93-0.846070.hdf5\n",
            "1021/1021 [==============================] - 62s 61ms/step - loss: 0.8461 - accuracy: 0.2350\n",
            "Epoch 94/200\n",
            "1021/1021 [==============================] - ETA: 0s - loss: 0.8443 - accuracy: 0.2352\n",
            "Epoch 94: saving model to model/reddit_chatbot\\Transformer-saved-model-94-0.844292.hdf5\n",
            "1021/1021 [==============================] - 62s 61ms/step - loss: 0.8443 - accuracy: 0.2352\n",
            "Epoch 95/200\n",
            "1021/1021 [==============================] - ETA: 0s - loss: 0.8407 - accuracy: 0.2359\n",
            "Epoch 95: saving model to model/reddit_chatbot\\Transformer-saved-model-95-0.840700.hdf5\n",
            "1021/1021 [==============================] - 63s 61ms/step - loss: 0.8407 - accuracy: 0.2359\n",
            "Epoch 96/200\n",
            "1021/1021 [==============================] - ETA: 0s - loss: 0.8392 - accuracy: 0.2361\n",
            "Epoch 96: saving model to model/reddit_chatbot\\Transformer-saved-model-96-0.839224.hdf5\n",
            "1021/1021 [==============================] - 62s 61ms/step - loss: 0.8392 - accuracy: 0.2361\n",
            "Epoch 97/200\n",
            "1021/1021 [==============================] - ETA: 0s - loss: 0.8369 - accuracy: 0.2364\n",
            "Epoch 97: saving model to model/reddit_chatbot\\Transformer-saved-model-97-0.836853.hdf5\n",
            "1021/1021 [==============================] - 63s 62ms/step - loss: 0.8369 - accuracy: 0.2364\n",
            "Epoch 98/200\n",
            "1021/1021 [==============================] - ETA: 0s - loss: 0.8347 - accuracy: 0.2372\n",
            "Epoch 98: saving model to model/reddit_chatbot\\Transformer-saved-model-98-0.834750.hdf5\n",
            "1021/1021 [==============================] - 64s 62ms/step - loss: 0.8347 - accuracy: 0.2372\n",
            "Epoch 99/200\n",
            "1021/1021 [==============================] - ETA: 0s - loss: 0.8321 - accuracy: 0.2375\n",
            "Epoch 99: saving model to model/reddit_chatbot\\Transformer-saved-model-99-0.832133.hdf5\n",
            "1021/1021 [==============================] - 63s 62ms/step - loss: 0.8321 - accuracy: 0.2375\n",
            "Epoch 100/200\n",
            "1021/1021 [==============================] - ETA: 0s - loss: 0.8306 - accuracy: 0.2375\n",
            "Epoch 100: saving model to model/reddit_chatbot\\Transformer-saved-model-100-0.830608.hdf5\n",
            "1021/1021 [==============================] - 65s 63ms/step - loss: 0.8306 - accuracy: 0.2375\n",
            "Epoch 101/200\n",
            "1021/1021 [==============================] - ETA: 0s - loss: 0.8278 - accuracy: 0.2380\n",
            "Epoch 101: saving model to model/reddit_chatbot\\Transformer-saved-model-101-0.827844.hdf5\n",
            "1021/1021 [==============================] - 63s 62ms/step - loss: 0.8278 - accuracy: 0.2380\n",
            "Epoch 102/200\n",
            "1021/1021 [==============================] - ETA: 0s - loss: 0.8259 - accuracy: 0.2385\n",
            "Epoch 102: saving model to model/reddit_chatbot\\Transformer-saved-model-102-0.825926.hdf5\n",
            "1021/1021 [==============================] - 63s 62ms/step - loss: 0.8259 - accuracy: 0.2385\n",
            "Epoch 103/200\n",
            "1021/1021 [==============================] - ETA: 0s - loss: 0.8241 - accuracy: 0.2388\n",
            "Epoch 103: saving model to model/reddit_chatbot\\Transformer-saved-model-103-0.824142.hdf5\n",
            "1021/1021 [==============================] - 61s 60ms/step - loss: 0.8241 - accuracy: 0.2388\n",
            "Epoch 104/200\n",
            "1021/1021 [==============================] - ETA: 0s - loss: 0.8213 - accuracy: 0.2393\n",
            "Epoch 104: saving model to model/reddit_chatbot\\Transformer-saved-model-104-0.821347.hdf5\n",
            "1021/1021 [==============================] - 61s 60ms/step - loss: 0.8213 - accuracy: 0.2393\n",
            "Epoch 105/200\n",
            "1021/1021 [==============================] - ETA: 0s - loss: 0.8182 - accuracy: 0.2398\n",
            "Epoch 105: saving model to model/reddit_chatbot\\Transformer-saved-model-105-0.818222.hdf5\n",
            "1021/1021 [==============================] - 63s 61ms/step - loss: 0.8182 - accuracy: 0.2398\n",
            "Epoch 106/200\n",
            "1021/1021 [==============================] - ETA: 0s - loss: 0.8175 - accuracy: 0.2398\n",
            "Epoch 106: saving model to model/reddit_chatbot\\Transformer-saved-model-106-0.817543.hdf5\n",
            "1021/1021 [==============================] - 63s 61ms/step - loss: 0.8175 - accuracy: 0.2398\n",
            "Epoch 107/200\n",
            "1021/1021 [==============================] - ETA: 0s - loss: 0.8154 - accuracy: 0.2402\n",
            "Epoch 107: saving model to model/reddit_chatbot\\Transformer-saved-model-107-0.815411.hdf5\n",
            "1021/1021 [==============================] - 63s 62ms/step - loss: 0.8154 - accuracy: 0.2402\n",
            "Epoch 108/200\n",
            "1021/1021 [==============================] - ETA: 0s - loss: 0.8134 - accuracy: 0.2405\n",
            "Epoch 108: saving model to model/reddit_chatbot\\Transformer-saved-model-108-0.813432.hdf5\n",
            "1021/1021 [==============================] - 62s 61ms/step - loss: 0.8134 - accuracy: 0.2405\n",
            "Epoch 109/200\n",
            "1021/1021 [==============================] - ETA: 0s - loss: 0.8114 - accuracy: 0.2411\n",
            "Epoch 109: saving model to model/reddit_chatbot\\Transformer-saved-model-109-0.811385.hdf5\n",
            "1021/1021 [==============================] - 62s 61ms/step - loss: 0.8114 - accuracy: 0.2411\n",
            "Epoch 110/200\n",
            "1021/1021 [==============================] - ETA: 0s - loss: 0.8092 - accuracy: 0.2413\n",
            "Epoch 110: saving model to model/reddit_chatbot\\Transformer-saved-model-110-0.809181.hdf5\n",
            "1021/1021 [==============================] - 63s 61ms/step - loss: 0.8092 - accuracy: 0.2413\n",
            "Epoch 111/200\n",
            "1021/1021 [==============================] - ETA: 0s - loss: 0.8073 - accuracy: 0.2417\n",
            "Epoch 111: saving model to model/reddit_chatbot\\Transformer-saved-model-111-0.807282.hdf5\n",
            "1021/1021 [==============================] - 63s 62ms/step - loss: 0.8073 - accuracy: 0.2417\n",
            "Epoch 112/200\n",
            "1021/1021 [==============================] - ETA: 0s - loss: 0.8048 - accuracy: 0.2422\n",
            "Epoch 112: saving model to model/reddit_chatbot\\Transformer-saved-model-112-0.804765.hdf5\n",
            "1021/1021 [==============================] - 63s 62ms/step - loss: 0.8048 - accuracy: 0.2422\n",
            "Epoch 113/200\n",
            "1021/1021 [==============================] - ETA: 0s - loss: 0.8029 - accuracy: 0.2424\n",
            "Epoch 113: saving model to model/reddit_chatbot\\Transformer-saved-model-113-0.802948.hdf5\n",
            "1021/1021 [==============================] - 63s 62ms/step - loss: 0.8029 - accuracy: 0.2424\n",
            "Epoch 114/200\n",
            "1021/1021 [==============================] - ETA: 0s - loss: 0.8018 - accuracy: 0.2425\n",
            "Epoch 114: saving model to model/reddit_chatbot\\Transformer-saved-model-114-0.801774.hdf5\n",
            "1021/1021 [==============================] - 64s 63ms/step - loss: 0.8018 - accuracy: 0.2425\n",
            "Epoch 115/200\n",
            "1021/1021 [==============================] - ETA: 0s - loss: 0.8000 - accuracy: 0.2426\n",
            "Epoch 115: saving model to model/reddit_chatbot\\Transformer-saved-model-115-0.800035.hdf5\n",
            "1021/1021 [==============================] - 64s 63ms/step - loss: 0.8000 - accuracy: 0.2426\n",
            "Epoch 116/200\n",
            "1021/1021 [==============================] - ETA: 0s - loss: 0.7983 - accuracy: 0.2432\n",
            "Epoch 116: saving model to model/reddit_chatbot\\Transformer-saved-model-116-0.798277.hdf5\n",
            "1021/1021 [==============================] - 64s 63ms/step - loss: 0.7983 - accuracy: 0.2432\n",
            "Epoch 117/200\n",
            "1021/1021 [==============================] - ETA: 0s - loss: 0.7952 - accuracy: 0.2439\n",
            "Epoch 117: saving model to model/reddit_chatbot\\Transformer-saved-model-117-0.795249.hdf5\n",
            "1021/1021 [==============================] - 63s 61ms/step - loss: 0.7952 - accuracy: 0.2439\n",
            "Epoch 118/200\n",
            "1021/1021 [==============================] - ETA: 0s - loss: 0.7940 - accuracy: 0.2439\n",
            "Epoch 118: saving model to model/reddit_chatbot\\Transformer-saved-model-118-0.794012.hdf5\n",
            "1021/1021 [==============================] - 62s 61ms/step - loss: 0.7940 - accuracy: 0.2439\n",
            "Epoch 119/200\n",
            "1021/1021 [==============================] - ETA: 0s - loss: 0.7921 - accuracy: 0.2443\n",
            "Epoch 119: saving model to model/reddit_chatbot\\Transformer-saved-model-119-0.792135.hdf5\n",
            "1021/1021 [==============================] - 63s 62ms/step - loss: 0.7921 - accuracy: 0.2443\n",
            "Epoch 120/200\n",
            "1021/1021 [==============================] - ETA: 0s - loss: 0.7907 - accuracy: 0.2446\n",
            "Epoch 120: saving model to model/reddit_chatbot\\Transformer-saved-model-120-0.790657.hdf5\n",
            "1021/1021 [==============================] - 64s 63ms/step - loss: 0.7907 - accuracy: 0.2446\n",
            "Epoch 121/200\n",
            "1021/1021 [==============================] - ETA: 0s - loss: 0.7888 - accuracy: 0.2448\n",
            "Epoch 121: saving model to model/reddit_chatbot\\Transformer-saved-model-121-0.788787.hdf5\n",
            "1021/1021 [==============================] - 63s 62ms/step - loss: 0.7888 - accuracy: 0.2448\n",
            "Epoch 122/200\n",
            "1021/1021 [==============================] - ETA: 0s - loss: 0.7875 - accuracy: 0.2448\n",
            "Epoch 122: saving model to model/reddit_chatbot\\Transformer-saved-model-122-0.787498.hdf5\n",
            "1021/1021 [==============================] - 63s 62ms/step - loss: 0.7875 - accuracy: 0.2448\n",
            "Epoch 123/200\n",
            "1021/1021 [==============================] - ETA: 0s - loss: 0.7850 - accuracy: 0.2456\n",
            "Epoch 123: saving model to model/reddit_chatbot\\Transformer-saved-model-123-0.784954.hdf5\n",
            "1021/1021 [==============================] - 62s 61ms/step - loss: 0.7850 - accuracy: 0.2456\n",
            "Epoch 124/200\n",
            "1021/1021 [==============================] - ETA: 0s - loss: 0.7836 - accuracy: 0.2455\n",
            "Epoch 124: saving model to model/reddit_chatbot\\Transformer-saved-model-124-0.783572.hdf5\n",
            "1021/1021 [==============================] - 63s 61ms/step - loss: 0.7836 - accuracy: 0.2455\n",
            "Epoch 125/200\n",
            "1021/1021 [==============================] - ETA: 0s - loss: 0.7811 - accuracy: 0.2462\n",
            "Epoch 125: saving model to model/reddit_chatbot\\Transformer-saved-model-125-0.781080.hdf5\n",
            "1021/1021 [==============================] - 63s 61ms/step - loss: 0.7811 - accuracy: 0.2462\n",
            "Epoch 126/200\n",
            "1021/1021 [==============================] - ETA: 0s - loss: 0.7799 - accuracy: 0.2462\n",
            "Epoch 126: saving model to model/reddit_chatbot\\Transformer-saved-model-126-0.779880.hdf5\n",
            "1021/1021 [==============================] - 64s 62ms/step - loss: 0.7799 - accuracy: 0.2462\n",
            "Epoch 127/200\n",
            "1021/1021 [==============================] - ETA: 0s - loss: 0.7787 - accuracy: 0.2466\n",
            "Epoch 127: saving model to model/reddit_chatbot\\Transformer-saved-model-127-0.778672.hdf5\n",
            "1021/1021 [==============================] - 63s 62ms/step - loss: 0.7787 - accuracy: 0.2466\n",
            "Epoch 128/200\n",
            "1021/1021 [==============================] - ETA: 0s - loss: 0.7773 - accuracy: 0.2468\n",
            "Epoch 128: saving model to model/reddit_chatbot\\Transformer-saved-model-128-0.777279.hdf5\n",
            "1021/1021 [==============================] - 64s 63ms/step - loss: 0.7773 - accuracy: 0.2468\n",
            "Epoch 129/200\n",
            "1021/1021 [==============================] - ETA: 0s - loss: 0.7760 - accuracy: 0.2469\n",
            "Epoch 129: saving model to model/reddit_chatbot\\Transformer-saved-model-129-0.776022.hdf5\n",
            "1021/1021 [==============================] - 64s 62ms/step - loss: 0.7760 - accuracy: 0.2469\n",
            "Epoch 130/200\n",
            "1021/1021 [==============================] - ETA: 0s - loss: 0.7732 - accuracy: 0.2475\n",
            "Epoch 130: saving model to model/reddit_chatbot\\Transformer-saved-model-130-0.773207.hdf5\n",
            "1021/1021 [==============================] - 64s 63ms/step - loss: 0.7732 - accuracy: 0.2475\n",
            "Epoch 131/200\n",
            "1021/1021 [==============================] - ETA: 0s - loss: 0.7716 - accuracy: 0.2478\n",
            "Epoch 131: saving model to model/reddit_chatbot\\Transformer-saved-model-131-0.771586.hdf5\n",
            "1021/1021 [==============================] - 64s 62ms/step - loss: 0.7716 - accuracy: 0.2478\n",
            "Epoch 132/200\n",
            "1021/1021 [==============================] - ETA: 0s - loss: 0.7696 - accuracy: 0.2483\n",
            "Epoch 132: saving model to model/reddit_chatbot\\Transformer-saved-model-132-0.769586.hdf5\n",
            "1021/1021 [==============================] - 64s 63ms/step - loss: 0.7696 - accuracy: 0.2483\n",
            "Epoch 133/200\n",
            "1021/1021 [==============================] - ETA: 0s - loss: 0.7689 - accuracy: 0.2483\n",
            "Epoch 133: saving model to model/reddit_chatbot\\Transformer-saved-model-133-0.768917.hdf5\n",
            "1021/1021 [==============================] - 64s 62ms/step - loss: 0.7689 - accuracy: 0.2483\n",
            "Epoch 134/200\n",
            "1021/1021 [==============================] - ETA: 0s - loss: 0.7670 - accuracy: 0.2486\n",
            "Epoch 134: saving model to model/reddit_chatbot\\Transformer-saved-model-134-0.766982.hdf5\n",
            "1021/1021 [==============================] - 63s 62ms/step - loss: 0.7670 - accuracy: 0.2486\n",
            "Epoch 135/200\n",
            "1021/1021 [==============================] - ETA: 0s - loss: 0.7655 - accuracy: 0.2489\n",
            "Epoch 135: saving model to model/reddit_chatbot\\Transformer-saved-model-135-0.765521.hdf5\n",
            "1021/1021 [==============================] - 63s 62ms/step - loss: 0.7655 - accuracy: 0.2489\n",
            "Epoch 136/200\n",
            "1021/1021 [==============================] - ETA: 0s - loss: 0.7630 - accuracy: 0.2493\n",
            "Epoch 136: saving model to model/reddit_chatbot\\Transformer-saved-model-136-0.762993.hdf5\n",
            "1021/1021 [==============================] - 64s 62ms/step - loss: 0.7630 - accuracy: 0.2493\n",
            "Epoch 137/200\n",
            "1021/1021 [==============================] - ETA: 0s - loss: 0.7617 - accuracy: 0.2495\n",
            "Epoch 137: saving model to model/reddit_chatbot\\Transformer-saved-model-137-0.761734.hdf5\n",
            "1021/1021 [==============================] - 64s 63ms/step - loss: 0.7617 - accuracy: 0.2495\n",
            "Epoch 138/200\n",
            "1021/1021 [==============================] - ETA: 0s - loss: 0.7593 - accuracy: 0.2499\n",
            "Epoch 138: saving model to model/reddit_chatbot\\Transformer-saved-model-138-0.759272.hdf5\n",
            "1021/1021 [==============================] - 64s 62ms/step - loss: 0.7593 - accuracy: 0.2499\n",
            "Epoch 139/200\n",
            "1021/1021 [==============================] - ETA: 0s - loss: 0.7585 - accuracy: 0.2502\n",
            "Epoch 139: saving model to model/reddit_chatbot\\Transformer-saved-model-139-0.758459.hdf5\n",
            "1021/1021 [==============================] - 63s 61ms/step - loss: 0.7585 - accuracy: 0.2502\n",
            "Epoch 140/200\n",
            "1021/1021 [==============================] - ETA: 0s - loss: 0.7570 - accuracy: 0.2503\n",
            "Epoch 140: saving model to model/reddit_chatbot\\Transformer-saved-model-140-0.757026.hdf5\n",
            "1021/1021 [==============================] - 62s 61ms/step - loss: 0.7570 - accuracy: 0.2503\n",
            "Epoch 141/200\n",
            "1021/1021 [==============================] - ETA: 0s - loss: 0.7562 - accuracy: 0.2505\n",
            "Epoch 141: saving model to model/reddit_chatbot\\Transformer-saved-model-141-0.756155.hdf5\n",
            "1021/1021 [==============================] - 63s 62ms/step - loss: 0.7562 - accuracy: 0.2505\n",
            "Epoch 142/200\n",
            "1021/1021 [==============================] - ETA: 0s - loss: 0.7543 - accuracy: 0.2508\n",
            "Epoch 142: saving model to model/reddit_chatbot\\Transformer-saved-model-142-0.754254.hdf5\n",
            "1021/1021 [==============================] - 63s 62ms/step - loss: 0.7543 - accuracy: 0.2508\n",
            "Epoch 143/200\n",
            "1021/1021 [==============================] - ETA: 0s - loss: 0.7543 - accuracy: 0.2507\n",
            "Epoch 143: saving model to model/reddit_chatbot\\Transformer-saved-model-143-0.754274.hdf5\n",
            "1021/1021 [==============================] - 63s 62ms/step - loss: 0.7543 - accuracy: 0.2507\n",
            "Epoch 144/200\n",
            "1021/1021 [==============================] - ETA: 0s - loss: 0.7510 - accuracy: 0.2515\n",
            "Epoch 144: saving model to model/reddit_chatbot\\Transformer-saved-model-144-0.750965.hdf5\n",
            "1021/1021 [==============================] - 63s 62ms/step - loss: 0.7510 - accuracy: 0.2515\n",
            "Epoch 145/200\n",
            "1021/1021 [==============================] - ETA: 0s - loss: 0.7501 - accuracy: 0.2516\n",
            "Epoch 145: saving model to model/reddit_chatbot\\Transformer-saved-model-145-0.750069.hdf5\n",
            "1021/1021 [==============================] - 63s 62ms/step - loss: 0.7501 - accuracy: 0.2516\n",
            "Epoch 146/200\n",
            "1021/1021 [==============================] - ETA: 0s - loss: 0.7487 - accuracy: 0.2521\n",
            "Epoch 146: saving model to model/reddit_chatbot\\Transformer-saved-model-146-0.748726.hdf5\n",
            "1021/1021 [==============================] - 63s 62ms/step - loss: 0.7487 - accuracy: 0.2521\n",
            "Epoch 147/200\n",
            "1021/1021 [==============================] - ETA: 0s - loss: 0.7476 - accuracy: 0.2518\n",
            "Epoch 147: saving model to model/reddit_chatbot\\Transformer-saved-model-147-0.747605.hdf5\n",
            "1021/1021 [==============================] - 63s 62ms/step - loss: 0.7476 - accuracy: 0.2518\n",
            "Epoch 148/200\n",
            "1021/1021 [==============================] - ETA: 0s - loss: 0.7455 - accuracy: 0.2524\n",
            "Epoch 148: saving model to model/reddit_chatbot\\Transformer-saved-model-148-0.745493.hdf5\n",
            "1021/1021 [==============================] - 63s 62ms/step - loss: 0.7455 - accuracy: 0.2524\n",
            "Epoch 149/200\n",
            "1021/1021 [==============================] - ETA: 0s - loss: 0.7441 - accuracy: 0.2527\n",
            "Epoch 149: saving model to model/reddit_chatbot\\Transformer-saved-model-149-0.744130.hdf5\n",
            "1021/1021 [==============================] - 62s 61ms/step - loss: 0.7441 - accuracy: 0.2527\n",
            "Epoch 150/200\n",
            "1021/1021 [==============================] - ETA: 0s - loss: 0.7433 - accuracy: 0.2528\n",
            "Epoch 150: saving model to model/reddit_chatbot\\Transformer-saved-model-150-0.743274.hdf5\n",
            "1021/1021 [==============================] - 63s 62ms/step - loss: 0.7433 - accuracy: 0.2528\n",
            "Epoch 151/200\n",
            "1021/1021 [==============================] - ETA: 0s - loss: 0.7416 - accuracy: 0.2529\n",
            "Epoch 151: saving model to model/reddit_chatbot\\Transformer-saved-model-151-0.741601.hdf5\n",
            "1021/1021 [==============================] - 63s 62ms/step - loss: 0.7416 - accuracy: 0.2529\n",
            "Epoch 152/200\n",
            "1021/1021 [==============================] - ETA: 0s - loss: 0.7405 - accuracy: 0.2532\n",
            "Epoch 152: saving model to model/reddit_chatbot\\Transformer-saved-model-152-0.740450.hdf5\n",
            "1021/1021 [==============================] - 63s 62ms/step - loss: 0.7405 - accuracy: 0.2532\n",
            "Epoch 153/200\n",
            "1021/1021 [==============================] - ETA: 0s - loss: 0.7386 - accuracy: 0.2535\n",
            "Epoch 153: saving model to model/reddit_chatbot\\Transformer-saved-model-153-0.738560.hdf5\n",
            "1021/1021 [==============================] - 63s 61ms/step - loss: 0.7386 - accuracy: 0.2535\n",
            "Epoch 154/200\n",
            "1021/1021 [==============================] - ETA: 0s - loss: 0.7372 - accuracy: 0.2540\n",
            "Epoch 154: saving model to model/reddit_chatbot\\Transformer-saved-model-154-0.737153.hdf5\n",
            "1021/1021 [==============================] - 64s 62ms/step - loss: 0.7372 - accuracy: 0.2540\n",
            "Epoch 155/200\n",
            "1021/1021 [==============================] - ETA: 0s - loss: 0.7356 - accuracy: 0.2540\n",
            "Epoch 155: saving model to model/reddit_chatbot\\Transformer-saved-model-155-0.735576.hdf5\n",
            "1021/1021 [==============================] - 64s 63ms/step - loss: 0.7356 - accuracy: 0.2540\n",
            "Epoch 156/200\n",
            "1021/1021 [==============================] - ETA: 0s - loss: 0.7342 - accuracy: 0.2543\n",
            "Epoch 156: saving model to model/reddit_chatbot\\Transformer-saved-model-156-0.734179.hdf5\n",
            "1021/1021 [==============================] - 63s 62ms/step - loss: 0.7342 - accuracy: 0.2543\n",
            "Epoch 157/200\n",
            "1021/1021 [==============================] - ETA: 0s - loss: 0.7327 - accuracy: 0.2547\n",
            "Epoch 157: saving model to model/reddit_chatbot\\Transformer-saved-model-157-0.732678.hdf5\n",
            "1021/1021 [==============================] - 63s 62ms/step - loss: 0.7327 - accuracy: 0.2547\n",
            "Epoch 158/200\n",
            "1021/1021 [==============================] - ETA: 0s - loss: 0.7312 - accuracy: 0.2551\n",
            "Epoch 158: saving model to model/reddit_chatbot\\Transformer-saved-model-158-0.731247.hdf5\n",
            "1021/1021 [==============================] - 63s 61ms/step - loss: 0.7312 - accuracy: 0.2551\n",
            "Epoch 159/200\n",
            "1021/1021 [==============================] - ETA: 0s - loss: 0.7306 - accuracy: 0.2550\n",
            "Epoch 159: saving model to model/reddit_chatbot\\Transformer-saved-model-159-0.730596.hdf5\n",
            "1021/1021 [==============================] - 62s 61ms/step - loss: 0.7306 - accuracy: 0.2550\n",
            "Epoch 160/200\n",
            "1021/1021 [==============================] - ETA: 0s - loss: 0.7286 - accuracy: 0.2554\n",
            "Epoch 160: saving model to model/reddit_chatbot\\Transformer-saved-model-160-0.728608.hdf5\n",
            "1021/1021 [==============================] - 63s 61ms/step - loss: 0.7286 - accuracy: 0.2554\n",
            "Epoch 161/200\n",
            "1021/1021 [==============================] - ETA: 0s - loss: 0.7283 - accuracy: 0.2554\n",
            "Epoch 161: saving model to model/reddit_chatbot\\Transformer-saved-model-161-0.728286.hdf5\n",
            "1021/1021 [==============================] - 63s 62ms/step - loss: 0.7283 - accuracy: 0.2554\n",
            "Epoch 162/200\n",
            "1021/1021 [==============================] - ETA: 0s - loss: 0.7264 - accuracy: 0.2559\n",
            "Epoch 162: saving model to model/reddit_chatbot\\Transformer-saved-model-162-0.726382.hdf5\n",
            "1021/1021 [==============================] - 63s 61ms/step - loss: 0.7264 - accuracy: 0.2559\n",
            "Epoch 163/200\n",
            "1021/1021 [==============================] - ETA: 0s - loss: 0.7248 - accuracy: 0.2563\n",
            "Epoch 163: saving model to model/reddit_chatbot\\Transformer-saved-model-163-0.724789.hdf5\n",
            "1021/1021 [==============================] - 63s 62ms/step - loss: 0.7248 - accuracy: 0.2563\n",
            "Epoch 164/200\n",
            "1021/1021 [==============================] - ETA: 0s - loss: 0.7230 - accuracy: 0.2562\n",
            "Epoch 164: saving model to model/reddit_chatbot\\Transformer-saved-model-164-0.722962.hdf5\n",
            "1021/1021 [==============================] - 63s 62ms/step - loss: 0.7230 - accuracy: 0.2562\n",
            "Epoch 165/200\n",
            "1021/1021 [==============================] - ETA: 0s - loss: 0.7215 - accuracy: 0.2566\n",
            "Epoch 165: saving model to model/reddit_chatbot\\Transformer-saved-model-165-0.721466.hdf5\n",
            "1021/1021 [==============================] - 63s 61ms/step - loss: 0.7215 - accuracy: 0.2566\n",
            "Epoch 166/200\n",
            "1021/1021 [==============================] - ETA: 0s - loss: 0.7209 - accuracy: 0.2568\n",
            "Epoch 166: saving model to model/reddit_chatbot\\Transformer-saved-model-166-0.720937.hdf5\n",
            "1021/1021 [==============================] - 63s 62ms/step - loss: 0.7209 - accuracy: 0.2568\n",
            "Epoch 167/200\n",
            "1021/1021 [==============================] - ETA: 0s - loss: 0.7187 - accuracy: 0.2571\n",
            "Epoch 167: saving model to model/reddit_chatbot\\Transformer-saved-model-167-0.718661.hdf5\n",
            "1021/1021 [==============================] - 63s 62ms/step - loss: 0.7187 - accuracy: 0.2571\n",
            "Epoch 168/200\n",
            "1021/1021 [==============================] - ETA: 0s - loss: 0.7176 - accuracy: 0.2572\n",
            "Epoch 168: saving model to model/reddit_chatbot\\Transformer-saved-model-168-0.717645.hdf5\n",
            "1021/1021 [==============================] - 63s 62ms/step - loss: 0.7176 - accuracy: 0.2572\n",
            "Epoch 169/200\n",
            "1021/1021 [==============================] - ETA: 0s - loss: 0.7156 - accuracy: 0.2576\n",
            "Epoch 169: saving model to model/reddit_chatbot\\Transformer-saved-model-169-0.715642.hdf5\n",
            "1021/1021 [==============================] - 61s 59ms/step - loss: 0.7156 - accuracy: 0.2576\n",
            "Epoch 170/200\n",
            "1021/1021 [==============================] - ETA: 0s - loss: 0.7161 - accuracy: 0.2575\n",
            "Epoch 170: saving model to model/reddit_chatbot\\Transformer-saved-model-170-0.716145.hdf5\n",
            "1021/1021 [==============================] - 60s 59ms/step - loss: 0.7161 - accuracy: 0.2575\n",
            "Epoch 171/200\n",
            "1021/1021 [==============================] - ETA: 0s - loss: 0.7139 - accuracy: 0.2583\n",
            "Epoch 171: saving model to model/reddit_chatbot\\Transformer-saved-model-171-0.713892.hdf5\n",
            "1021/1021 [==============================] - 61s 60ms/step - loss: 0.7139 - accuracy: 0.2583\n",
            "Epoch 172/200\n",
            "1021/1021 [==============================] - ETA: 0s - loss: 0.7125 - accuracy: 0.2583\n",
            "Epoch 172: saving model to model/reddit_chatbot\\Transformer-saved-model-172-0.712493.hdf5\n",
            "1021/1021 [==============================] - 61s 60ms/step - loss: 0.7125 - accuracy: 0.2583\n",
            "Epoch 173/200\n",
            "1021/1021 [==============================] - ETA: 0s - loss: 0.7121 - accuracy: 0.2582\n",
            "Epoch 173: saving model to model/reddit_chatbot\\Transformer-saved-model-173-0.712077.hdf5\n",
            "1021/1021 [==============================] - 63s 62ms/step - loss: 0.7121 - accuracy: 0.2582\n",
            "Epoch 174/200\n",
            "1021/1021 [==============================] - ETA: 0s - loss: 0.7115 - accuracy: 0.2584\n",
            "Epoch 174: saving model to model/reddit_chatbot\\Transformer-saved-model-174-0.711539.hdf5\n",
            "1021/1021 [==============================] - 63s 62ms/step - loss: 0.7115 - accuracy: 0.2584\n",
            "Epoch 175/200\n",
            "1021/1021 [==============================] - ETA: 0s - loss: 0.7093 - accuracy: 0.2588\n",
            "Epoch 175: saving model to model/reddit_chatbot\\Transformer-saved-model-175-0.709257.hdf5\n",
            "1021/1021 [==============================] - 63s 62ms/step - loss: 0.7093 - accuracy: 0.2588\n",
            "Epoch 176/200\n",
            "1021/1021 [==============================] - ETA: 0s - loss: 0.7089 - accuracy: 0.2591\n",
            "Epoch 176: saving model to model/reddit_chatbot\\Transformer-saved-model-176-0.708902.hdf5\n",
            "1021/1021 [==============================] - 64s 62ms/step - loss: 0.7089 - accuracy: 0.2591\n",
            "Epoch 177/200\n",
            " 850/1021 [=======================>......] - ETA: 10s - loss: 0.7005 - accuracy: 0.2614"
          ]
        },
        {
          "ename": "KeyboardInterrupt",
          "evalue": "",
          "output_type": "error",
          "traceback": [
            "\u001b[1;31m---------------------------------------------------------------------------\u001b[0m",
            "\u001b[1;31mKeyboardInterrupt\u001b[0m                         Traceback (most recent call last)",
            "Cell \u001b[1;32mIn[43], line 5\u001b[0m\n\u001b[0;32m      1\u001b[0m cp_callback \u001b[38;5;241m=\u001b[39m tf\u001b[38;5;241m.\u001b[39mkeras\u001b[38;5;241m.\u001b[39mcallbacks\u001b[38;5;241m.\u001b[39mModelCheckpoint(filepath\u001b[38;5;241m=\u001b[39m\u001b[38;5;124m\"\u001b[39m\u001b[38;5;124mmodel/reddit_chatbot/\u001b[39m\u001b[38;5;124m\"\u001b[39m \u001b[38;5;241m+\u001b[39m \u001b[38;5;124m\"\u001b[39m\u001b[38;5;124mTransformer-\u001b[39m\u001b[38;5;124m\"\u001b[39m \u001b[38;5;241m+\u001b[39m \u001b[38;5;124m\"\u001b[39m\u001b[38;5;124msaved-model-\u001b[39m\u001b[38;5;132;01m{epoch:02d}\u001b[39;00m\u001b[38;5;124m-\u001b[39m\u001b[38;5;132;01m{loss:.6f}\u001b[39;00m\u001b[38;5;124m.hdf5\u001b[39m\u001b[38;5;124m\"\u001b[39m,\n\u001b[0;32m      2\u001b[0m                                                  save_weights_only\u001b[38;5;241m=\u001b[39m\u001b[38;5;28;01mTrue\u001b[39;00m,\n\u001b[0;32m      3\u001b[0m                                                  verbose\u001b[38;5;241m=\u001b[39m\u001b[38;5;241m1\u001b[39m)\n\u001b[1;32m----> 5\u001b[0m \u001b[43mmodel\u001b[49m\u001b[38;5;241;43m.\u001b[39;49m\u001b[43mfit\u001b[49m\u001b[43m(\u001b[49m\u001b[43mdataset\u001b[49m\u001b[43m,\u001b[49m\u001b[43m \u001b[49m\u001b[43mepochs\u001b[49m\u001b[38;5;241;43m=\u001b[39;49m\u001b[38;5;241;43m200\u001b[39;49m\u001b[43m,\u001b[49m\u001b[43m \u001b[49m\u001b[43mcallbacks\u001b[49m\u001b[38;5;241;43m=\u001b[39;49m\u001b[43m[\u001b[49m\u001b[43mcp_callback\u001b[49m\u001b[43m]\u001b[49m\u001b[43m)\u001b[49m\n",
            "File \u001b[1;32mc:\\Users\\ryanb\\AppData\\Local\\miniconda3\\envs\\tensorflowgpu\\lib\\site-packages\\keras\\utils\\traceback_utils.py:65\u001b[0m, in \u001b[0;36mfilter_traceback.<locals>.error_handler\u001b[1;34m(*args, **kwargs)\u001b[0m\n\u001b[0;32m     63\u001b[0m filtered_tb \u001b[38;5;241m=\u001b[39m \u001b[38;5;28;01mNone\u001b[39;00m\n\u001b[0;32m     64\u001b[0m \u001b[38;5;28;01mtry\u001b[39;00m:\n\u001b[1;32m---> 65\u001b[0m     \u001b[38;5;28;01mreturn\u001b[39;00m fn(\u001b[38;5;241m*\u001b[39margs, \u001b[38;5;241m*\u001b[39m\u001b[38;5;241m*\u001b[39mkwargs)\n\u001b[0;32m     66\u001b[0m \u001b[38;5;28;01mexcept\u001b[39;00m \u001b[38;5;167;01mException\u001b[39;00m \u001b[38;5;28;01mas\u001b[39;00m e:\n\u001b[0;32m     67\u001b[0m     filtered_tb \u001b[38;5;241m=\u001b[39m _process_traceback_frames(e\u001b[38;5;241m.\u001b[39m__traceback__)\n",
            "File \u001b[1;32mc:\\Users\\ryanb\\AppData\\Local\\miniconda3\\envs\\tensorflowgpu\\lib\\site-packages\\keras\\engine\\training.py:1564\u001b[0m, in \u001b[0;36mModel.fit\u001b[1;34m(self, x, y, batch_size, epochs, verbose, callbacks, validation_split, validation_data, shuffle, class_weight, sample_weight, initial_epoch, steps_per_epoch, validation_steps, validation_batch_size, validation_freq, max_queue_size, workers, use_multiprocessing)\u001b[0m\n\u001b[0;32m   1556\u001b[0m \u001b[38;5;28;01mwith\u001b[39;00m tf\u001b[38;5;241m.\u001b[39mprofiler\u001b[38;5;241m.\u001b[39mexperimental\u001b[38;5;241m.\u001b[39mTrace(\n\u001b[0;32m   1557\u001b[0m     \u001b[38;5;124m\"\u001b[39m\u001b[38;5;124mtrain\u001b[39m\u001b[38;5;124m\"\u001b[39m,\n\u001b[0;32m   1558\u001b[0m     epoch_num\u001b[38;5;241m=\u001b[39mepoch,\n\u001b[1;32m   (...)\u001b[0m\n\u001b[0;32m   1561\u001b[0m     _r\u001b[38;5;241m=\u001b[39m\u001b[38;5;241m1\u001b[39m,\n\u001b[0;32m   1562\u001b[0m ):\n\u001b[0;32m   1563\u001b[0m     callbacks\u001b[38;5;241m.\u001b[39mon_train_batch_begin(step)\n\u001b[1;32m-> 1564\u001b[0m     tmp_logs \u001b[38;5;241m=\u001b[39m \u001b[38;5;28;43mself\u001b[39;49m\u001b[38;5;241;43m.\u001b[39;49m\u001b[43mtrain_function\u001b[49m\u001b[43m(\u001b[49m\u001b[43miterator\u001b[49m\u001b[43m)\u001b[49m\n\u001b[0;32m   1565\u001b[0m     \u001b[38;5;28;01mif\u001b[39;00m data_handler\u001b[38;5;241m.\u001b[39mshould_sync:\n\u001b[0;32m   1566\u001b[0m         context\u001b[38;5;241m.\u001b[39masync_wait()\n",
            "File \u001b[1;32mc:\\Users\\ryanb\\AppData\\Local\\miniconda3\\envs\\tensorflowgpu\\lib\\site-packages\\tensorflow\\python\\util\\traceback_utils.py:150\u001b[0m, in \u001b[0;36mfilter_traceback.<locals>.error_handler\u001b[1;34m(*args, **kwargs)\u001b[0m\n\u001b[0;32m    148\u001b[0m filtered_tb \u001b[38;5;241m=\u001b[39m \u001b[38;5;28;01mNone\u001b[39;00m\n\u001b[0;32m    149\u001b[0m \u001b[38;5;28;01mtry\u001b[39;00m:\n\u001b[1;32m--> 150\u001b[0m   \u001b[38;5;28;01mreturn\u001b[39;00m fn(\u001b[38;5;241m*\u001b[39margs, \u001b[38;5;241m*\u001b[39m\u001b[38;5;241m*\u001b[39mkwargs)\n\u001b[0;32m    151\u001b[0m \u001b[38;5;28;01mexcept\u001b[39;00m \u001b[38;5;167;01mException\u001b[39;00m \u001b[38;5;28;01mas\u001b[39;00m e:\n\u001b[0;32m    152\u001b[0m   filtered_tb \u001b[38;5;241m=\u001b[39m _process_traceback_frames(e\u001b[38;5;241m.\u001b[39m__traceback__)\n",
            "File \u001b[1;32mc:\\Users\\ryanb\\AppData\\Local\\miniconda3\\envs\\tensorflowgpu\\lib\\site-packages\\tensorflow\\python\\eager\\def_function.py:915\u001b[0m, in \u001b[0;36mFunction.__call__\u001b[1;34m(self, *args, **kwds)\u001b[0m\n\u001b[0;32m    912\u001b[0m compiler \u001b[38;5;241m=\u001b[39m \u001b[38;5;124m\"\u001b[39m\u001b[38;5;124mxla\u001b[39m\u001b[38;5;124m\"\u001b[39m \u001b[38;5;28;01mif\u001b[39;00m \u001b[38;5;28mself\u001b[39m\u001b[38;5;241m.\u001b[39m_jit_compile \u001b[38;5;28;01melse\u001b[39;00m \u001b[38;5;124m\"\u001b[39m\u001b[38;5;124mnonXla\u001b[39m\u001b[38;5;124m\"\u001b[39m\n\u001b[0;32m    914\u001b[0m \u001b[38;5;28;01mwith\u001b[39;00m OptionalXlaContext(\u001b[38;5;28mself\u001b[39m\u001b[38;5;241m.\u001b[39m_jit_compile):\n\u001b[1;32m--> 915\u001b[0m   result \u001b[38;5;241m=\u001b[39m \u001b[38;5;28mself\u001b[39m\u001b[38;5;241m.\u001b[39m_call(\u001b[38;5;241m*\u001b[39margs, \u001b[38;5;241m*\u001b[39m\u001b[38;5;241m*\u001b[39mkwds)\n\u001b[0;32m    917\u001b[0m new_tracing_count \u001b[38;5;241m=\u001b[39m \u001b[38;5;28mself\u001b[39m\u001b[38;5;241m.\u001b[39mexperimental_get_tracing_count()\n\u001b[0;32m    918\u001b[0m without_tracing \u001b[38;5;241m=\u001b[39m (tracing_count \u001b[38;5;241m==\u001b[39m new_tracing_count)\n",
            "File \u001b[1;32mc:\\Users\\ryanb\\AppData\\Local\\miniconda3\\envs\\tensorflowgpu\\lib\\site-packages\\tensorflow\\python\\eager\\def_function.py:947\u001b[0m, in \u001b[0;36mFunction._call\u001b[1;34m(self, *args, **kwds)\u001b[0m\n\u001b[0;32m    944\u001b[0m   \u001b[38;5;28mself\u001b[39m\u001b[38;5;241m.\u001b[39m_lock\u001b[38;5;241m.\u001b[39mrelease()\n\u001b[0;32m    945\u001b[0m   \u001b[38;5;66;03m# In this case we have created variables on the first call, so we run the\u001b[39;00m\n\u001b[0;32m    946\u001b[0m   \u001b[38;5;66;03m# defunned version which is guaranteed to never create variables.\u001b[39;00m\n\u001b[1;32m--> 947\u001b[0m   \u001b[38;5;28;01mreturn\u001b[39;00m \u001b[38;5;28mself\u001b[39m\u001b[38;5;241m.\u001b[39m_stateless_fn(\u001b[38;5;241m*\u001b[39margs, \u001b[38;5;241m*\u001b[39m\u001b[38;5;241m*\u001b[39mkwds)  \u001b[38;5;66;03m# pylint: disable=not-callable\u001b[39;00m\n\u001b[0;32m    948\u001b[0m \u001b[38;5;28;01melif\u001b[39;00m \u001b[38;5;28mself\u001b[39m\u001b[38;5;241m.\u001b[39m_stateful_fn \u001b[38;5;129;01mis\u001b[39;00m \u001b[38;5;129;01mnot\u001b[39;00m \u001b[38;5;28;01mNone\u001b[39;00m:\n\u001b[0;32m    949\u001b[0m   \u001b[38;5;66;03m# Release the lock early so that multiple threads can perform the call\u001b[39;00m\n\u001b[0;32m    950\u001b[0m   \u001b[38;5;66;03m# in parallel.\u001b[39;00m\n\u001b[0;32m    951\u001b[0m   \u001b[38;5;28mself\u001b[39m\u001b[38;5;241m.\u001b[39m_lock\u001b[38;5;241m.\u001b[39mrelease()\n",
            "File \u001b[1;32mc:\\Users\\ryanb\\AppData\\Local\\miniconda3\\envs\\tensorflowgpu\\lib\\site-packages\\tensorflow\\python\\eager\\function.py:2496\u001b[0m, in \u001b[0;36mFunction.__call__\u001b[1;34m(self, *args, **kwargs)\u001b[0m\n\u001b[0;32m   2493\u001b[0m \u001b[38;5;28;01mwith\u001b[39;00m \u001b[38;5;28mself\u001b[39m\u001b[38;5;241m.\u001b[39m_lock:\n\u001b[0;32m   2494\u001b[0m   (graph_function,\n\u001b[0;32m   2495\u001b[0m    filtered_flat_args) \u001b[38;5;241m=\u001b[39m \u001b[38;5;28mself\u001b[39m\u001b[38;5;241m.\u001b[39m_maybe_define_function(args, kwargs)\n\u001b[1;32m-> 2496\u001b[0m \u001b[38;5;28;01mreturn\u001b[39;00m \u001b[43mgraph_function\u001b[49m\u001b[38;5;241;43m.\u001b[39;49m\u001b[43m_call_flat\u001b[49m\u001b[43m(\u001b[49m\n\u001b[0;32m   2497\u001b[0m \u001b[43m    \u001b[49m\u001b[43mfiltered_flat_args\u001b[49m\u001b[43m,\u001b[49m\u001b[43m \u001b[49m\u001b[43mcaptured_inputs\u001b[49m\u001b[38;5;241;43m=\u001b[39;49m\u001b[43mgraph_function\u001b[49m\u001b[38;5;241;43m.\u001b[39;49m\u001b[43mcaptured_inputs\u001b[49m\u001b[43m)\u001b[49m\n",
            "File \u001b[1;32mc:\\Users\\ryanb\\AppData\\Local\\miniconda3\\envs\\tensorflowgpu\\lib\\site-packages\\tensorflow\\python\\eager\\function.py:1862\u001b[0m, in \u001b[0;36mConcreteFunction._call_flat\u001b[1;34m(self, args, captured_inputs, cancellation_manager)\u001b[0m\n\u001b[0;32m   1858\u001b[0m possible_gradient_type \u001b[38;5;241m=\u001b[39m gradients_util\u001b[38;5;241m.\u001b[39mPossibleTapeGradientTypes(args)\n\u001b[0;32m   1859\u001b[0m \u001b[38;5;28;01mif\u001b[39;00m (possible_gradient_type \u001b[38;5;241m==\u001b[39m gradients_util\u001b[38;5;241m.\u001b[39mPOSSIBLE_GRADIENT_TYPES_NONE\n\u001b[0;32m   1860\u001b[0m     \u001b[38;5;129;01mand\u001b[39;00m executing_eagerly):\n\u001b[0;32m   1861\u001b[0m   \u001b[38;5;66;03m# No tape is watching; skip to running the function.\u001b[39;00m\n\u001b[1;32m-> 1862\u001b[0m   \u001b[38;5;28;01mreturn\u001b[39;00m \u001b[38;5;28mself\u001b[39m\u001b[38;5;241m.\u001b[39m_build_call_outputs(\u001b[38;5;28;43mself\u001b[39;49m\u001b[38;5;241;43m.\u001b[39;49m\u001b[43m_inference_function\u001b[49m\u001b[38;5;241;43m.\u001b[39;49m\u001b[43mcall\u001b[49m\u001b[43m(\u001b[49m\n\u001b[0;32m   1863\u001b[0m \u001b[43m      \u001b[49m\u001b[43mctx\u001b[49m\u001b[43m,\u001b[49m\u001b[43m \u001b[49m\u001b[43margs\u001b[49m\u001b[43m,\u001b[49m\u001b[43m \u001b[49m\u001b[43mcancellation_manager\u001b[49m\u001b[38;5;241;43m=\u001b[39;49m\u001b[43mcancellation_manager\u001b[49m\u001b[43m)\u001b[49m)\n\u001b[0;32m   1864\u001b[0m forward_backward \u001b[38;5;241m=\u001b[39m \u001b[38;5;28mself\u001b[39m\u001b[38;5;241m.\u001b[39m_select_forward_and_backward_functions(\n\u001b[0;32m   1865\u001b[0m     args,\n\u001b[0;32m   1866\u001b[0m     possible_gradient_type,\n\u001b[0;32m   1867\u001b[0m     executing_eagerly)\n\u001b[0;32m   1868\u001b[0m forward_function, args_with_tangents \u001b[38;5;241m=\u001b[39m forward_backward\u001b[38;5;241m.\u001b[39mforward()\n",
            "File \u001b[1;32mc:\\Users\\ryanb\\AppData\\Local\\miniconda3\\envs\\tensorflowgpu\\lib\\site-packages\\tensorflow\\python\\eager\\function.py:499\u001b[0m, in \u001b[0;36m_EagerDefinedFunction.call\u001b[1;34m(self, ctx, args, cancellation_manager)\u001b[0m\n\u001b[0;32m    497\u001b[0m \u001b[38;5;28;01mwith\u001b[39;00m _InterpolateFunctionError(\u001b[38;5;28mself\u001b[39m):\n\u001b[0;32m    498\u001b[0m   \u001b[38;5;28;01mif\u001b[39;00m cancellation_manager \u001b[38;5;129;01mis\u001b[39;00m \u001b[38;5;28;01mNone\u001b[39;00m:\n\u001b[1;32m--> 499\u001b[0m     outputs \u001b[38;5;241m=\u001b[39m \u001b[43mexecute\u001b[49m\u001b[38;5;241;43m.\u001b[39;49m\u001b[43mexecute\u001b[49m\u001b[43m(\u001b[49m\n\u001b[0;32m    500\u001b[0m \u001b[43m        \u001b[49m\u001b[38;5;28;43mstr\u001b[39;49m\u001b[43m(\u001b[49m\u001b[38;5;28;43mself\u001b[39;49m\u001b[38;5;241;43m.\u001b[39;49m\u001b[43msignature\u001b[49m\u001b[38;5;241;43m.\u001b[39;49m\u001b[43mname\u001b[49m\u001b[43m)\u001b[49m\u001b[43m,\u001b[49m\n\u001b[0;32m    501\u001b[0m \u001b[43m        \u001b[49m\u001b[43mnum_outputs\u001b[49m\u001b[38;5;241;43m=\u001b[39;49m\u001b[38;5;28;43mself\u001b[39;49m\u001b[38;5;241;43m.\u001b[39;49m\u001b[43m_num_outputs\u001b[49m\u001b[43m,\u001b[49m\n\u001b[0;32m    502\u001b[0m \u001b[43m        \u001b[49m\u001b[43minputs\u001b[49m\u001b[38;5;241;43m=\u001b[39;49m\u001b[43margs\u001b[49m\u001b[43m,\u001b[49m\n\u001b[0;32m    503\u001b[0m \u001b[43m        \u001b[49m\u001b[43mattrs\u001b[49m\u001b[38;5;241;43m=\u001b[39;49m\u001b[43mattrs\u001b[49m\u001b[43m,\u001b[49m\n\u001b[0;32m    504\u001b[0m \u001b[43m        \u001b[49m\u001b[43mctx\u001b[49m\u001b[38;5;241;43m=\u001b[39;49m\u001b[43mctx\u001b[49m\u001b[43m)\u001b[49m\n\u001b[0;32m    505\u001b[0m   \u001b[38;5;28;01melse\u001b[39;00m:\n\u001b[0;32m    506\u001b[0m     outputs \u001b[38;5;241m=\u001b[39m execute\u001b[38;5;241m.\u001b[39mexecute_with_cancellation(\n\u001b[0;32m    507\u001b[0m         \u001b[38;5;28mstr\u001b[39m(\u001b[38;5;28mself\u001b[39m\u001b[38;5;241m.\u001b[39msignature\u001b[38;5;241m.\u001b[39mname),\n\u001b[0;32m    508\u001b[0m         num_outputs\u001b[38;5;241m=\u001b[39m\u001b[38;5;28mself\u001b[39m\u001b[38;5;241m.\u001b[39m_num_outputs,\n\u001b[1;32m   (...)\u001b[0m\n\u001b[0;32m    511\u001b[0m         ctx\u001b[38;5;241m=\u001b[39mctx,\n\u001b[0;32m    512\u001b[0m         cancellation_manager\u001b[38;5;241m=\u001b[39mcancellation_manager)\n",
            "File \u001b[1;32mc:\\Users\\ryanb\\AppData\\Local\\miniconda3\\envs\\tensorflowgpu\\lib\\site-packages\\tensorflow\\python\\eager\\execute.py:54\u001b[0m, in \u001b[0;36mquick_execute\u001b[1;34m(op_name, num_outputs, inputs, attrs, ctx, name)\u001b[0m\n\u001b[0;32m     52\u001b[0m \u001b[38;5;28;01mtry\u001b[39;00m:\n\u001b[0;32m     53\u001b[0m   ctx\u001b[38;5;241m.\u001b[39mensure_initialized()\n\u001b[1;32m---> 54\u001b[0m   tensors \u001b[38;5;241m=\u001b[39m \u001b[43mpywrap_tfe\u001b[49m\u001b[38;5;241;43m.\u001b[39;49m\u001b[43mTFE_Py_Execute\u001b[49m\u001b[43m(\u001b[49m\u001b[43mctx\u001b[49m\u001b[38;5;241;43m.\u001b[39;49m\u001b[43m_handle\u001b[49m\u001b[43m,\u001b[49m\u001b[43m \u001b[49m\u001b[43mdevice_name\u001b[49m\u001b[43m,\u001b[49m\u001b[43m \u001b[49m\u001b[43mop_name\u001b[49m\u001b[43m,\u001b[49m\n\u001b[0;32m     55\u001b[0m \u001b[43m                                      \u001b[49m\u001b[43minputs\u001b[49m\u001b[43m,\u001b[49m\u001b[43m \u001b[49m\u001b[43mattrs\u001b[49m\u001b[43m,\u001b[49m\u001b[43m \u001b[49m\u001b[43mnum_outputs\u001b[49m\u001b[43m)\u001b[49m\n\u001b[0;32m     56\u001b[0m \u001b[38;5;28;01mexcept\u001b[39;00m core\u001b[38;5;241m.\u001b[39m_NotOkStatusException \u001b[38;5;28;01mas\u001b[39;00m e:\n\u001b[0;32m     57\u001b[0m   \u001b[38;5;28;01mif\u001b[39;00m name \u001b[38;5;129;01mis\u001b[39;00m \u001b[38;5;129;01mnot\u001b[39;00m \u001b[38;5;28;01mNone\u001b[39;00m:\n",
            "\u001b[1;31mKeyboardInterrupt\u001b[0m: "
          ]
        }
      ],
      "source": [
        "cp_callback = tf.keras.callbacks.ModelCheckpoint(filepath=\"model/reddit_chatbot/\" + \"Transformer-\" + \"saved-model-{epoch:02d}-{loss:.6f}.hdf5\",\n",
        "                                                 save_weights_only=True,\n",
        "                                                 verbose=1)\n",
        "\n",
        "model.fit(dataset, epochs=200, callbacks=[cp_callback])"
      ]
    },
    {
      "cell_type": "markdown",
      "metadata": {
        "colab_type": "text",
        "id": "EnBDd4DwSuUV"
      },
      "source": [
        "# Testing"
      ]
    },
    {
      "cell_type": "code",
      "execution_count": 44,
      "metadata": {
        "colab": {},
        "colab_type": "code",
        "id": "IcOCHPjrSvXZ"
      },
      "outputs": [],
      "source": [
        "def evaluate(sentence):\n",
        "  sentence = preprocess_sentence(sentence)\n",
        "\n",
        "  sentence = tf.expand_dims(\n",
        "      START_TOKEN + tokenizer.encode(sentence) + END_TOKEN, axis=0)\n",
        "\n",
        "  output = tf.expand_dims(START_TOKEN, 0)\n",
        "\n",
        "  for i in range(MAX_LENGTH):\n",
        "    predictions = model(inputs=[sentence, output], training=False)\n",
        "\n",
        "    # select the last word from the seq_len dimension\n",
        "    predictions = predictions[:, -1:, :]\n",
        "    predicted_id = tf.cast(tf.argmax(predictions, axis=-1), tf.int32)\n",
        "\n",
        "    # return the result if the predicted_id is equal to the end token\n",
        "    if tf.equal(predicted_id, END_TOKEN[0]):\n",
        "      break\n",
        "\n",
        "    # concatenated the predicted_id to the output which is given to the decoder\n",
        "    # as its input.\n",
        "    output = tf.concat([output, predicted_id], axis=-1)\n",
        "\n",
        "  return tf.squeeze(output, axis=0)\n",
        "\n",
        "\n",
        "def predict(sentence):\n",
        "  prediction = evaluate(sentence)\n",
        "\n",
        "  predicted_sentence = tokenizer.decode(\n",
        "      [i for i in prediction if i < tokenizer.vocab_size])\n",
        "\n",
        "  print('Input: {}'.format(sentence))\n",
        "  print('Output: {}'.format(predicted_sentence))\n",
        "\n",
        "  return predicted_sentence"
      ]
    },
    {
      "cell_type": "code",
      "execution_count": 45,
      "metadata": {
        "colab": {
          "base_uri": "https://localhost:8080/",
          "height": 67
        },
        "colab_type": "code",
        "id": "HmeMYsRcSxsL",
        "outputId": "a47de76a-b06d-4573-b59e-b72c095f0a36"
      },
      "outputs": [
        {
          "name": "stdout",
          "output_type": "stream",
          "text": [
            "Input: Where have you been?\n",
            "Output: I like your specialized bottles?\n",
            "\n"
          ]
        }
      ],
      "source": [
        "output = predict('Where have you been?')"
      ]
    },
    {
      "cell_type": "code",
      "execution_count": 46,
      "metadata": {
        "colab": {
          "base_uri": "https://localhost:8080/",
          "height": 67
        },
        "colab_type": "code",
        "id": "K9rNT8zjS-Uo",
        "outputId": "8fb6caae-5fd9-4626-f72d-daaea568dfc8"
      },
      "outputs": [
        {
          "name": "stdout",
          "output_type": "stream",
          "text": [
            "Input: I love you\n",
            "Output: I think he is in love that way\n",
            "\n"
          ]
        }
      ],
      "source": [
        "output = predict('I love you')"
      ]
    },
    {
      "cell_type": "code",
      "execution_count": 47,
      "metadata": {
        "colab": {
          "base_uri": "https://localhost:8080/",
          "height": 67
        },
        "colab_type": "code",
        "id": "pIKPONOdTBW1",
        "outputId": "3405b90e-9de7-4e62-cea2-980d1e8a3f71"
      },
      "outputs": [
        {
          "name": "stdout",
          "output_type": "stream",
          "text": [
            "Input: Hi\n",
            "Output: *tips fedora*\n",
            "\n"
          ]
        }
      ],
      "source": [
        "output = predict('Hi')"
      ]
    },
    {
      "cell_type": "markdown",
      "metadata": {
        "colab_type": "text",
        "id": "h8xJ9XM8bY2E"
      },
      "source": [
        "# Loading trained model"
      ]
    },
    {
      "cell_type": "code",
      "execution_count": 57,
      "metadata": {
        "colab": {},
        "colab_type": "code",
        "id": "zis5iCDCbc99"
      },
      "outputs": [],
      "source": [
        "re_model = transformer(\n",
        "    vocab_size=VOCAB_SIZE,\n",
        "    num_layers=NUM_LAYERS,\n",
        "    units=UNITS,\n",
        "    d_model=D_MODEL,\n",
        "    num_heads=NUM_HEADS,\n",
        "    dropout=DROPOUT)\n",
        "\n",
        "re_model.load_weights(\"drive/My Drive/models/reddit-chatbot/Transformer-saved-model-100-0.813247.hdf5\")"
      ]
    },
    {
      "cell_type": "code",
      "execution_count": 58,
      "metadata": {
        "colab": {},
        "colab_type": "code",
        "id": "OpJay7-PkFyr"
      },
      "outputs": [],
      "source": [
        "def evaluate(sentence):\n",
        "  sentence = preprocess_sentence(sentence)\n",
        "\n",
        "  sentence = tf.expand_dims(\n",
        "      START_TOKEN + tokenizer.encode(sentence) + END_TOKEN, axis=0)\n",
        "\n",
        "  output = tf.expand_dims(START_TOKEN, 0)\n",
        "\n",
        "  for i in range(MAX_LENGTH):\n",
        "    predictions = re_model(inputs=[sentence, output], training=False)\n",
        "\n",
        "    # select the last word from the seq_len dimension\n",
        "    predictions = predictions[:, -1:, :]\n",
        "    predicted_id = tf.cast(tf.argmax(predictions, axis=-1), tf.int32)\n",
        "\n",
        "    # return the result if the predicted_id is equal to the end token\n",
        "    if tf.equal(predicted_id, END_TOKEN[0]):\n",
        "      break\n",
        "\n",
        "    # concatenated the predicted_id to the output which is given to the decoder\n",
        "    # as its input.\n",
        "    output = tf.concat([output, predicted_id], axis=-1)\n",
        "\n",
        "  return tf.squeeze(output, axis=0)\n",
        "\n",
        "\n",
        "def predict(sentence):\n",
        "  prediction = evaluate(sentence)\n",
        "\n",
        "  predicted_sentence = tokenizer.decode(\n",
        "      [i for i in prediction if i < tokenizer.vocab_size])\n",
        "\n",
        "  print('Input: {}'.format(sentence))\n",
        "  print('Output: {}'.format(predicted_sentence))\n",
        "\n",
        "  return predicted_sentence"
      ]
    },
    {
      "cell_type": "code",
      "execution_count": 59,
      "metadata": {
        "colab": {
          "base_uri": "https://localhost:8080/",
          "height": 67
        },
        "colab_type": "code",
        "id": "Jl4KxxYukRfL",
        "outputId": "b52789c5-f216-4c36-de32-ab58b4b7e06b"
      },
      "outputs": [
        {
          "name": "stdout",
          "output_type": "stream",
          "text": [
            "Input: Where have you been?\n",
            "Output: I am so jealous of that bike.\n",
            "\n"
          ]
        }
      ],
      "source": [
        "output = predict('Where have you been?')"
      ]
    },
    {
      "cell_type": "code",
      "execution_count": 60,
      "metadata": {
        "colab": {
          "base_uri": "https://localhost:8080/",
          "height": 67
        },
        "colab_type": "code",
        "id": "q6au6uNikSI9",
        "outputId": "88c58f8d-fdb5-437b-a4f9-870d8895f647"
      },
      "outputs": [
        {
          "name": "stdout",
          "output_type": "stream",
          "text": [
            "Input: I love you\n",
            "Output: I love you too.\n",
            "\n"
          ]
        }
      ],
      "source": [
        "output = predict('I love you')"
      ]
    },
    {
      "cell_type": "code",
      "execution_count": 61,
      "metadata": {
        "colab": {
          "base_uri": "https://localhost:8080/",
          "height": 67
        },
        "colab_type": "code",
        "id": "WSVwNUvfkT4_",
        "outputId": "8b9bfc8b-21cc-432c-82ea-2d278cde20df"
      },
      "outputs": [
        {
          "name": "stdout",
          "output_type": "stream",
          "text": [
            "Input: U fat\n",
            "Output: \\o/\n",
            "\n"
          ]
        }
      ],
      "source": [
        "output = predict('U fat')"
      ]
    },
    {
      "cell_type": "code",
      "execution_count": null,
      "metadata": {
        "colab": {},
        "colab_type": "code",
        "id": "meoLLrhGiRLa"
      },
      "outputs": [],
      "source": []
    }
  ],
  "metadata": {
    "accelerator": "GPU",
    "colab": {
      "collapsed_sections": [],
      "name": "Reddit-Chatbot.ipynb",
      "provenance": []
    },
    "kernelspec": {
      "display_name": "Python 3",
      "name": "python3"
    },
    "language_info": {
      "codemirror_mode": {
        "name": "ipython",
        "version": 3
      },
      "file_extension": ".py",
      "mimetype": "text/x-python",
      "name": "python",
      "nbconvert_exporter": "python",
      "pygments_lexer": "ipython3",
      "version": "3.10.14"
    }
  },
  "nbformat": 4,
  "nbformat_minor": 0
}
